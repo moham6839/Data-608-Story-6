{
  "nbformat": 4,
  "nbformat_minor": 0,
  "metadata": {
    "colab": {
      "provenance": [],
      "toc_visible": true,
      "include_colab_link": true
    },
    "kernelspec": {
      "name": "python3",
      "display_name": "Python 3"
    },
    "language_info": {
      "name": "python"
    }
  },
  "cells": [
    {
      "cell_type": "markdown",
      "metadata": {
        "id": "view-in-github",
        "colab_type": "text"
      },
      "source": [
        "<a href=\"https://colab.research.google.com/github/moham6839/Data-608-Story-6/blob/main/Copy_of_What_Is_The_State_of_Food_Security_and_Nutrition_in_the_US.ipynb\" target=\"_parent\"><img src=\"https://colab.research.google.com/assets/colab-badge.svg\" alt=\"Open In Colab\"/></a>"
      ]
    },
    {
      "cell_type": "markdown",
      "source": [
        "# What Is The State of Food Security and Nutrition in the US"
      ],
      "metadata": {
        "id": "bsGuh7rp4FV1"
      }
    },
    {
      "cell_type": "markdown",
      "source": [],
      "metadata": {
        "id": "bkATPKnt-Fjx"
      }
    },
    {
      "cell_type": "code",
      "source": [
        "!pip install --upgrade plotly\n",
        "!pip install kaleido\n",
        "!pip install Dash"
      ],
      "metadata": {
        "colab": {
          "base_uri": "https://localhost:8080/"
        },
        "id": "H6deVNjB-GKB",
        "outputId": "0ac9059e-48bd-4a0d-ce2c-bc51ec304c37"
      },
      "execution_count": 1,
      "outputs": [
        {
          "output_type": "stream",
          "name": "stdout",
          "text": [
            "Requirement already satisfied: plotly in /usr/local/lib/python3.10/dist-packages (5.15.0)\n",
            "Collecting plotly\n",
            "  Downloading plotly-5.18.0-py3-none-any.whl (15.6 MB)\n",
            "\u001b[2K     \u001b[90m━━━━━━━━━━━━━━━━━━━━━━━━━━━━━━━━━━━━━━━━\u001b[0m \u001b[32m15.6/15.6 MB\u001b[0m \u001b[31m53.3 MB/s\u001b[0m eta \u001b[36m0:00:00\u001b[0m\n",
            "\u001b[?25hRequirement already satisfied: tenacity>=6.2.0 in /usr/local/lib/python3.10/dist-packages (from plotly) (8.2.3)\n",
            "Requirement already satisfied: packaging in /usr/local/lib/python3.10/dist-packages (from plotly) (23.2)\n",
            "Installing collected packages: plotly\n",
            "  Attempting uninstall: plotly\n",
            "    Found existing installation: plotly 5.15.0\n",
            "    Uninstalling plotly-5.15.0:\n",
            "      Successfully uninstalled plotly-5.15.0\n",
            "\u001b[31mERROR: pip's dependency resolver does not currently take into account all the packages that are installed. This behaviour is the source of the following dependency conflicts.\n",
            "lida 0.0.10 requires fastapi, which is not installed.\n",
            "lida 0.0.10 requires kaleido, which is not installed.\n",
            "lida 0.0.10 requires python-multipart, which is not installed.\n",
            "lida 0.0.10 requires uvicorn, which is not installed.\u001b[0m\u001b[31m\n",
            "\u001b[0mSuccessfully installed plotly-5.18.0\n",
            "Collecting kaleido\n",
            "  Downloading kaleido-0.2.1-py2.py3-none-manylinux1_x86_64.whl (79.9 MB)\n",
            "\u001b[2K     \u001b[90m━━━━━━━━━━━━━━━━━━━━━━━━━━━━━━━━━━━━━━━━\u001b[0m \u001b[32m79.9/79.9 MB\u001b[0m \u001b[31m9.9 MB/s\u001b[0m eta \u001b[36m0:00:00\u001b[0m\n",
            "\u001b[?25hInstalling collected packages: kaleido\n",
            "\u001b[31mERROR: pip's dependency resolver does not currently take into account all the packages that are installed. This behaviour is the source of the following dependency conflicts.\n",
            "lida 0.0.10 requires fastapi, which is not installed.\n",
            "lida 0.0.10 requires python-multipart, which is not installed.\n",
            "lida 0.0.10 requires uvicorn, which is not installed.\u001b[0m\u001b[31m\n",
            "\u001b[0mSuccessfully installed kaleido-0.2.1\n",
            "Collecting Dash\n",
            "  Downloading dash-2.14.1-py3-none-any.whl (10.4 MB)\n",
            "\u001b[2K     \u001b[90m━━━━━━━━━━━━━━━━━━━━━━━━━━━━━━━━━━━━━━━━\u001b[0m \u001b[32m10.4/10.4 MB\u001b[0m \u001b[31m29.7 MB/s\u001b[0m eta \u001b[36m0:00:00\u001b[0m\n",
            "\u001b[?25hRequirement already satisfied: Flask<3.1,>=1.0.4 in /usr/local/lib/python3.10/dist-packages (from Dash) (2.2.5)\n",
            "Requirement already satisfied: Werkzeug<3.1 in /usr/local/lib/python3.10/dist-packages (from Dash) (3.0.1)\n",
            "Requirement already satisfied: plotly>=5.0.0 in /usr/local/lib/python3.10/dist-packages (from Dash) (5.18.0)\n",
            "Collecting dash-html-components==2.0.0 (from Dash)\n",
            "  Downloading dash_html_components-2.0.0-py3-none-any.whl (4.1 kB)\n",
            "Collecting dash-core-components==2.0.0 (from Dash)\n",
            "  Downloading dash_core_components-2.0.0-py3-none-any.whl (3.8 kB)\n",
            "Collecting dash-table==5.0.0 (from Dash)\n",
            "  Downloading dash_table-5.0.0-py3-none-any.whl (3.9 kB)\n",
            "Requirement already satisfied: typing-extensions>=4.1.1 in /usr/local/lib/python3.10/dist-packages (from Dash) (4.5.0)\n",
            "Requirement already satisfied: requests in /usr/local/lib/python3.10/dist-packages (from Dash) (2.31.0)\n",
            "Collecting retrying (from Dash)\n",
            "  Downloading retrying-1.3.4-py3-none-any.whl (11 kB)\n",
            "Collecting ansi2html (from Dash)\n",
            "  Downloading ansi2html-1.8.0-py3-none-any.whl (16 kB)\n",
            "Requirement already satisfied: nest-asyncio in /usr/local/lib/python3.10/dist-packages (from Dash) (1.5.8)\n",
            "Requirement already satisfied: setuptools in /usr/local/lib/python3.10/dist-packages (from Dash) (67.7.2)\n",
            "Requirement already satisfied: importlib-metadata in /usr/local/lib/python3.10/dist-packages (from Dash) (6.8.0)\n",
            "Requirement already satisfied: Jinja2>=3.0 in /usr/local/lib/python3.10/dist-packages (from Flask<3.1,>=1.0.4->Dash) (3.1.2)\n",
            "Requirement already satisfied: itsdangerous>=2.0 in /usr/local/lib/python3.10/dist-packages (from Flask<3.1,>=1.0.4->Dash) (2.1.2)\n",
            "Requirement already satisfied: click>=8.0 in /usr/local/lib/python3.10/dist-packages (from Flask<3.1,>=1.0.4->Dash) (8.1.7)\n",
            "Requirement already satisfied: tenacity>=6.2.0 in /usr/local/lib/python3.10/dist-packages (from plotly>=5.0.0->Dash) (8.2.3)\n",
            "Requirement already satisfied: packaging in /usr/local/lib/python3.10/dist-packages (from plotly>=5.0.0->Dash) (23.2)\n",
            "Requirement already satisfied: MarkupSafe>=2.1.1 in /usr/local/lib/python3.10/dist-packages (from Werkzeug<3.1->Dash) (2.1.3)\n",
            "Requirement already satisfied: zipp>=0.5 in /usr/local/lib/python3.10/dist-packages (from importlib-metadata->Dash) (3.17.0)\n",
            "Requirement already satisfied: charset-normalizer<4,>=2 in /usr/local/lib/python3.10/dist-packages (from requests->Dash) (3.3.2)\n",
            "Requirement already satisfied: idna<4,>=2.5 in /usr/local/lib/python3.10/dist-packages (from requests->Dash) (3.4)\n",
            "Requirement already satisfied: urllib3<3,>=1.21.1 in /usr/local/lib/python3.10/dist-packages (from requests->Dash) (2.0.7)\n",
            "Requirement already satisfied: certifi>=2017.4.17 in /usr/local/lib/python3.10/dist-packages (from requests->Dash) (2023.7.22)\n",
            "Requirement already satisfied: six>=1.7.0 in /usr/local/lib/python3.10/dist-packages (from retrying->Dash) (1.16.0)\n",
            "Installing collected packages: dash-table, dash-html-components, dash-core-components, retrying, ansi2html, Dash\n",
            "Successfully installed Dash-2.14.1 ansi2html-1.8.0 dash-core-components-2.0.0 dash-html-components-2.0.0 dash-table-5.0.0 retrying-1.3.4\n"
          ]
        }
      ]
    },
    {
      "cell_type": "code",
      "execution_count": 2,
      "metadata": {
        "id": "oC8i2Q-L37Zh"
      },
      "outputs": [],
      "source": [
        "import numpy as np\n",
        "import pandas as pd\n",
        "import matplotlib.pyplot as plt\n",
        "import seaborn as sns\n",
        "import matplotlib.colors as mcolors\n",
        "import colorsys\n",
        "import plotly.express as px\n",
        "import plotly.graph_objects as go\n",
        "from plotly.subplots import make_subplots\n",
        "import plotly.tools as tls\n",
        "from dash import Dash, dcc, html, Input, Output\n",
        "from google.colab import files\n",
        "from plotly.offline import iplot\n",
        "from pandas.core.tools import numeric\n",
        "import matplotlib.patches as patches"
      ]
    },
    {
      "cell_type": "markdown",
      "source": [
        "# **Loading and Preprocessing Datasets:**"
      ],
      "metadata": {
        "id": "oKX0FsbmDprC"
      }
    },
    {
      "cell_type": "code",
      "source": [
        "\n",
        "poverty = pd.read_csv('https://raw.githubusercontent.com/Umerfarooq122/What-Is-The-State-of-Food-Security-and-Nutrition-in-the-US/main/poverty%20rate.csv')\n",
        "data = pd.read_csv('https://raw.githubusercontent.com/Umerfarooq122/What-Is-The-State-of-Food-Security-and-Nutrition-in-the-US/main/whole%20US%20food%20security%20-%20Map%20Data.csv')\n",
        "insufficiency = pd.read_csv('https://raw.githubusercontent.com/Umerfarooq122/What-Is-The-State-of-Food-Security-and-Nutrition-in-the-US/main/scarcity%20-%20Sheet1.csv')\n",
        "obesity = pd.read_csv('https://raw.githubusercontent.com/Umerfarooq122/What-Is-The-State-of-Food-Security-and-Nutrition-in-the-US/main/obesity10-17%20-%20Sheet1.csv')\n",
        "weight = pd.read_csv('https://raw.githubusercontent.com/Umerfarooq122/What-Is-The-State-of-Food-Security-and-Nutrition-in-the-US/main/babyweight1221%20-%20Sheet1.csv')\n",
        "weight[['2012','2013','2014','2015','2016','2017','2018','2019','2020','2021']] = weight[['2012','2013','2014','2015','2016','2017','2018','2019','2020','2021']].astype(float)\n",
        "wa_age = pd.read_csv('https://raw.githubusercontent.com/Umerfarooq122/What-Is-The-State-of-Food-Security-and-Nutrition-in-the-US/main/weight%20adjusted%20age%20group.csv')\n",
        "whole = data.iloc[2:]\n",
        "poverty = poverty[['Name','Percent','ABB']]\n",
        "final = whole.merge(poverty,how='left',left_on='State', right_on='ABB')\n",
        "final = final[['Name','ABB','Number of households (number)','Interviewed (number)','Food insecurity  Prevalence','Percent']]\n",
        "final = final.rename(columns={'Name':'state','ABB':'Abbreviation','Number of households (number)':'housholds_number','Interviewed (number)':'interviewed_number','Food insecurity  Prevalence':'food_ins_pre','Percent':'poverty'})\n",
        "final = final.merge(insufficiency, how ='left', left_on='state',right_on='states')\n",
        "final = final.merge(obesity, how = 'left', on='state')\n",
        "final['2020-21'] = final['2020-21'].astype(float)\n",
        "final = final.merge(weight, how='left', on='state')\n",
        "final = final.drop('week', axis = 1)"
      ],
      "metadata": {
        "id": "khPJpODZ7XC2"
      },
      "execution_count": 5,
      "outputs": []
    },
    {
      "cell_type": "code",
      "source": [
        "final.head()"
      ],
      "metadata": {
        "colab": {
          "base_uri": "https://localhost:8080/",
          "height": 255
        },
        "id": "w2wXq5x18KTr",
        "outputId": "ebe53ba7-0388-4919-faa0-8d6ebfcbd115"
      },
      "execution_count": 6,
      "outputs": [
        {
          "output_type": "execute_result",
          "data": {
            "text/plain": [
              "        state Abbreviation housholds_number interviewed_number  food_ins_pre  \\\n",
              "0      Alaska           AK          273,000              1,155           9.5   \n",
              "1     Alabama           AL        2,062,000              1,806          12.4   \n",
              "2    Arkansas           AR        1,290,000              1,748          16.6   \n",
              "3     Arizona           AZ        2,953,000              1,517          10.2   \n",
              "4  California           CA       14,173,000              8,009          10.3   \n",
              "\n",
              "   poverty      states     number margin_error  percent_scarcity  ...  2012  \\\n",
              "0     10.8      Alaska     28,387        9,815               6.0  ...   0.9   \n",
              "1     16.3     Alabama    483,631      108,117              14.2  ...   1.9   \n",
              "2     16.0    Arkansas    215,711       55,797              10.5  ...   1.7   \n",
              "3     12.9     Arizona    553,819      102,532              11.1  ...   1.1   \n",
              "4     12.3  California  2,927,941      388,961              11.4  ...   1.1   \n",
              "\n",
              "  2013 2014 2015 2016  2017 2018  2019  2020  2021  \n",
              "0  1.0  0.9  0.9  1.0   1.0  1.0   1.1   1.1   1.3  \n",
              "1  2.1  1.9  2.0  2.0   1.9  1.9   1.9   2.0   1.8  \n",
              "2  1.6  1.4  1.6  1.6   1.6  1.5   1.6   1.5   1.7  \n",
              "3  1.1  1.2  1.1  1.2   1.2  1.2   1.1   1.1   1.2  \n",
              "4  1.1  1.1  1.1  1.1   1.1  1.1   1.1   1.1   1.1  \n",
              "\n",
              "[5 rows x 27 columns]"
            ],
            "text/html": [
              "\n",
              "  <div id=\"df-e21264a3-b9b5-491b-a7d8-3a6901c9de89\" class=\"colab-df-container\">\n",
              "    <div>\n",
              "<style scoped>\n",
              "    .dataframe tbody tr th:only-of-type {\n",
              "        vertical-align: middle;\n",
              "    }\n",
              "\n",
              "    .dataframe tbody tr th {\n",
              "        vertical-align: top;\n",
              "    }\n",
              "\n",
              "    .dataframe thead th {\n",
              "        text-align: right;\n",
              "    }\n",
              "</style>\n",
              "<table border=\"1\" class=\"dataframe\">\n",
              "  <thead>\n",
              "    <tr style=\"text-align: right;\">\n",
              "      <th></th>\n",
              "      <th>state</th>\n",
              "      <th>Abbreviation</th>\n",
              "      <th>housholds_number</th>\n",
              "      <th>interviewed_number</th>\n",
              "      <th>food_ins_pre</th>\n",
              "      <th>poverty</th>\n",
              "      <th>states</th>\n",
              "      <th>number</th>\n",
              "      <th>margin_error</th>\n",
              "      <th>percent_scarcity</th>\n",
              "      <th>...</th>\n",
              "      <th>2012</th>\n",
              "      <th>2013</th>\n",
              "      <th>2014</th>\n",
              "      <th>2015</th>\n",
              "      <th>2016</th>\n",
              "      <th>2017</th>\n",
              "      <th>2018</th>\n",
              "      <th>2019</th>\n",
              "      <th>2020</th>\n",
              "      <th>2021</th>\n",
              "    </tr>\n",
              "  </thead>\n",
              "  <tbody>\n",
              "    <tr>\n",
              "      <th>0</th>\n",
              "      <td>Alaska</td>\n",
              "      <td>AK</td>\n",
              "      <td>273,000</td>\n",
              "      <td>1,155</td>\n",
              "      <td>9.5</td>\n",
              "      <td>10.8</td>\n",
              "      <td>Alaska</td>\n",
              "      <td>28,387</td>\n",
              "      <td>9,815</td>\n",
              "      <td>6.0</td>\n",
              "      <td>...</td>\n",
              "      <td>0.9</td>\n",
              "      <td>1.0</td>\n",
              "      <td>0.9</td>\n",
              "      <td>0.9</td>\n",
              "      <td>1.0</td>\n",
              "      <td>1.0</td>\n",
              "      <td>1.0</td>\n",
              "      <td>1.1</td>\n",
              "      <td>1.1</td>\n",
              "      <td>1.3</td>\n",
              "    </tr>\n",
              "    <tr>\n",
              "      <th>1</th>\n",
              "      <td>Alabama</td>\n",
              "      <td>AL</td>\n",
              "      <td>2,062,000</td>\n",
              "      <td>1,806</td>\n",
              "      <td>12.4</td>\n",
              "      <td>16.3</td>\n",
              "      <td>Alabama</td>\n",
              "      <td>483,631</td>\n",
              "      <td>108,117</td>\n",
              "      <td>14.2</td>\n",
              "      <td>...</td>\n",
              "      <td>1.9</td>\n",
              "      <td>2.1</td>\n",
              "      <td>1.9</td>\n",
              "      <td>2.0</td>\n",
              "      <td>2.0</td>\n",
              "      <td>1.9</td>\n",
              "      <td>1.9</td>\n",
              "      <td>1.9</td>\n",
              "      <td>2.0</td>\n",
              "      <td>1.8</td>\n",
              "    </tr>\n",
              "    <tr>\n",
              "      <th>2</th>\n",
              "      <td>Arkansas</td>\n",
              "      <td>AR</td>\n",
              "      <td>1,290,000</td>\n",
              "      <td>1,748</td>\n",
              "      <td>16.6</td>\n",
              "      <td>16.0</td>\n",
              "      <td>Arkansas</td>\n",
              "      <td>215,711</td>\n",
              "      <td>55,797</td>\n",
              "      <td>10.5</td>\n",
              "      <td>...</td>\n",
              "      <td>1.7</td>\n",
              "      <td>1.6</td>\n",
              "      <td>1.4</td>\n",
              "      <td>1.6</td>\n",
              "      <td>1.6</td>\n",
              "      <td>1.6</td>\n",
              "      <td>1.5</td>\n",
              "      <td>1.6</td>\n",
              "      <td>1.5</td>\n",
              "      <td>1.7</td>\n",
              "    </tr>\n",
              "    <tr>\n",
              "      <th>3</th>\n",
              "      <td>Arizona</td>\n",
              "      <td>AZ</td>\n",
              "      <td>2,953,000</td>\n",
              "      <td>1,517</td>\n",
              "      <td>10.2</td>\n",
              "      <td>12.9</td>\n",
              "      <td>Arizona</td>\n",
              "      <td>553,819</td>\n",
              "      <td>102,532</td>\n",
              "      <td>11.1</td>\n",
              "      <td>...</td>\n",
              "      <td>1.1</td>\n",
              "      <td>1.1</td>\n",
              "      <td>1.2</td>\n",
              "      <td>1.1</td>\n",
              "      <td>1.2</td>\n",
              "      <td>1.2</td>\n",
              "      <td>1.2</td>\n",
              "      <td>1.1</td>\n",
              "      <td>1.1</td>\n",
              "      <td>1.2</td>\n",
              "    </tr>\n",
              "    <tr>\n",
              "      <th>4</th>\n",
              "      <td>California</td>\n",
              "      <td>CA</td>\n",
              "      <td>14,173,000</td>\n",
              "      <td>8,009</td>\n",
              "      <td>10.3</td>\n",
              "      <td>12.3</td>\n",
              "      <td>California</td>\n",
              "      <td>2,927,941</td>\n",
              "      <td>388,961</td>\n",
              "      <td>11.4</td>\n",
              "      <td>...</td>\n",
              "      <td>1.1</td>\n",
              "      <td>1.1</td>\n",
              "      <td>1.1</td>\n",
              "      <td>1.1</td>\n",
              "      <td>1.1</td>\n",
              "      <td>1.1</td>\n",
              "      <td>1.1</td>\n",
              "      <td>1.1</td>\n",
              "      <td>1.1</td>\n",
              "      <td>1.1</td>\n",
              "    </tr>\n",
              "  </tbody>\n",
              "</table>\n",
              "<p>5 rows × 27 columns</p>\n",
              "</div>\n",
              "    <div class=\"colab-df-buttons\">\n",
              "\n",
              "  <div class=\"colab-df-container\">\n",
              "    <button class=\"colab-df-convert\" onclick=\"convertToInteractive('df-e21264a3-b9b5-491b-a7d8-3a6901c9de89')\"\n",
              "            title=\"Convert this dataframe to an interactive table.\"\n",
              "            style=\"display:none;\">\n",
              "\n",
              "  <svg xmlns=\"http://www.w3.org/2000/svg\" height=\"24px\" viewBox=\"0 -960 960 960\">\n",
              "    <path d=\"M120-120v-720h720v720H120Zm60-500h600v-160H180v160Zm220 220h160v-160H400v160Zm0 220h160v-160H400v160ZM180-400h160v-160H180v160Zm440 0h160v-160H620v160ZM180-180h160v-160H180v160Zm440 0h160v-160H620v160Z\"/>\n",
              "  </svg>\n",
              "    </button>\n",
              "\n",
              "  <style>\n",
              "    .colab-df-container {\n",
              "      display:flex;\n",
              "      gap: 12px;\n",
              "    }\n",
              "\n",
              "    .colab-df-convert {\n",
              "      background-color: #E8F0FE;\n",
              "      border: none;\n",
              "      border-radius: 50%;\n",
              "      cursor: pointer;\n",
              "      display: none;\n",
              "      fill: #1967D2;\n",
              "      height: 32px;\n",
              "      padding: 0 0 0 0;\n",
              "      width: 32px;\n",
              "    }\n",
              "\n",
              "    .colab-df-convert:hover {\n",
              "      background-color: #E2EBFA;\n",
              "      box-shadow: 0px 1px 2px rgba(60, 64, 67, 0.3), 0px 1px 3px 1px rgba(60, 64, 67, 0.15);\n",
              "      fill: #174EA6;\n",
              "    }\n",
              "\n",
              "    .colab-df-buttons div {\n",
              "      margin-bottom: 4px;\n",
              "    }\n",
              "\n",
              "    [theme=dark] .colab-df-convert {\n",
              "      background-color: #3B4455;\n",
              "      fill: #D2E3FC;\n",
              "    }\n",
              "\n",
              "    [theme=dark] .colab-df-convert:hover {\n",
              "      background-color: #434B5C;\n",
              "      box-shadow: 0px 1px 3px 1px rgba(0, 0, 0, 0.15);\n",
              "      filter: drop-shadow(0px 1px 2px rgba(0, 0, 0, 0.3));\n",
              "      fill: #FFFFFF;\n",
              "    }\n",
              "  </style>\n",
              "\n",
              "    <script>\n",
              "      const buttonEl =\n",
              "        document.querySelector('#df-e21264a3-b9b5-491b-a7d8-3a6901c9de89 button.colab-df-convert');\n",
              "      buttonEl.style.display =\n",
              "        google.colab.kernel.accessAllowed ? 'block' : 'none';\n",
              "\n",
              "      async function convertToInteractive(key) {\n",
              "        const element = document.querySelector('#df-e21264a3-b9b5-491b-a7d8-3a6901c9de89');\n",
              "        const dataTable =\n",
              "          await google.colab.kernel.invokeFunction('convertToInteractive',\n",
              "                                                    [key], {});\n",
              "        if (!dataTable) return;\n",
              "\n",
              "        const docLinkHtml = 'Like what you see? Visit the ' +\n",
              "          '<a target=\"_blank\" href=https://colab.research.google.com/notebooks/data_table.ipynb>data table notebook</a>'\n",
              "          + ' to learn more about interactive tables.';\n",
              "        element.innerHTML = '';\n",
              "        dataTable['output_type'] = 'display_data';\n",
              "        await google.colab.output.renderOutput(dataTable, element);\n",
              "        const docLink = document.createElement('div');\n",
              "        docLink.innerHTML = docLinkHtml;\n",
              "        element.appendChild(docLink);\n",
              "      }\n",
              "    </script>\n",
              "  </div>\n",
              "\n",
              "\n",
              "<div id=\"df-3ee92d54-7425-4e4b-b663-97793d87c0bf\">\n",
              "  <button class=\"colab-df-quickchart\" onclick=\"quickchart('df-3ee92d54-7425-4e4b-b663-97793d87c0bf')\"\n",
              "            title=\"Suggest charts\"\n",
              "            style=\"display:none;\">\n",
              "\n",
              "<svg xmlns=\"http://www.w3.org/2000/svg\" height=\"24px\"viewBox=\"0 0 24 24\"\n",
              "     width=\"24px\">\n",
              "    <g>\n",
              "        <path d=\"M19 3H5c-1.1 0-2 .9-2 2v14c0 1.1.9 2 2 2h14c1.1 0 2-.9 2-2V5c0-1.1-.9-2-2-2zM9 17H7v-7h2v7zm4 0h-2V7h2v10zm4 0h-2v-4h2v4z\"/>\n",
              "    </g>\n",
              "</svg>\n",
              "  </button>\n",
              "\n",
              "<style>\n",
              "  .colab-df-quickchart {\n",
              "      --bg-color: #E8F0FE;\n",
              "      --fill-color: #1967D2;\n",
              "      --hover-bg-color: #E2EBFA;\n",
              "      --hover-fill-color: #174EA6;\n",
              "      --disabled-fill-color: #AAA;\n",
              "      --disabled-bg-color: #DDD;\n",
              "  }\n",
              "\n",
              "  [theme=dark] .colab-df-quickchart {\n",
              "      --bg-color: #3B4455;\n",
              "      --fill-color: #D2E3FC;\n",
              "      --hover-bg-color: #434B5C;\n",
              "      --hover-fill-color: #FFFFFF;\n",
              "      --disabled-bg-color: #3B4455;\n",
              "      --disabled-fill-color: #666;\n",
              "  }\n",
              "\n",
              "  .colab-df-quickchart {\n",
              "    background-color: var(--bg-color);\n",
              "    border: none;\n",
              "    border-radius: 50%;\n",
              "    cursor: pointer;\n",
              "    display: none;\n",
              "    fill: var(--fill-color);\n",
              "    height: 32px;\n",
              "    padding: 0;\n",
              "    width: 32px;\n",
              "  }\n",
              "\n",
              "  .colab-df-quickchart:hover {\n",
              "    background-color: var(--hover-bg-color);\n",
              "    box-shadow: 0 1px 2px rgba(60, 64, 67, 0.3), 0 1px 3px 1px rgba(60, 64, 67, 0.15);\n",
              "    fill: var(--button-hover-fill-color);\n",
              "  }\n",
              "\n",
              "  .colab-df-quickchart-complete:disabled,\n",
              "  .colab-df-quickchart-complete:disabled:hover {\n",
              "    background-color: var(--disabled-bg-color);\n",
              "    fill: var(--disabled-fill-color);\n",
              "    box-shadow: none;\n",
              "  }\n",
              "\n",
              "  .colab-df-spinner {\n",
              "    border: 2px solid var(--fill-color);\n",
              "    border-color: transparent;\n",
              "    border-bottom-color: var(--fill-color);\n",
              "    animation:\n",
              "      spin 1s steps(1) infinite;\n",
              "  }\n",
              "\n",
              "  @keyframes spin {\n",
              "    0% {\n",
              "      border-color: transparent;\n",
              "      border-bottom-color: var(--fill-color);\n",
              "      border-left-color: var(--fill-color);\n",
              "    }\n",
              "    20% {\n",
              "      border-color: transparent;\n",
              "      border-left-color: var(--fill-color);\n",
              "      border-top-color: var(--fill-color);\n",
              "    }\n",
              "    30% {\n",
              "      border-color: transparent;\n",
              "      border-left-color: var(--fill-color);\n",
              "      border-top-color: var(--fill-color);\n",
              "      border-right-color: var(--fill-color);\n",
              "    }\n",
              "    40% {\n",
              "      border-color: transparent;\n",
              "      border-right-color: var(--fill-color);\n",
              "      border-top-color: var(--fill-color);\n",
              "    }\n",
              "    60% {\n",
              "      border-color: transparent;\n",
              "      border-right-color: var(--fill-color);\n",
              "    }\n",
              "    80% {\n",
              "      border-color: transparent;\n",
              "      border-right-color: var(--fill-color);\n",
              "      border-bottom-color: var(--fill-color);\n",
              "    }\n",
              "    90% {\n",
              "      border-color: transparent;\n",
              "      border-bottom-color: var(--fill-color);\n",
              "    }\n",
              "  }\n",
              "</style>\n",
              "\n",
              "  <script>\n",
              "    async function quickchart(key) {\n",
              "      const quickchartButtonEl =\n",
              "        document.querySelector('#' + key + ' button');\n",
              "      quickchartButtonEl.disabled = true;  // To prevent multiple clicks.\n",
              "      quickchartButtonEl.classList.add('colab-df-spinner');\n",
              "      try {\n",
              "        const charts = await google.colab.kernel.invokeFunction(\n",
              "            'suggestCharts', [key], {});\n",
              "      } catch (error) {\n",
              "        console.error('Error during call to suggestCharts:', error);\n",
              "      }\n",
              "      quickchartButtonEl.classList.remove('colab-df-spinner');\n",
              "      quickchartButtonEl.classList.add('colab-df-quickchart-complete');\n",
              "    }\n",
              "    (() => {\n",
              "      let quickchartButtonEl =\n",
              "        document.querySelector('#df-3ee92d54-7425-4e4b-b663-97793d87c0bf button');\n",
              "      quickchartButtonEl.style.display =\n",
              "        google.colab.kernel.accessAllowed ? 'block' : 'none';\n",
              "    })();\n",
              "  </script>\n",
              "</div>\n",
              "    </div>\n",
              "  </div>\n"
            ]
          },
          "metadata": {},
          "execution_count": 6
        }
      ]
    },
    {
      "cell_type": "code",
      "source": [
        "conditions_p = [\n",
        "    (final['poverty'] > 17 )& (final['poverty']<=25),\n",
        "    (final['poverty'] > 15) & (final['poverty'] <= 17),\n",
        "    (final['poverty'] > 13) & (final['poverty'] <= 15),\n",
        "    (final['poverty'] > 11) & (final['poverty'] <= 13),\n",
        "    (final['poverty'] > 9) & (final['poverty'] <= 11),\n",
        "    (final['poverty'] <= 9)\n",
        "    ]\n",
        "\n",
        "values_p = ['Over 17%', '15.1-17%', '13.1-15%','11.1-13%','9.1-11%' ,'Equal or Below 9%']\n",
        "final['poverty_range'] = np.select(conditions_p, values_p)"
      ],
      "metadata": {
        "id": "wVN34dEBfvvN"
      },
      "execution_count": 7,
      "outputs": []
    },
    {
      "cell_type": "code",
      "source": [
        "conditions_i = [\n",
        "    (final['food_ins_pre'] > 15 )& (final['food_ins_pre']<=20),\n",
        "    (final['food_ins_pre'] > 13) & (final['food_ins_pre'] <= 15),\n",
        "    (final['food_ins_pre'] > 11) & (final['food_ins_pre'] <= 13),\n",
        "    (final['food_ins_pre'] > 9 ) & (final['food_ins_pre'] <= 11),\n",
        "     (final['food_ins_pre'] > 7) & (final['food_ins_pre'] <= 9),\n",
        "    (final['food_ins_pre'] <= 7)\n",
        "    ]\n",
        "\n",
        "values_i = ['Over 15%', '13.1-15%', '11.1-13%','9.1-11%','7.1-9%' ,'Equal or Below 7%']\n",
        "final['insecurity_range'] = np.select(conditions_i, values_i)"
      ],
      "metadata": {
        "id": "H-WiPcCsjdHd"
      },
      "execution_count": 8,
      "outputs": []
    },
    {
      "cell_type": "code",
      "source": [],
      "metadata": {
        "id": "7bWGfs0ysUj3"
      },
      "execution_count": null,
      "outputs": []
    },
    {
      "cell_type": "markdown",
      "source": [
        "# **Food Insecurity:**"
      ],
      "metadata": {
        "id": "Zxg9pd1zDfeS"
      }
    },
    {
      "cell_type": "code",
      "source": [
        " def set_value(row_number, assigned_value):\n",
        "  return assigned_value[row_number]\n",
        "\n",
        " #event_dictionary = {'Over 17%':'#660066', '15.1-17%':'#800080', '13.1-15%':'#be29ec',\n",
        "                                       # '11.1-13%':'#d896ff','9.1-11%':'#efbbff','Equal or Below 9%':'#E6E6FA'}\n",
        "\n",
        "event_dictionary =  {'Over 15%':'crimson', '13.1-15%':'#800080', '11.1-13%':'#be29ec',\n",
        "                                        '9.1-11%':'#d896ff','7.1-9%':'#efbbff','Equal or Below 7%':'#E6E6FA'}\n",
        "final['background_colori'] = final['insecurity_range'].apply(set_value, args =(event_dictionary, ))\n",
        "final['background_colori'] = final['background_colori'].apply(lambda x: mcolors.to_hex(x))"
      ],
      "metadata": {
        "id": "XSeMaKyVryWQ"
      },
      "execution_count": 9,
      "outputs": []
    },
    {
      "cell_type": "code",
      "source": [
        "\n",
        "legend_order = ['Over 15%','13.1-15%', '11.1-13%','9.1-11%','7.1-9%','Below 7%']\n",
        "fig = px.choropleth(final ,locations = \"Abbreviation\",\n",
        "                                     color = 'insecurity_range',\n",
        "                                     locationmode = 'USA-states',\n",
        "                    hover_name = 'food_ins_pre', custom_data= 'Abbreviation',\n",
        "                    color_discrete_map={'Over 15%':'crimson', '13.1-15%':'#800080', '11.1-13%':'#be29ec',\n",
        "                                        '9.1-11%':'#d896ff','7.1-9%':'#efbbff','Equal or Below 7%':'#E6E6FA'},\n",
        "                    category_orders={'insecurity_range': legend_order}\n",
        ")\n",
        "'''\n",
        "Function for contrasting labels against background color.\n",
        "'''\n",
        "def calculate_luminance(hex_color):\n",
        "    try:\n",
        "        # Strip the '#' symbol if present and convert to lowercase\n",
        "        hex_color = hex_color.lstrip('#').lower()\n",
        "\n",
        "        # Make sure the remaining string is a valid hex color code\n",
        "        if len(hex_color) == 6:\n",
        "            rgb_color = tuple(int(hex_color[i:i + 2], 16) for i in (0, 2, 4))\n",
        "            r, g, b = [x / 255.0 for x in rgb_color]\n",
        "            h, s, v = colorsys.rgb_to_hsv(r, g, b)\n",
        "            return v\n",
        "        else:\n",
        "            # Handle invalid hex color codes\n",
        "            return None\n",
        "    except ValueError:\n",
        "        # Handle errors during conversion\n",
        "        return None\n",
        "\n",
        "fig.add_scattergeo(\n",
        "    locations=final['Abbreviation'],\n",
        "    locationmode=\"USA-states\",\n",
        "    text=final['Abbreviation'],\n",
        "    mode='text', textfont_color=[ 'white' if calculate_luminance(bg_color) < 0.9 else 'black' for bg_color in final['background_colori']],\n",
        "    textposition='bottom right',  # Arbitrary coordinates\n",
        "    showlegend = False\n",
        ")\n",
        "fig.update_layout(geo_scope = 'usa',\n",
        "                  font_family=\"Times New Roman\",\n",
        "                  font_color=\"black\",\n",
        "                  title_text = \"Food Insecurity By State\",\n",
        "                  title_font_size = 24,\n",
        "                  height=1000,  width=1600 ,\n",
        "                  legend=dict(title=dict(text='Food Insecurity'), x= .9,y=.7, font_size = 18),\n",
        "                  title=dict(\n",
        "                      text=\"Food Insecurity By State\",\n",
        "                      xanchor='center',\n",
        "                      x=0.45,\n",
        "                      yref='paper',\n",
        "                      yanchor='bottom',\n",
        "                      y=.95,\n",
        "                      pad={'b': 0},\n",
        "                      font_size = 34)\n",
        ")\n",
        "\n",
        "fig.update_traces(marker_line_color='white')\n",
        "fig.add_annotation(text=\"Texas, Louisiana, Arkansas, and Mississippi Have the Highest Rates of Food Insecurity\",\n",
        "                   x=.5,y=.945,\n",
        "                   showarrow=False, font_size = 24 ,\n",
        "                   font_color = 'crimson',\n",
        "                   font_family = 'Helvetica')\n",
        "\n",
        "fig.show()\n",
        "fig.write_image(\"Food Insecurity By State.png\")\n",
        "files.download('Food Insecurity By State.png')"
      ],
      "metadata": {
        "id": "j1figrPKAagk",
        "colab": {
          "base_uri": "https://localhost:8080/",
          "height": 1000
        },
        "outputId": "512fae20-c101-4e65-99da-9d2ba0e0fc10"
      },
      "execution_count": 10,
      "outputs": [
        {
          "output_type": "display_data",
          "data": {
            "text/html": [
              "<html>\n",
              "<head><meta charset=\"utf-8\" /></head>\n",
              "<body>\n",
              "    <div>            <script src=\"https://cdnjs.cloudflare.com/ajax/libs/mathjax/2.7.5/MathJax.js?config=TeX-AMS-MML_SVG\"></script><script type=\"text/javascript\">if (window.MathJax && window.MathJax.Hub && window.MathJax.Hub.Config) {window.MathJax.Hub.Config({SVG: {font: \"STIX-Web\"}});}</script>                <script type=\"text/javascript\">window.PlotlyConfig = {MathJaxConfig: 'local'};</script>\n",
              "        <script charset=\"utf-8\" src=\"https://cdn.plot.ly/plotly-2.27.0.min.js\"></script>                <div id=\"70627df1-e0a2-4d9b-a28d-2ce4990a8807\" class=\"plotly-graph-div\" style=\"height:1000px; width:1600px;\"></div>            <script type=\"text/javascript\">                                    window.PLOTLYENV=window.PLOTLYENV || {};                                    if (document.getElementById(\"70627df1-e0a2-4d9b-a28d-2ce4990a8807\")) {                    Plotly.newPlot(                        \"70627df1-e0a2-4d9b-a28d-2ce4990a8807\",                        [{\"colorscale\":[[0.0,\"crimson\"],[1.0,\"crimson\"]],\"customdata\":[[\"AR\"],[\"LA\"],[\"MS\"],[\"TX\"]],\"geo\":\"geo\",\"hovertemplate\":\"\\u003cb\\u003e%{hovertext}\\u003c\\u002fb\\u003e\\u003cbr\\u003e\\u003cbr\\u003einsecurity_range=Over 15%\\u003cbr\\u003eAbbreviation=%{location}\\u003cextra\\u003e\\u003c\\u002fextra\\u003e\",\"hovertext\":[16.6,15.2,15.3,15.5],\"locationmode\":\"USA-states\",\"locations\":[\"AR\",\"LA\",\"MS\",\"TX\"],\"name\":\"Over 15%\",\"showlegend\":true,\"showscale\":false,\"z\":[1,1,1,1],\"type\":\"choropleth\",\"marker\":{\"line\":{\"color\":\"white\"}}},{\"colorscale\":[[0.0,\"#800080\"],[1.0,\"#800080\"]],\"customdata\":[[\"KY\"],[\"OK\"],[\"SC\"],[\"WV\"]],\"geo\":\"geo\",\"hovertemplate\":\"\\u003cb\\u003e%{hovertext}\\u003c\\u002fb\\u003e\\u003cbr\\u003e\\u003cbr\\u003einsecurity_range=13.1-15%\\u003cbr\\u003eAbbreviation=%{location}\\u003cextra\\u003e\\u003c\\u002fextra\\u003e\",\"hovertext\":[13.1,14.3,14.5,14.2],\"locationmode\":\"USA-states\",\"locations\":[\"KY\",\"OK\",\"SC\",\"WV\"],\"name\":\"13.1-15%\",\"showlegend\":true,\"showscale\":false,\"z\":[1,1,1,1],\"type\":\"choropleth\",\"marker\":{\"line\":{\"color\":\"white\"}}},{\"colorscale\":[[0.0,\"#be29ec\"],[1.0,\"#be29ec\"]],\"customdata\":[[\"AL\"],[\"DE\"],[\"FL\"],[\"GA\"],[\"MI\"],[\"MO\"],[\"NE\"],[\"NM\"],[\"NV\"],[\"NY\"],[\"OH\"],[\"OR\"],[\"TN\"],[\"WY\"]],\"geo\":\"geo\",\"hovertemplate\":\"\\u003cb\\u003e%{hovertext}\\u003c\\u002fb\\u003e\\u003cbr\\u003e\\u003cbr\\u003einsecurity_range=11.1-13%\\u003cbr\\u003eAbbreviation=%{location}\\u003cextra\\u003e\\u003c\\u002fextra\\u003e\",\"hovertext\":[12.4,11.5,11.4,11.3,11.9,12.2,12.1,11.2,11.7,11.3,11.5,11.2,11.5,11.4],\"locationmode\":\"USA-states\",\"locations\":[\"AL\",\"DE\",\"FL\",\"GA\",\"MI\",\"MO\",\"NE\",\"NM\",\"NV\",\"NY\",\"OH\",\"OR\",\"TN\",\"WY\"],\"name\":\"11.1-13%\",\"showlegend\":true,\"showscale\":false,\"z\":[1,1,1,1,1,1,1,1,1,1,1,1,1,1],\"type\":\"choropleth\",\"marker\":{\"line\":{\"color\":\"white\"}}},{\"colorscale\":[[0.0,\"#d896ff\"],[1.0,\"#d896ff\"]],\"customdata\":[[\"AK\"],[\"AZ\"],[\"CA\"],[\"CT\"],[\"DC\"],[\"HI\"],[\"ID\"],[\"IL\"],[\"IN\"],[\"KS\"],[\"MD\"],[\"ME\"],[\"MT\"],[\"NC\"],[\"PA\"],[\"UT\"],[\"VA\"],[\"WI\"]],\"geo\":\"geo\",\"hovertemplate\":\"\\u003cb\\u003e%{hovertext}\\u003c\\u002fb\\u003e\\u003cbr\\u003e\\u003cbr\\u003einsecurity_range=9.1-11%\\u003cbr\\u003eAbbreviation=%{location}\\u003cextra\\u003e\\u003c\\u002fextra\\u003e\",\"hovertext\":[9.5,10.2,10.3,9.6,10.0,9.1,10.5,10.6,10.7,9.6,9.5,10.1,10.1,10.7,10.1,10.7,9.3,9.6],\"locationmode\":\"USA-states\",\"locations\":[\"AK\",\"AZ\",\"CA\",\"CT\",\"DC\",\"HI\",\"ID\",\"IL\",\"IN\",\"KS\",\"MD\",\"ME\",\"MT\",\"NC\",\"PA\",\"UT\",\"VA\",\"WI\"],\"name\":\"9.1-11%\",\"showlegend\":true,\"showscale\":false,\"z\":[1,1,1,1,1,1,1,1,1,1,1,1,1,1,1,1,1,1],\"type\":\"choropleth\",\"marker\":{\"line\":{\"color\":\"white\"}}},{\"colorscale\":[[0.0,\"#efbbff\"],[1.0,\"#efbbff\"]],\"customdata\":[[\"CO\"],[\"IA\"],[\"MA\"],[\"MN\"],[\"ND\"],[\"NJ\"],[\"RI\"],[\"SD\"],[\"VT\"],[\"WA\"]],\"geo\":\"geo\",\"hovertemplate\":\"\\u003cb\\u003e%{hovertext}\\u003c\\u002fb\\u003e\\u003cbr\\u003e\\u003cbr\\u003einsecurity_range=7.1-9%\\u003cbr\\u003eAbbreviation=%{location}\\u003cextra\\u003e\\u003c\\u002fextra\\u003e\",\"hovertext\":[8.9,8.9,8.5,7.1,7.7,8.8,8.6,8.9,8.0,8.3],\"locationmode\":\"USA-states\",\"locations\":[\"CO\",\"IA\",\"MA\",\"MN\",\"ND\",\"NJ\",\"RI\",\"SD\",\"VT\",\"WA\"],\"name\":\"7.1-9%\",\"showlegend\":true,\"showscale\":false,\"z\":[1,1,1,1,1,1,1,1,1,1],\"type\":\"choropleth\",\"marker\":{\"line\":{\"color\":\"white\"}}},{\"colorscale\":[[0.0,\"#E6E6FA\"],[1.0,\"#E6E6FA\"]],\"customdata\":[[\"NH\"]],\"geo\":\"geo\",\"hovertemplate\":\"\\u003cb\\u003e%{hovertext}\\u003c\\u002fb\\u003e\\u003cbr\\u003e\\u003cbr\\u003einsecurity_range=Equal or Below 7%\\u003cbr\\u003eAbbreviation=%{location}\\u003cextra\\u003e\\u003c\\u002fextra\\u003e\",\"hovertext\":[6.2],\"locationmode\":\"USA-states\",\"locations\":[\"NH\"],\"name\":\"Equal or Below 7%\",\"showlegend\":true,\"showscale\":false,\"z\":[1],\"type\":\"choropleth\",\"marker\":{\"line\":{\"color\":\"white\"}}},{\"locationmode\":\"USA-states\",\"locations\":[\"AK\",\"AL\",\"AR\",\"AZ\",\"CA\",\"CO\",\"CT\",\"DC\",\"DE\",\"FL\",\"GA\",\"HI\",\"IA\",\"ID\",\"IL\",\"IN\",\"KS\",\"KY\",\"LA\",\"MA\",\"MD\",\"ME\",\"MI\",\"MN\",\"MO\",\"MS\",\"MT\",\"NC\",\"ND\",\"NE\",\"NH\",\"NJ\",\"NM\",\"NV\",\"NY\",\"OH\",\"OK\",\"OR\",\"PA\",\"RI\",\"SC\",\"SD\",\"TN\",\"TX\",\"UT\",\"VA\",\"VT\",\"WA\",\"WI\",\"WV\",\"WY\"],\"mode\":\"text\",\"showlegend\":false,\"text\":[\"AK\",\"AL\",\"AR\",\"AZ\",\"CA\",\"CO\",\"CT\",\"DC\",\"DE\",\"FL\",\"GA\",\"HI\",\"IA\",\"ID\",\"IL\",\"IN\",\"KS\",\"KY\",\"LA\",\"MA\",\"MD\",\"ME\",\"MI\",\"MN\",\"MO\",\"MS\",\"MT\",\"NC\",\"ND\",\"NE\",\"NH\",\"NJ\",\"NM\",\"NV\",\"NY\",\"OH\",\"OK\",\"OR\",\"PA\",\"RI\",\"SC\",\"SD\",\"TN\",\"TX\",\"UT\",\"VA\",\"VT\",\"WA\",\"WI\",\"WV\",\"WY\"],\"textfont\":{\"color\":[\"black\",\"black\",\"white\",\"black\",\"black\",\"black\",\"black\",\"black\",\"black\",\"black\",\"black\",\"black\",\"black\",\"black\",\"black\",\"black\",\"black\",\"white\",\"white\",\"black\",\"black\",\"black\",\"black\",\"black\",\"black\",\"white\",\"black\",\"black\",\"black\",\"black\",\"black\",\"black\",\"black\",\"black\",\"black\",\"black\",\"white\",\"black\",\"black\",\"black\",\"white\",\"black\",\"black\",\"white\",\"black\",\"black\",\"black\",\"black\",\"black\",\"white\",\"black\"]},\"textposition\":\"bottom right\",\"type\":\"scattergeo\",\"marker\":{\"line\":{\"color\":\"white\"}}}],                        {\"template\":{\"data\":{\"histogram2dcontour\":[{\"type\":\"histogram2dcontour\",\"colorbar\":{\"outlinewidth\":0,\"ticks\":\"\"},\"colorscale\":[[0.0,\"#0d0887\"],[0.1111111111111111,\"#46039f\"],[0.2222222222222222,\"#7201a8\"],[0.3333333333333333,\"#9c179e\"],[0.4444444444444444,\"#bd3786\"],[0.5555555555555556,\"#d8576b\"],[0.6666666666666666,\"#ed7953\"],[0.7777777777777778,\"#fb9f3a\"],[0.8888888888888888,\"#fdca26\"],[1.0,\"#f0f921\"]]}],\"choropleth\":[{\"type\":\"choropleth\",\"colorbar\":{\"outlinewidth\":0,\"ticks\":\"\"}}],\"histogram2d\":[{\"type\":\"histogram2d\",\"colorbar\":{\"outlinewidth\":0,\"ticks\":\"\"},\"colorscale\":[[0.0,\"#0d0887\"],[0.1111111111111111,\"#46039f\"],[0.2222222222222222,\"#7201a8\"],[0.3333333333333333,\"#9c179e\"],[0.4444444444444444,\"#bd3786\"],[0.5555555555555556,\"#d8576b\"],[0.6666666666666666,\"#ed7953\"],[0.7777777777777778,\"#fb9f3a\"],[0.8888888888888888,\"#fdca26\"],[1.0,\"#f0f921\"]]}],\"heatmap\":[{\"type\":\"heatmap\",\"colorbar\":{\"outlinewidth\":0,\"ticks\":\"\"},\"colorscale\":[[0.0,\"#0d0887\"],[0.1111111111111111,\"#46039f\"],[0.2222222222222222,\"#7201a8\"],[0.3333333333333333,\"#9c179e\"],[0.4444444444444444,\"#bd3786\"],[0.5555555555555556,\"#d8576b\"],[0.6666666666666666,\"#ed7953\"],[0.7777777777777778,\"#fb9f3a\"],[0.8888888888888888,\"#fdca26\"],[1.0,\"#f0f921\"]]}],\"heatmapgl\":[{\"type\":\"heatmapgl\",\"colorbar\":{\"outlinewidth\":0,\"ticks\":\"\"},\"colorscale\":[[0.0,\"#0d0887\"],[0.1111111111111111,\"#46039f\"],[0.2222222222222222,\"#7201a8\"],[0.3333333333333333,\"#9c179e\"],[0.4444444444444444,\"#bd3786\"],[0.5555555555555556,\"#d8576b\"],[0.6666666666666666,\"#ed7953\"],[0.7777777777777778,\"#fb9f3a\"],[0.8888888888888888,\"#fdca26\"],[1.0,\"#f0f921\"]]}],\"contourcarpet\":[{\"type\":\"contourcarpet\",\"colorbar\":{\"outlinewidth\":0,\"ticks\":\"\"}}],\"contour\":[{\"type\":\"contour\",\"colorbar\":{\"outlinewidth\":0,\"ticks\":\"\"},\"colorscale\":[[0.0,\"#0d0887\"],[0.1111111111111111,\"#46039f\"],[0.2222222222222222,\"#7201a8\"],[0.3333333333333333,\"#9c179e\"],[0.4444444444444444,\"#bd3786\"],[0.5555555555555556,\"#d8576b\"],[0.6666666666666666,\"#ed7953\"],[0.7777777777777778,\"#fb9f3a\"],[0.8888888888888888,\"#fdca26\"],[1.0,\"#f0f921\"]]}],\"surface\":[{\"type\":\"surface\",\"colorbar\":{\"outlinewidth\":0,\"ticks\":\"\"},\"colorscale\":[[0.0,\"#0d0887\"],[0.1111111111111111,\"#46039f\"],[0.2222222222222222,\"#7201a8\"],[0.3333333333333333,\"#9c179e\"],[0.4444444444444444,\"#bd3786\"],[0.5555555555555556,\"#d8576b\"],[0.6666666666666666,\"#ed7953\"],[0.7777777777777778,\"#fb9f3a\"],[0.8888888888888888,\"#fdca26\"],[1.0,\"#f0f921\"]]}],\"mesh3d\":[{\"type\":\"mesh3d\",\"colorbar\":{\"outlinewidth\":0,\"ticks\":\"\"}}],\"scatter\":[{\"fillpattern\":{\"fillmode\":\"overlay\",\"size\":10,\"solidity\":0.2},\"type\":\"scatter\"}],\"parcoords\":[{\"type\":\"parcoords\",\"line\":{\"colorbar\":{\"outlinewidth\":0,\"ticks\":\"\"}}}],\"scatterpolargl\":[{\"type\":\"scatterpolargl\",\"marker\":{\"colorbar\":{\"outlinewidth\":0,\"ticks\":\"\"}}}],\"bar\":[{\"error_x\":{\"color\":\"#2a3f5f\"},\"error_y\":{\"color\":\"#2a3f5f\"},\"marker\":{\"line\":{\"color\":\"#E5ECF6\",\"width\":0.5},\"pattern\":{\"fillmode\":\"overlay\",\"size\":10,\"solidity\":0.2}},\"type\":\"bar\"}],\"scattergeo\":[{\"type\":\"scattergeo\",\"marker\":{\"colorbar\":{\"outlinewidth\":0,\"ticks\":\"\"}}}],\"scatterpolar\":[{\"type\":\"scatterpolar\",\"marker\":{\"colorbar\":{\"outlinewidth\":0,\"ticks\":\"\"}}}],\"histogram\":[{\"marker\":{\"pattern\":{\"fillmode\":\"overlay\",\"size\":10,\"solidity\":0.2}},\"type\":\"histogram\"}],\"scattergl\":[{\"type\":\"scattergl\",\"marker\":{\"colorbar\":{\"outlinewidth\":0,\"ticks\":\"\"}}}],\"scatter3d\":[{\"type\":\"scatter3d\",\"line\":{\"colorbar\":{\"outlinewidth\":0,\"ticks\":\"\"}},\"marker\":{\"colorbar\":{\"outlinewidth\":0,\"ticks\":\"\"}}}],\"scattermapbox\":[{\"type\":\"scattermapbox\",\"marker\":{\"colorbar\":{\"outlinewidth\":0,\"ticks\":\"\"}}}],\"scatterternary\":[{\"type\":\"scatterternary\",\"marker\":{\"colorbar\":{\"outlinewidth\":0,\"ticks\":\"\"}}}],\"scattercarpet\":[{\"type\":\"scattercarpet\",\"marker\":{\"colorbar\":{\"outlinewidth\":0,\"ticks\":\"\"}}}],\"carpet\":[{\"aaxis\":{\"endlinecolor\":\"#2a3f5f\",\"gridcolor\":\"white\",\"linecolor\":\"white\",\"minorgridcolor\":\"white\",\"startlinecolor\":\"#2a3f5f\"},\"baxis\":{\"endlinecolor\":\"#2a3f5f\",\"gridcolor\":\"white\",\"linecolor\":\"white\",\"minorgridcolor\":\"white\",\"startlinecolor\":\"#2a3f5f\"},\"type\":\"carpet\"}],\"table\":[{\"cells\":{\"fill\":{\"color\":\"#EBF0F8\"},\"line\":{\"color\":\"white\"}},\"header\":{\"fill\":{\"color\":\"#C8D4E3\"},\"line\":{\"color\":\"white\"}},\"type\":\"table\"}],\"barpolar\":[{\"marker\":{\"line\":{\"color\":\"#E5ECF6\",\"width\":0.5},\"pattern\":{\"fillmode\":\"overlay\",\"size\":10,\"solidity\":0.2}},\"type\":\"barpolar\"}],\"pie\":[{\"automargin\":true,\"type\":\"pie\"}]},\"layout\":{\"autotypenumbers\":\"strict\",\"colorway\":[\"#636efa\",\"#EF553B\",\"#00cc96\",\"#ab63fa\",\"#FFA15A\",\"#19d3f3\",\"#FF6692\",\"#B6E880\",\"#FF97FF\",\"#FECB52\"],\"font\":{\"color\":\"#2a3f5f\"},\"hovermode\":\"closest\",\"hoverlabel\":{\"align\":\"left\"},\"paper_bgcolor\":\"white\",\"plot_bgcolor\":\"#E5ECF6\",\"polar\":{\"bgcolor\":\"#E5ECF6\",\"angularaxis\":{\"gridcolor\":\"white\",\"linecolor\":\"white\",\"ticks\":\"\"},\"radialaxis\":{\"gridcolor\":\"white\",\"linecolor\":\"white\",\"ticks\":\"\"}},\"ternary\":{\"bgcolor\":\"#E5ECF6\",\"aaxis\":{\"gridcolor\":\"white\",\"linecolor\":\"white\",\"ticks\":\"\"},\"baxis\":{\"gridcolor\":\"white\",\"linecolor\":\"white\",\"ticks\":\"\"},\"caxis\":{\"gridcolor\":\"white\",\"linecolor\":\"white\",\"ticks\":\"\"}},\"coloraxis\":{\"colorbar\":{\"outlinewidth\":0,\"ticks\":\"\"}},\"colorscale\":{\"sequential\":[[0.0,\"#0d0887\"],[0.1111111111111111,\"#46039f\"],[0.2222222222222222,\"#7201a8\"],[0.3333333333333333,\"#9c179e\"],[0.4444444444444444,\"#bd3786\"],[0.5555555555555556,\"#d8576b\"],[0.6666666666666666,\"#ed7953\"],[0.7777777777777778,\"#fb9f3a\"],[0.8888888888888888,\"#fdca26\"],[1.0,\"#f0f921\"]],\"sequentialminus\":[[0.0,\"#0d0887\"],[0.1111111111111111,\"#46039f\"],[0.2222222222222222,\"#7201a8\"],[0.3333333333333333,\"#9c179e\"],[0.4444444444444444,\"#bd3786\"],[0.5555555555555556,\"#d8576b\"],[0.6666666666666666,\"#ed7953\"],[0.7777777777777778,\"#fb9f3a\"],[0.8888888888888888,\"#fdca26\"],[1.0,\"#f0f921\"]],\"diverging\":[[0,\"#8e0152\"],[0.1,\"#c51b7d\"],[0.2,\"#de77ae\"],[0.3,\"#f1b6da\"],[0.4,\"#fde0ef\"],[0.5,\"#f7f7f7\"],[0.6,\"#e6f5d0\"],[0.7,\"#b8e186\"],[0.8,\"#7fbc41\"],[0.9,\"#4d9221\"],[1,\"#276419\"]]},\"xaxis\":{\"gridcolor\":\"white\",\"linecolor\":\"white\",\"ticks\":\"\",\"title\":{\"standoff\":15},\"zerolinecolor\":\"white\",\"automargin\":true,\"zerolinewidth\":2},\"yaxis\":{\"gridcolor\":\"white\",\"linecolor\":\"white\",\"ticks\":\"\",\"title\":{\"standoff\":15},\"zerolinecolor\":\"white\",\"automargin\":true,\"zerolinewidth\":2},\"scene\":{\"xaxis\":{\"backgroundcolor\":\"#E5ECF6\",\"gridcolor\":\"white\",\"linecolor\":\"white\",\"showbackground\":true,\"ticks\":\"\",\"zerolinecolor\":\"white\",\"gridwidth\":2},\"yaxis\":{\"backgroundcolor\":\"#E5ECF6\",\"gridcolor\":\"white\",\"linecolor\":\"white\",\"showbackground\":true,\"ticks\":\"\",\"zerolinecolor\":\"white\",\"gridwidth\":2},\"zaxis\":{\"backgroundcolor\":\"#E5ECF6\",\"gridcolor\":\"white\",\"linecolor\":\"white\",\"showbackground\":true,\"ticks\":\"\",\"zerolinecolor\":\"white\",\"gridwidth\":2}},\"shapedefaults\":{\"line\":{\"color\":\"#2a3f5f\"}},\"annotationdefaults\":{\"arrowcolor\":\"#2a3f5f\",\"arrowhead\":0,\"arrowwidth\":1},\"geo\":{\"bgcolor\":\"white\",\"landcolor\":\"#E5ECF6\",\"subunitcolor\":\"white\",\"showland\":true,\"showlakes\":true,\"lakecolor\":\"white\"},\"title\":{\"x\":0.05},\"mapbox\":{\"style\":\"light\"}}},\"geo\":{\"domain\":{\"x\":[0.0,1.0],\"y\":[0.0,1.0]},\"center\":{},\"scope\":\"usa\"},\"legend\":{\"title\":{\"text\":\"Food Insecurity\"},\"tracegroupgap\":0,\"font\":{\"size\":18},\"x\":0.9,\"y\":0.7},\"margin\":{\"t\":60},\"font\":{\"family\":\"Times New Roman\",\"color\":\"black\"},\"title\":{\"font\":{\"size\":34},\"pad\":{\"b\":0},\"text\":\"Food Insecurity By State\",\"xanchor\":\"center\",\"x\":0.45,\"yref\":\"paper\",\"yanchor\":\"bottom\",\"y\":0.95},\"height\":1000,\"width\":1600,\"annotations\":[{\"font\":{\"color\":\"crimson\",\"family\":\"Helvetica\",\"size\":24},\"showarrow\":false,\"text\":\"Texas, Louisiana, Arkansas, and Mississippi Have the Highest Rates of Food Insecurity\",\"x\":0.5,\"y\":0.945}]},                        {\"responsive\": true}                    ).then(function(){\n",
              "                            \n",
              "var gd = document.getElementById('70627df1-e0a2-4d9b-a28d-2ce4990a8807');\n",
              "var x = new MutationObserver(function (mutations, observer) {{\n",
              "        var display = window.getComputedStyle(gd).display;\n",
              "        if (!display || display === 'none') {{\n",
              "            console.log([gd, 'removed!']);\n",
              "            Plotly.purge(gd);\n",
              "            observer.disconnect();\n",
              "        }}\n",
              "}});\n",
              "\n",
              "// Listen for the removal of the full notebook cells\n",
              "var notebookContainer = gd.closest('#notebook-container');\n",
              "if (notebookContainer) {{\n",
              "    x.observe(notebookContainer, {childList: true});\n",
              "}}\n",
              "\n",
              "// Listen for the clearing of the current output cell\n",
              "var outputEl = gd.closest('.output');\n",
              "if (outputEl) {{\n",
              "    x.observe(outputEl, {childList: true});\n",
              "}}\n",
              "\n",
              "                        })                };                            </script>        </div>\n",
              "</body>\n",
              "</html>"
            ]
          },
          "metadata": {}
        },
        {
          "output_type": "display_data",
          "data": {
            "text/plain": [
              "<IPython.core.display.Javascript object>"
            ],
            "application/javascript": [
              "\n",
              "    async function download(id, filename, size) {\n",
              "      if (!google.colab.kernel.accessAllowed) {\n",
              "        return;\n",
              "      }\n",
              "      const div = document.createElement('div');\n",
              "      const label = document.createElement('label');\n",
              "      label.textContent = `Downloading \"${filename}\": `;\n",
              "      div.appendChild(label);\n",
              "      const progress = document.createElement('progress');\n",
              "      progress.max = size;\n",
              "      div.appendChild(progress);\n",
              "      document.body.appendChild(div);\n",
              "\n",
              "      const buffers = [];\n",
              "      let downloaded = 0;\n",
              "\n",
              "      const channel = await google.colab.kernel.comms.open(id);\n",
              "      // Send a message to notify the kernel that we're ready.\n",
              "      channel.send({})\n",
              "\n",
              "      for await (const message of channel.messages) {\n",
              "        // Send a message to notify the kernel that we're ready.\n",
              "        channel.send({})\n",
              "        if (message.buffers) {\n",
              "          for (const buffer of message.buffers) {\n",
              "            buffers.push(buffer);\n",
              "            downloaded += buffer.byteLength;\n",
              "            progress.value = downloaded;\n",
              "          }\n",
              "        }\n",
              "      }\n",
              "      const blob = new Blob(buffers, {type: 'application/binary'});\n",
              "      const a = document.createElement('a');\n",
              "      a.href = window.URL.createObjectURL(blob);\n",
              "      a.download = filename;\n",
              "      div.appendChild(a);\n",
              "      a.click();\n",
              "      div.remove();\n",
              "    }\n",
              "  "
            ]
          },
          "metadata": {}
        },
        {
          "output_type": "display_data",
          "data": {
            "text/plain": [
              "<IPython.core.display.Javascript object>"
            ],
            "application/javascript": [
              "download(\"download_bdef47b0-6cf2-493d-882d-57e6ae302ab8\", \"Food Insecurity By State.png\", 203500)"
            ]
          },
          "metadata": {}
        }
      ]
    },
    {
      "cell_type": "markdown",
      "source": [
        "## **Insecurity By Gender and Age Group:**"
      ],
      "metadata": {
        "id": "BDn60XmpD0Sq"
      }
    },
    {
      "cell_type": "code",
      "source": [
        "wa_age1 = wa_age[wa_age['Age Group'] != 'Male']\n",
        "wa_age1 = wa_age1[wa_age['Age Group']!='Female']\n",
        "\n",
        "wa_age2 = wa_age[wa_age['Age Group'] == 'Male']\n",
        "wa_age3 = wa_age[wa_age['Age Group'] =='Female']\n",
        "wa_age4 = pd.concat([wa_age2, wa_age3])"
      ],
      "metadata": {
        "colab": {
          "base_uri": "https://localhost:8080/"
        },
        "id": "tiJb67u8MnSX",
        "outputId": "f4efd1e0-2083-4de4-ad10-a0f7c7a14bf0"
      },
      "execution_count": 11,
      "outputs": [
        {
          "output_type": "stream",
          "name": "stderr",
          "text": [
            "<ipython-input-11-c9890df4fec3>:2: UserWarning:\n",
            "\n",
            "Boolean Series key will be reindexed to match DataFrame index.\n",
            "\n"
          ]
        }
      ]
    },
    {
      "cell_type": "code",
      "source": [
        "fig1 = px.bar(wa_age1,\n",
        "    x='Food insecure',\n",
        "    y='Age Group', color = 'Age Group',\n",
        "    # marker color can be a single color value or an iterable\n",
        "    color_discrete_map = {'18–34':'lightgray','35–49':'crimson','50–64':'lightgray',\t'≥65':'lightgray'},\n",
        "    text_auto = True,)\n",
        "fig1.update_layout(title=dict(\n",
        "                      text='Food Insecurity by Age Group (Weight Adjusted for Age Group)',\n",
        "                      xanchor='center',\n",
        "                      x=0.475,\n",
        "                      yref='paper',\n",
        "                      yanchor='bottom',\n",
        "                      y=1.0,\n",
        "                      pad={'b': 0},\n",
        "                      font_size = 22),\n",
        "                   font_family = \"Times New Roman\", showlegend = False,\n",
        "                  template = 'plotly_white', height =500, width = 800,xaxis_title=\"Percentage\",\n",
        "   yaxis_title=\"\",)\n",
        "fig1.add_annotation(text=\"People Ages 35-49 Have the Highest Rates, Followed Closely by People Ages 50-64\",\n",
        "                   x=14,y=3.9,\n",
        "                   showarrow=False, font_size = 15 ,\n",
        "                   font_color = 'crimson',\n",
        "                   font_family = 'Times New Roman')\n",
        "fig1.show()\n",
        "fig1.write_image(\"Food Insecurity by Age Group.png\")\n",
        "files.download('Food Insecurity by Age Group.png')"
      ],
      "metadata": {
        "colab": {
          "base_uri": "https://localhost:8080/",
          "height": 517
        },
        "id": "kEBNANuq2ya-",
        "outputId": "37038a82-c774-4168-d6ed-82163cc6e443"
      },
      "execution_count": 12,
      "outputs": [
        {
          "output_type": "display_data",
          "data": {
            "text/html": [
              "<html>\n",
              "<head><meta charset=\"utf-8\" /></head>\n",
              "<body>\n",
              "    <div>            <script src=\"https://cdnjs.cloudflare.com/ajax/libs/mathjax/2.7.5/MathJax.js?config=TeX-AMS-MML_SVG\"></script><script type=\"text/javascript\">if (window.MathJax && window.MathJax.Hub && window.MathJax.Hub.Config) {window.MathJax.Hub.Config({SVG: {font: \"STIX-Web\"}});}</script>                <script type=\"text/javascript\">window.PlotlyConfig = {MathJaxConfig: 'local'};</script>\n",
              "        <script charset=\"utf-8\" src=\"https://cdn.plot.ly/plotly-2.27.0.min.js\"></script>                <div id=\"d7cacd8d-c646-4c7f-9a7e-37341ba48c2e\" class=\"plotly-graph-div\" style=\"height:500px; width:800px;\"></div>            <script type=\"text/javascript\">                                    window.PLOTLYENV=window.PLOTLYENV || {};                                    if (document.getElementById(\"d7cacd8d-c646-4c7f-9a7e-37341ba48c2e\")) {                    Plotly.newPlot(                        \"d7cacd8d-c646-4c7f-9a7e-37341ba48c2e\",                        [{\"alignmentgroup\":\"True\",\"hovertemplate\":\"Age Group=%{y}\\u003cbr\\u003eFood insecure=%{x}\\u003cextra\\u003e\\u003c\\u002fextra\\u003e\",\"legendgroup\":\"18\\u201334\",\"marker\":{\"color\":\"lightgray\",\"pattern\":{\"shape\":\"\"}},\"name\":\"18\\u201334\",\"offsetgroup\":\"18\\u201334\",\"orientation\":\"h\",\"showlegend\":true,\"textposition\":\"auto\",\"texttemplate\":\"%{x}\",\"x\":[27.23],\"xaxis\":\"x\",\"y\":[\"18\\u201334\"],\"yaxis\":\"y\",\"type\":\"bar\"},{\"alignmentgroup\":\"True\",\"hovertemplate\":\"Age Group=%{y}\\u003cbr\\u003eFood insecure=%{x}\\u003cextra\\u003e\\u003c\\u002fextra\\u003e\",\"legendgroup\":\"35\\u201349\",\"marker\":{\"color\":\"crimson\",\"pattern\":{\"shape\":\"\"}},\"name\":\"35\\u201349\",\"offsetgroup\":\"35\\u201349\",\"orientation\":\"h\",\"showlegend\":true,\"textposition\":\"auto\",\"texttemplate\":\"%{x}\",\"x\":[30.52],\"xaxis\":\"x\",\"y\":[\"35\\u201349\"],\"yaxis\":\"y\",\"type\":\"bar\"},{\"alignmentgroup\":\"True\",\"hovertemplate\":\"Age Group=%{y}\\u003cbr\\u003eFood insecure=%{x}\\u003cextra\\u003e\\u003c\\u002fextra\\u003e\",\"legendgroup\":\"50\\u201364\",\"marker\":{\"color\":\"lightgray\",\"pattern\":{\"shape\":\"\"}},\"name\":\"50\\u201364\",\"offsetgroup\":\"50\\u201364\",\"orientation\":\"h\",\"showlegend\":true,\"textposition\":\"auto\",\"texttemplate\":\"%{x}\",\"x\":[30.47],\"xaxis\":\"x\",\"y\":[\"50\\u201364\"],\"yaxis\":\"y\",\"type\":\"bar\"},{\"alignmentgroup\":\"True\",\"hovertemplate\":\"Age Group=%{y}\\u003cbr\\u003eFood insecure=%{x}\\u003cextra\\u003e\\u003c\\u002fextra\\u003e\",\"legendgroup\":\"\\u226565\",\"marker\":{\"color\":\"lightgray\",\"pattern\":{\"shape\":\"\"}},\"name\":\"\\u226565\",\"offsetgroup\":\"\\u226565\",\"orientation\":\"h\",\"showlegend\":true,\"textposition\":\"auto\",\"texttemplate\":\"%{x}\",\"x\":[11.78],\"xaxis\":\"x\",\"y\":[\"\\u226565\"],\"yaxis\":\"y\",\"type\":\"bar\"}],                        {\"template\":{\"data\":{\"barpolar\":[{\"marker\":{\"line\":{\"color\":\"white\",\"width\":0.5},\"pattern\":{\"fillmode\":\"overlay\",\"size\":10,\"solidity\":0.2}},\"type\":\"barpolar\"}],\"bar\":[{\"error_x\":{\"color\":\"#2a3f5f\"},\"error_y\":{\"color\":\"#2a3f5f\"},\"marker\":{\"line\":{\"color\":\"white\",\"width\":0.5},\"pattern\":{\"fillmode\":\"overlay\",\"size\":10,\"solidity\":0.2}},\"type\":\"bar\"}],\"carpet\":[{\"aaxis\":{\"endlinecolor\":\"#2a3f5f\",\"gridcolor\":\"#C8D4E3\",\"linecolor\":\"#C8D4E3\",\"minorgridcolor\":\"#C8D4E3\",\"startlinecolor\":\"#2a3f5f\"},\"baxis\":{\"endlinecolor\":\"#2a3f5f\",\"gridcolor\":\"#C8D4E3\",\"linecolor\":\"#C8D4E3\",\"minorgridcolor\":\"#C8D4E3\",\"startlinecolor\":\"#2a3f5f\"},\"type\":\"carpet\"}],\"choropleth\":[{\"colorbar\":{\"outlinewidth\":0,\"ticks\":\"\"},\"type\":\"choropleth\"}],\"contourcarpet\":[{\"colorbar\":{\"outlinewidth\":0,\"ticks\":\"\"},\"type\":\"contourcarpet\"}],\"contour\":[{\"colorbar\":{\"outlinewidth\":0,\"ticks\":\"\"},\"colorscale\":[[0.0,\"#0d0887\"],[0.1111111111111111,\"#46039f\"],[0.2222222222222222,\"#7201a8\"],[0.3333333333333333,\"#9c179e\"],[0.4444444444444444,\"#bd3786\"],[0.5555555555555556,\"#d8576b\"],[0.6666666666666666,\"#ed7953\"],[0.7777777777777778,\"#fb9f3a\"],[0.8888888888888888,\"#fdca26\"],[1.0,\"#f0f921\"]],\"type\":\"contour\"}],\"heatmapgl\":[{\"colorbar\":{\"outlinewidth\":0,\"ticks\":\"\"},\"colorscale\":[[0.0,\"#0d0887\"],[0.1111111111111111,\"#46039f\"],[0.2222222222222222,\"#7201a8\"],[0.3333333333333333,\"#9c179e\"],[0.4444444444444444,\"#bd3786\"],[0.5555555555555556,\"#d8576b\"],[0.6666666666666666,\"#ed7953\"],[0.7777777777777778,\"#fb9f3a\"],[0.8888888888888888,\"#fdca26\"],[1.0,\"#f0f921\"]],\"type\":\"heatmapgl\"}],\"heatmap\":[{\"colorbar\":{\"outlinewidth\":0,\"ticks\":\"\"},\"colorscale\":[[0.0,\"#0d0887\"],[0.1111111111111111,\"#46039f\"],[0.2222222222222222,\"#7201a8\"],[0.3333333333333333,\"#9c179e\"],[0.4444444444444444,\"#bd3786\"],[0.5555555555555556,\"#d8576b\"],[0.6666666666666666,\"#ed7953\"],[0.7777777777777778,\"#fb9f3a\"],[0.8888888888888888,\"#fdca26\"],[1.0,\"#f0f921\"]],\"type\":\"heatmap\"}],\"histogram2dcontour\":[{\"colorbar\":{\"outlinewidth\":0,\"ticks\":\"\"},\"colorscale\":[[0.0,\"#0d0887\"],[0.1111111111111111,\"#46039f\"],[0.2222222222222222,\"#7201a8\"],[0.3333333333333333,\"#9c179e\"],[0.4444444444444444,\"#bd3786\"],[0.5555555555555556,\"#d8576b\"],[0.6666666666666666,\"#ed7953\"],[0.7777777777777778,\"#fb9f3a\"],[0.8888888888888888,\"#fdca26\"],[1.0,\"#f0f921\"]],\"type\":\"histogram2dcontour\"}],\"histogram2d\":[{\"colorbar\":{\"outlinewidth\":0,\"ticks\":\"\"},\"colorscale\":[[0.0,\"#0d0887\"],[0.1111111111111111,\"#46039f\"],[0.2222222222222222,\"#7201a8\"],[0.3333333333333333,\"#9c179e\"],[0.4444444444444444,\"#bd3786\"],[0.5555555555555556,\"#d8576b\"],[0.6666666666666666,\"#ed7953\"],[0.7777777777777778,\"#fb9f3a\"],[0.8888888888888888,\"#fdca26\"],[1.0,\"#f0f921\"]],\"type\":\"histogram2d\"}],\"histogram\":[{\"marker\":{\"pattern\":{\"fillmode\":\"overlay\",\"size\":10,\"solidity\":0.2}},\"type\":\"histogram\"}],\"mesh3d\":[{\"colorbar\":{\"outlinewidth\":0,\"ticks\":\"\"},\"type\":\"mesh3d\"}],\"parcoords\":[{\"line\":{\"colorbar\":{\"outlinewidth\":0,\"ticks\":\"\"}},\"type\":\"parcoords\"}],\"pie\":[{\"automargin\":true,\"type\":\"pie\"}],\"scatter3d\":[{\"line\":{\"colorbar\":{\"outlinewidth\":0,\"ticks\":\"\"}},\"marker\":{\"colorbar\":{\"outlinewidth\":0,\"ticks\":\"\"}},\"type\":\"scatter3d\"}],\"scattercarpet\":[{\"marker\":{\"colorbar\":{\"outlinewidth\":0,\"ticks\":\"\"}},\"type\":\"scattercarpet\"}],\"scattergeo\":[{\"marker\":{\"colorbar\":{\"outlinewidth\":0,\"ticks\":\"\"}},\"type\":\"scattergeo\"}],\"scattergl\":[{\"marker\":{\"colorbar\":{\"outlinewidth\":0,\"ticks\":\"\"}},\"type\":\"scattergl\"}],\"scattermapbox\":[{\"marker\":{\"colorbar\":{\"outlinewidth\":0,\"ticks\":\"\"}},\"type\":\"scattermapbox\"}],\"scatterpolargl\":[{\"marker\":{\"colorbar\":{\"outlinewidth\":0,\"ticks\":\"\"}},\"type\":\"scatterpolargl\"}],\"scatterpolar\":[{\"marker\":{\"colorbar\":{\"outlinewidth\":0,\"ticks\":\"\"}},\"type\":\"scatterpolar\"}],\"scatter\":[{\"fillpattern\":{\"fillmode\":\"overlay\",\"size\":10,\"solidity\":0.2},\"type\":\"scatter\"}],\"scatterternary\":[{\"marker\":{\"colorbar\":{\"outlinewidth\":0,\"ticks\":\"\"}},\"type\":\"scatterternary\"}],\"surface\":[{\"colorbar\":{\"outlinewidth\":0,\"ticks\":\"\"},\"colorscale\":[[0.0,\"#0d0887\"],[0.1111111111111111,\"#46039f\"],[0.2222222222222222,\"#7201a8\"],[0.3333333333333333,\"#9c179e\"],[0.4444444444444444,\"#bd3786\"],[0.5555555555555556,\"#d8576b\"],[0.6666666666666666,\"#ed7953\"],[0.7777777777777778,\"#fb9f3a\"],[0.8888888888888888,\"#fdca26\"],[1.0,\"#f0f921\"]],\"type\":\"surface\"}],\"table\":[{\"cells\":{\"fill\":{\"color\":\"#EBF0F8\"},\"line\":{\"color\":\"white\"}},\"header\":{\"fill\":{\"color\":\"#C8D4E3\"},\"line\":{\"color\":\"white\"}},\"type\":\"table\"}]},\"layout\":{\"annotationdefaults\":{\"arrowcolor\":\"#2a3f5f\",\"arrowhead\":0,\"arrowwidth\":1},\"autotypenumbers\":\"strict\",\"coloraxis\":{\"colorbar\":{\"outlinewidth\":0,\"ticks\":\"\"}},\"colorscale\":{\"diverging\":[[0,\"#8e0152\"],[0.1,\"#c51b7d\"],[0.2,\"#de77ae\"],[0.3,\"#f1b6da\"],[0.4,\"#fde0ef\"],[0.5,\"#f7f7f7\"],[0.6,\"#e6f5d0\"],[0.7,\"#b8e186\"],[0.8,\"#7fbc41\"],[0.9,\"#4d9221\"],[1,\"#276419\"]],\"sequential\":[[0.0,\"#0d0887\"],[0.1111111111111111,\"#46039f\"],[0.2222222222222222,\"#7201a8\"],[0.3333333333333333,\"#9c179e\"],[0.4444444444444444,\"#bd3786\"],[0.5555555555555556,\"#d8576b\"],[0.6666666666666666,\"#ed7953\"],[0.7777777777777778,\"#fb9f3a\"],[0.8888888888888888,\"#fdca26\"],[1.0,\"#f0f921\"]],\"sequentialminus\":[[0.0,\"#0d0887\"],[0.1111111111111111,\"#46039f\"],[0.2222222222222222,\"#7201a8\"],[0.3333333333333333,\"#9c179e\"],[0.4444444444444444,\"#bd3786\"],[0.5555555555555556,\"#d8576b\"],[0.6666666666666666,\"#ed7953\"],[0.7777777777777778,\"#fb9f3a\"],[0.8888888888888888,\"#fdca26\"],[1.0,\"#f0f921\"]]},\"colorway\":[\"#636efa\",\"#EF553B\",\"#00cc96\",\"#ab63fa\",\"#FFA15A\",\"#19d3f3\",\"#FF6692\",\"#B6E880\",\"#FF97FF\",\"#FECB52\"],\"font\":{\"color\":\"#2a3f5f\"},\"geo\":{\"bgcolor\":\"white\",\"lakecolor\":\"white\",\"landcolor\":\"white\",\"showlakes\":true,\"showland\":true,\"subunitcolor\":\"#C8D4E3\"},\"hoverlabel\":{\"align\":\"left\"},\"hovermode\":\"closest\",\"mapbox\":{\"style\":\"light\"},\"paper_bgcolor\":\"white\",\"plot_bgcolor\":\"white\",\"polar\":{\"angularaxis\":{\"gridcolor\":\"#EBF0F8\",\"linecolor\":\"#EBF0F8\",\"ticks\":\"\"},\"bgcolor\":\"white\",\"radialaxis\":{\"gridcolor\":\"#EBF0F8\",\"linecolor\":\"#EBF0F8\",\"ticks\":\"\"}},\"scene\":{\"xaxis\":{\"backgroundcolor\":\"white\",\"gridcolor\":\"#DFE8F3\",\"gridwidth\":2,\"linecolor\":\"#EBF0F8\",\"showbackground\":true,\"ticks\":\"\",\"zerolinecolor\":\"#EBF0F8\"},\"yaxis\":{\"backgroundcolor\":\"white\",\"gridcolor\":\"#DFE8F3\",\"gridwidth\":2,\"linecolor\":\"#EBF0F8\",\"showbackground\":true,\"ticks\":\"\",\"zerolinecolor\":\"#EBF0F8\"},\"zaxis\":{\"backgroundcolor\":\"white\",\"gridcolor\":\"#DFE8F3\",\"gridwidth\":2,\"linecolor\":\"#EBF0F8\",\"showbackground\":true,\"ticks\":\"\",\"zerolinecolor\":\"#EBF0F8\"}},\"shapedefaults\":{\"line\":{\"color\":\"#2a3f5f\"}},\"ternary\":{\"aaxis\":{\"gridcolor\":\"#DFE8F3\",\"linecolor\":\"#A2B1C6\",\"ticks\":\"\"},\"baxis\":{\"gridcolor\":\"#DFE8F3\",\"linecolor\":\"#A2B1C6\",\"ticks\":\"\"},\"bgcolor\":\"white\",\"caxis\":{\"gridcolor\":\"#DFE8F3\",\"linecolor\":\"#A2B1C6\",\"ticks\":\"\"}},\"title\":{\"x\":0.05},\"xaxis\":{\"automargin\":true,\"gridcolor\":\"#EBF0F8\",\"linecolor\":\"#EBF0F8\",\"ticks\":\"\",\"title\":{\"standoff\":15},\"zerolinecolor\":\"#EBF0F8\",\"zerolinewidth\":2},\"yaxis\":{\"automargin\":true,\"gridcolor\":\"#EBF0F8\",\"linecolor\":\"#EBF0F8\",\"ticks\":\"\",\"title\":{\"standoff\":15},\"zerolinecolor\":\"#EBF0F8\",\"zerolinewidth\":2}}},\"xaxis\":{\"anchor\":\"y\",\"domain\":[0.0,1.0],\"title\":{\"text\":\"Percentage\"}},\"yaxis\":{\"anchor\":\"x\",\"domain\":[0.0,1.0],\"title\":{\"text\":\"\"},\"categoryorder\":\"array\",\"categoryarray\":[\"\\u226565\",\"50\\u201364\",\"35\\u201349\",\"18\\u201334\"]},\"legend\":{\"title\":{\"text\":\"Age Group\"},\"tracegroupgap\":0},\"margin\":{\"t\":60},\"barmode\":\"relative\",\"title\":{\"pad\":{\"b\":0},\"font\":{\"size\":22},\"text\":\"Food Insecurity by Age Group (Weight Adjusted for Age Group)\",\"xanchor\":\"center\",\"x\":0.475,\"yref\":\"paper\",\"yanchor\":\"bottom\",\"y\":1.0},\"font\":{\"family\":\"Times New Roman\"},\"showlegend\":false,\"height\":500,\"width\":800,\"annotations\":[{\"font\":{\"color\":\"crimson\",\"family\":\"Times New Roman\",\"size\":15},\"showarrow\":false,\"text\":\"People Ages 35-49 Have the Highest Rates, Followed Closely by People Ages 50-64\",\"x\":14,\"y\":3.9}]},                        {\"responsive\": true}                    ).then(function(){\n",
              "                            \n",
              "var gd = document.getElementById('d7cacd8d-c646-4c7f-9a7e-37341ba48c2e');\n",
              "var x = new MutationObserver(function (mutations, observer) {{\n",
              "        var display = window.getComputedStyle(gd).display;\n",
              "        if (!display || display === 'none') {{\n",
              "            console.log([gd, 'removed!']);\n",
              "            Plotly.purge(gd);\n",
              "            observer.disconnect();\n",
              "        }}\n",
              "}});\n",
              "\n",
              "// Listen for the removal of the full notebook cells\n",
              "var notebookContainer = gd.closest('#notebook-container');\n",
              "if (notebookContainer) {{\n",
              "    x.observe(notebookContainer, {childList: true});\n",
              "}}\n",
              "\n",
              "// Listen for the clearing of the current output cell\n",
              "var outputEl = gd.closest('.output');\n",
              "if (outputEl) {{\n",
              "    x.observe(outputEl, {childList: true});\n",
              "}}\n",
              "\n",
              "                        })                };                            </script>        </div>\n",
              "</body>\n",
              "</html>"
            ]
          },
          "metadata": {}
        },
        {
          "output_type": "display_data",
          "data": {
            "text/plain": [
              "<IPython.core.display.Javascript object>"
            ],
            "application/javascript": [
              "\n",
              "    async function download(id, filename, size) {\n",
              "      if (!google.colab.kernel.accessAllowed) {\n",
              "        return;\n",
              "      }\n",
              "      const div = document.createElement('div');\n",
              "      const label = document.createElement('label');\n",
              "      label.textContent = `Downloading \"${filename}\": `;\n",
              "      div.appendChild(label);\n",
              "      const progress = document.createElement('progress');\n",
              "      progress.max = size;\n",
              "      div.appendChild(progress);\n",
              "      document.body.appendChild(div);\n",
              "\n",
              "      const buffers = [];\n",
              "      let downloaded = 0;\n",
              "\n",
              "      const channel = await google.colab.kernel.comms.open(id);\n",
              "      // Send a message to notify the kernel that we're ready.\n",
              "      channel.send({})\n",
              "\n",
              "      for await (const message of channel.messages) {\n",
              "        // Send a message to notify the kernel that we're ready.\n",
              "        channel.send({})\n",
              "        if (message.buffers) {\n",
              "          for (const buffer of message.buffers) {\n",
              "            buffers.push(buffer);\n",
              "            downloaded += buffer.byteLength;\n",
              "            progress.value = downloaded;\n",
              "          }\n",
              "        }\n",
              "      }\n",
              "      const blob = new Blob(buffers, {type: 'application/binary'});\n",
              "      const a = document.createElement('a');\n",
              "      a.href = window.URL.createObjectURL(blob);\n",
              "      a.download = filename;\n",
              "      div.appendChild(a);\n",
              "      a.click();\n",
              "      div.remove();\n",
              "    }\n",
              "  "
            ]
          },
          "metadata": {}
        },
        {
          "output_type": "display_data",
          "data": {
            "text/plain": [
              "<IPython.core.display.Javascript object>"
            ],
            "application/javascript": [
              "download(\"download_0e758f96-5d37-4968-b3d9-189a07485551\", \"Food Insecurity by Age Group.png\", 40696)"
            ]
          },
          "metadata": {}
        }
      ]
    },
    {
      "cell_type": "code",
      "source": [
        "fig2 = px.bar(wa_age4,\n",
        "              x = 'Food insecure',\n",
        "              y= 'Age Group', color = 'Age Group',\n",
        "              color_discrete_map = {'Male':'lightgray','Female':'crimson'},text_auto = True,)\n",
        "fig2.update_layout(title=dict(\n",
        "                      text='Food Insecurity By Gender (Weight Adjusted for Gender)',\n",
        "                      xanchor='center',\n",
        "                      x=0.45,\n",
        "                      yref='paper',\n",
        "                      yanchor='bottom',\n",
        "                      y=1.0,\n",
        "                      pad={'b': 0},\n",
        "                      font_size = 22),\n",
        "                   font_family = \"Times New Roman\", showlegend = False,\n",
        "                  template = 'plotly_white', height =500, width = 800,xaxis_title=\"Percentage\",\n",
        "   yaxis_title=\"\",)\n",
        "fig2.add_annotation(text=\"Female Rates of Food Insecurity Far Outpace Males\",\n",
        "                   x=30,y=1.6,\n",
        "                   showarrow=False, font_size = 15 ,\n",
        "                   font_color = 'crimson',\n",
        "                   font_family = 'Helvetica')\n",
        "\n",
        "fig2.show()\n",
        "fig2.write_image(\"Food Insecurity By Gender (Weight Adjusted for Gender).png\")\n",
        "files.download('Food Insecurity By Gender (Weight Adjusted for Gender).png')"
      ],
      "metadata": {
        "colab": {
          "base_uri": "https://localhost:8080/",
          "height": 517
        },
        "id": "5K3EPrd33KUd",
        "outputId": "68c3c5da-c127-4fbe-805b-7da80c09b048"
      },
      "execution_count": 13,
      "outputs": [
        {
          "output_type": "display_data",
          "data": {
            "text/html": [
              "<html>\n",
              "<head><meta charset=\"utf-8\" /></head>\n",
              "<body>\n",
              "    <div>            <script src=\"https://cdnjs.cloudflare.com/ajax/libs/mathjax/2.7.5/MathJax.js?config=TeX-AMS-MML_SVG\"></script><script type=\"text/javascript\">if (window.MathJax && window.MathJax.Hub && window.MathJax.Hub.Config) {window.MathJax.Hub.Config({SVG: {font: \"STIX-Web\"}});}</script>                <script type=\"text/javascript\">window.PlotlyConfig = {MathJaxConfig: 'local'};</script>\n",
              "        <script charset=\"utf-8\" src=\"https://cdn.plot.ly/plotly-2.27.0.min.js\"></script>                <div id=\"8d107485-445e-4fae-be3a-19652c926f7e\" class=\"plotly-graph-div\" style=\"height:500px; width:800px;\"></div>            <script type=\"text/javascript\">                                    window.PLOTLYENV=window.PLOTLYENV || {};                                    if (document.getElementById(\"8d107485-445e-4fae-be3a-19652c926f7e\")) {                    Plotly.newPlot(                        \"8d107485-445e-4fae-be3a-19652c926f7e\",                        [{\"alignmentgroup\":\"True\",\"hovertemplate\":\"Age Group=%{y}\\u003cbr\\u003eFood insecure=%{x}\\u003cextra\\u003e\\u003c\\u002fextra\\u003e\",\"legendgroup\":\"Male\",\"marker\":{\"color\":\"lightgray\",\"pattern\":{\"shape\":\"\"}},\"name\":\"Male\",\"offsetgroup\":\"Male\",\"orientation\":\"h\",\"showlegend\":true,\"textposition\":\"auto\",\"texttemplate\":\"%{x}\",\"x\":[34.85],\"xaxis\":\"x\",\"y\":[\"Male\"],\"yaxis\":\"y\",\"type\":\"bar\"},{\"alignmentgroup\":\"True\",\"hovertemplate\":\"Age Group=%{y}\\u003cbr\\u003eFood insecure=%{x}\\u003cextra\\u003e\\u003c\\u002fextra\\u003e\",\"legendgroup\":\"Female\",\"marker\":{\"color\":\"crimson\",\"pattern\":{\"shape\":\"\"}},\"name\":\"Female\",\"offsetgroup\":\"Female\",\"orientation\":\"h\",\"showlegend\":true,\"textposition\":\"auto\",\"texttemplate\":\"%{x}\",\"x\":[65.15],\"xaxis\":\"x\",\"y\":[\"Female\"],\"yaxis\":\"y\",\"type\":\"bar\"}],                        {\"template\":{\"data\":{\"barpolar\":[{\"marker\":{\"line\":{\"color\":\"white\",\"width\":0.5},\"pattern\":{\"fillmode\":\"overlay\",\"size\":10,\"solidity\":0.2}},\"type\":\"barpolar\"}],\"bar\":[{\"error_x\":{\"color\":\"#2a3f5f\"},\"error_y\":{\"color\":\"#2a3f5f\"},\"marker\":{\"line\":{\"color\":\"white\",\"width\":0.5},\"pattern\":{\"fillmode\":\"overlay\",\"size\":10,\"solidity\":0.2}},\"type\":\"bar\"}],\"carpet\":[{\"aaxis\":{\"endlinecolor\":\"#2a3f5f\",\"gridcolor\":\"#C8D4E3\",\"linecolor\":\"#C8D4E3\",\"minorgridcolor\":\"#C8D4E3\",\"startlinecolor\":\"#2a3f5f\"},\"baxis\":{\"endlinecolor\":\"#2a3f5f\",\"gridcolor\":\"#C8D4E3\",\"linecolor\":\"#C8D4E3\",\"minorgridcolor\":\"#C8D4E3\",\"startlinecolor\":\"#2a3f5f\"},\"type\":\"carpet\"}],\"choropleth\":[{\"colorbar\":{\"outlinewidth\":0,\"ticks\":\"\"},\"type\":\"choropleth\"}],\"contourcarpet\":[{\"colorbar\":{\"outlinewidth\":0,\"ticks\":\"\"},\"type\":\"contourcarpet\"}],\"contour\":[{\"colorbar\":{\"outlinewidth\":0,\"ticks\":\"\"},\"colorscale\":[[0.0,\"#0d0887\"],[0.1111111111111111,\"#46039f\"],[0.2222222222222222,\"#7201a8\"],[0.3333333333333333,\"#9c179e\"],[0.4444444444444444,\"#bd3786\"],[0.5555555555555556,\"#d8576b\"],[0.6666666666666666,\"#ed7953\"],[0.7777777777777778,\"#fb9f3a\"],[0.8888888888888888,\"#fdca26\"],[1.0,\"#f0f921\"]],\"type\":\"contour\"}],\"heatmapgl\":[{\"colorbar\":{\"outlinewidth\":0,\"ticks\":\"\"},\"colorscale\":[[0.0,\"#0d0887\"],[0.1111111111111111,\"#46039f\"],[0.2222222222222222,\"#7201a8\"],[0.3333333333333333,\"#9c179e\"],[0.4444444444444444,\"#bd3786\"],[0.5555555555555556,\"#d8576b\"],[0.6666666666666666,\"#ed7953\"],[0.7777777777777778,\"#fb9f3a\"],[0.8888888888888888,\"#fdca26\"],[1.0,\"#f0f921\"]],\"type\":\"heatmapgl\"}],\"heatmap\":[{\"colorbar\":{\"outlinewidth\":0,\"ticks\":\"\"},\"colorscale\":[[0.0,\"#0d0887\"],[0.1111111111111111,\"#46039f\"],[0.2222222222222222,\"#7201a8\"],[0.3333333333333333,\"#9c179e\"],[0.4444444444444444,\"#bd3786\"],[0.5555555555555556,\"#d8576b\"],[0.6666666666666666,\"#ed7953\"],[0.7777777777777778,\"#fb9f3a\"],[0.8888888888888888,\"#fdca26\"],[1.0,\"#f0f921\"]],\"type\":\"heatmap\"}],\"histogram2dcontour\":[{\"colorbar\":{\"outlinewidth\":0,\"ticks\":\"\"},\"colorscale\":[[0.0,\"#0d0887\"],[0.1111111111111111,\"#46039f\"],[0.2222222222222222,\"#7201a8\"],[0.3333333333333333,\"#9c179e\"],[0.4444444444444444,\"#bd3786\"],[0.5555555555555556,\"#d8576b\"],[0.6666666666666666,\"#ed7953\"],[0.7777777777777778,\"#fb9f3a\"],[0.8888888888888888,\"#fdca26\"],[1.0,\"#f0f921\"]],\"type\":\"histogram2dcontour\"}],\"histogram2d\":[{\"colorbar\":{\"outlinewidth\":0,\"ticks\":\"\"},\"colorscale\":[[0.0,\"#0d0887\"],[0.1111111111111111,\"#46039f\"],[0.2222222222222222,\"#7201a8\"],[0.3333333333333333,\"#9c179e\"],[0.4444444444444444,\"#bd3786\"],[0.5555555555555556,\"#d8576b\"],[0.6666666666666666,\"#ed7953\"],[0.7777777777777778,\"#fb9f3a\"],[0.8888888888888888,\"#fdca26\"],[1.0,\"#f0f921\"]],\"type\":\"histogram2d\"}],\"histogram\":[{\"marker\":{\"pattern\":{\"fillmode\":\"overlay\",\"size\":10,\"solidity\":0.2}},\"type\":\"histogram\"}],\"mesh3d\":[{\"colorbar\":{\"outlinewidth\":0,\"ticks\":\"\"},\"type\":\"mesh3d\"}],\"parcoords\":[{\"line\":{\"colorbar\":{\"outlinewidth\":0,\"ticks\":\"\"}},\"type\":\"parcoords\"}],\"pie\":[{\"automargin\":true,\"type\":\"pie\"}],\"scatter3d\":[{\"line\":{\"colorbar\":{\"outlinewidth\":0,\"ticks\":\"\"}},\"marker\":{\"colorbar\":{\"outlinewidth\":0,\"ticks\":\"\"}},\"type\":\"scatter3d\"}],\"scattercarpet\":[{\"marker\":{\"colorbar\":{\"outlinewidth\":0,\"ticks\":\"\"}},\"type\":\"scattercarpet\"}],\"scattergeo\":[{\"marker\":{\"colorbar\":{\"outlinewidth\":0,\"ticks\":\"\"}},\"type\":\"scattergeo\"}],\"scattergl\":[{\"marker\":{\"colorbar\":{\"outlinewidth\":0,\"ticks\":\"\"}},\"type\":\"scattergl\"}],\"scattermapbox\":[{\"marker\":{\"colorbar\":{\"outlinewidth\":0,\"ticks\":\"\"}},\"type\":\"scattermapbox\"}],\"scatterpolargl\":[{\"marker\":{\"colorbar\":{\"outlinewidth\":0,\"ticks\":\"\"}},\"type\":\"scatterpolargl\"}],\"scatterpolar\":[{\"marker\":{\"colorbar\":{\"outlinewidth\":0,\"ticks\":\"\"}},\"type\":\"scatterpolar\"}],\"scatter\":[{\"fillpattern\":{\"fillmode\":\"overlay\",\"size\":10,\"solidity\":0.2},\"type\":\"scatter\"}],\"scatterternary\":[{\"marker\":{\"colorbar\":{\"outlinewidth\":0,\"ticks\":\"\"}},\"type\":\"scatterternary\"}],\"surface\":[{\"colorbar\":{\"outlinewidth\":0,\"ticks\":\"\"},\"colorscale\":[[0.0,\"#0d0887\"],[0.1111111111111111,\"#46039f\"],[0.2222222222222222,\"#7201a8\"],[0.3333333333333333,\"#9c179e\"],[0.4444444444444444,\"#bd3786\"],[0.5555555555555556,\"#d8576b\"],[0.6666666666666666,\"#ed7953\"],[0.7777777777777778,\"#fb9f3a\"],[0.8888888888888888,\"#fdca26\"],[1.0,\"#f0f921\"]],\"type\":\"surface\"}],\"table\":[{\"cells\":{\"fill\":{\"color\":\"#EBF0F8\"},\"line\":{\"color\":\"white\"}},\"header\":{\"fill\":{\"color\":\"#C8D4E3\"},\"line\":{\"color\":\"white\"}},\"type\":\"table\"}]},\"layout\":{\"annotationdefaults\":{\"arrowcolor\":\"#2a3f5f\",\"arrowhead\":0,\"arrowwidth\":1},\"autotypenumbers\":\"strict\",\"coloraxis\":{\"colorbar\":{\"outlinewidth\":0,\"ticks\":\"\"}},\"colorscale\":{\"diverging\":[[0,\"#8e0152\"],[0.1,\"#c51b7d\"],[0.2,\"#de77ae\"],[0.3,\"#f1b6da\"],[0.4,\"#fde0ef\"],[0.5,\"#f7f7f7\"],[0.6,\"#e6f5d0\"],[0.7,\"#b8e186\"],[0.8,\"#7fbc41\"],[0.9,\"#4d9221\"],[1,\"#276419\"]],\"sequential\":[[0.0,\"#0d0887\"],[0.1111111111111111,\"#46039f\"],[0.2222222222222222,\"#7201a8\"],[0.3333333333333333,\"#9c179e\"],[0.4444444444444444,\"#bd3786\"],[0.5555555555555556,\"#d8576b\"],[0.6666666666666666,\"#ed7953\"],[0.7777777777777778,\"#fb9f3a\"],[0.8888888888888888,\"#fdca26\"],[1.0,\"#f0f921\"]],\"sequentialminus\":[[0.0,\"#0d0887\"],[0.1111111111111111,\"#46039f\"],[0.2222222222222222,\"#7201a8\"],[0.3333333333333333,\"#9c179e\"],[0.4444444444444444,\"#bd3786\"],[0.5555555555555556,\"#d8576b\"],[0.6666666666666666,\"#ed7953\"],[0.7777777777777778,\"#fb9f3a\"],[0.8888888888888888,\"#fdca26\"],[1.0,\"#f0f921\"]]},\"colorway\":[\"#636efa\",\"#EF553B\",\"#00cc96\",\"#ab63fa\",\"#FFA15A\",\"#19d3f3\",\"#FF6692\",\"#B6E880\",\"#FF97FF\",\"#FECB52\"],\"font\":{\"color\":\"#2a3f5f\"},\"geo\":{\"bgcolor\":\"white\",\"lakecolor\":\"white\",\"landcolor\":\"white\",\"showlakes\":true,\"showland\":true,\"subunitcolor\":\"#C8D4E3\"},\"hoverlabel\":{\"align\":\"left\"},\"hovermode\":\"closest\",\"mapbox\":{\"style\":\"light\"},\"paper_bgcolor\":\"white\",\"plot_bgcolor\":\"white\",\"polar\":{\"angularaxis\":{\"gridcolor\":\"#EBF0F8\",\"linecolor\":\"#EBF0F8\",\"ticks\":\"\"},\"bgcolor\":\"white\",\"radialaxis\":{\"gridcolor\":\"#EBF0F8\",\"linecolor\":\"#EBF0F8\",\"ticks\":\"\"}},\"scene\":{\"xaxis\":{\"backgroundcolor\":\"white\",\"gridcolor\":\"#DFE8F3\",\"gridwidth\":2,\"linecolor\":\"#EBF0F8\",\"showbackground\":true,\"ticks\":\"\",\"zerolinecolor\":\"#EBF0F8\"},\"yaxis\":{\"backgroundcolor\":\"white\",\"gridcolor\":\"#DFE8F3\",\"gridwidth\":2,\"linecolor\":\"#EBF0F8\",\"showbackground\":true,\"ticks\":\"\",\"zerolinecolor\":\"#EBF0F8\"},\"zaxis\":{\"backgroundcolor\":\"white\",\"gridcolor\":\"#DFE8F3\",\"gridwidth\":2,\"linecolor\":\"#EBF0F8\",\"showbackground\":true,\"ticks\":\"\",\"zerolinecolor\":\"#EBF0F8\"}},\"shapedefaults\":{\"line\":{\"color\":\"#2a3f5f\"}},\"ternary\":{\"aaxis\":{\"gridcolor\":\"#DFE8F3\",\"linecolor\":\"#A2B1C6\",\"ticks\":\"\"},\"baxis\":{\"gridcolor\":\"#DFE8F3\",\"linecolor\":\"#A2B1C6\",\"ticks\":\"\"},\"bgcolor\":\"white\",\"caxis\":{\"gridcolor\":\"#DFE8F3\",\"linecolor\":\"#A2B1C6\",\"ticks\":\"\"}},\"title\":{\"x\":0.05},\"xaxis\":{\"automargin\":true,\"gridcolor\":\"#EBF0F8\",\"linecolor\":\"#EBF0F8\",\"ticks\":\"\",\"title\":{\"standoff\":15},\"zerolinecolor\":\"#EBF0F8\",\"zerolinewidth\":2},\"yaxis\":{\"automargin\":true,\"gridcolor\":\"#EBF0F8\",\"linecolor\":\"#EBF0F8\",\"ticks\":\"\",\"title\":{\"standoff\":15},\"zerolinecolor\":\"#EBF0F8\",\"zerolinewidth\":2}}},\"xaxis\":{\"anchor\":\"y\",\"domain\":[0.0,1.0],\"title\":{\"text\":\"Percentage\"}},\"yaxis\":{\"anchor\":\"x\",\"domain\":[0.0,1.0],\"title\":{\"text\":\"\"},\"categoryorder\":\"array\",\"categoryarray\":[\"Female\",\"Male\"]},\"legend\":{\"title\":{\"text\":\"Age Group\"},\"tracegroupgap\":0},\"margin\":{\"t\":60},\"barmode\":\"relative\",\"title\":{\"pad\":{\"b\":0},\"font\":{\"size\":22},\"text\":\"Food Insecurity By Gender (Weight Adjusted for Gender)\",\"xanchor\":\"center\",\"x\":0.45,\"yref\":\"paper\",\"yanchor\":\"bottom\",\"y\":1.0},\"font\":{\"family\":\"Times New Roman\"},\"showlegend\":false,\"height\":500,\"width\":800,\"annotations\":[{\"font\":{\"color\":\"crimson\",\"family\":\"Helvetica\",\"size\":15},\"showarrow\":false,\"text\":\"Female Rates of Food Insecurity Far Outpace Males\",\"x\":30,\"y\":1.6}]},                        {\"responsive\": true}                    ).then(function(){\n",
              "                            \n",
              "var gd = document.getElementById('8d107485-445e-4fae-be3a-19652c926f7e');\n",
              "var x = new MutationObserver(function (mutations, observer) {{\n",
              "        var display = window.getComputedStyle(gd).display;\n",
              "        if (!display || display === 'none') {{\n",
              "            console.log([gd, 'removed!']);\n",
              "            Plotly.purge(gd);\n",
              "            observer.disconnect();\n",
              "        }}\n",
              "}});\n",
              "\n",
              "// Listen for the removal of the full notebook cells\n",
              "var notebookContainer = gd.closest('#notebook-container');\n",
              "if (notebookContainer) {{\n",
              "    x.observe(notebookContainer, {childList: true});\n",
              "}}\n",
              "\n",
              "// Listen for the clearing of the current output cell\n",
              "var outputEl = gd.closest('.output');\n",
              "if (outputEl) {{\n",
              "    x.observe(outputEl, {childList: true});\n",
              "}}\n",
              "\n",
              "                        })                };                            </script>        </div>\n",
              "</body>\n",
              "</html>"
            ]
          },
          "metadata": {}
        },
        {
          "output_type": "display_data",
          "data": {
            "text/plain": [
              "<IPython.core.display.Javascript object>"
            ],
            "application/javascript": [
              "\n",
              "    async function download(id, filename, size) {\n",
              "      if (!google.colab.kernel.accessAllowed) {\n",
              "        return;\n",
              "      }\n",
              "      const div = document.createElement('div');\n",
              "      const label = document.createElement('label');\n",
              "      label.textContent = `Downloading \"${filename}\": `;\n",
              "      div.appendChild(label);\n",
              "      const progress = document.createElement('progress');\n",
              "      progress.max = size;\n",
              "      div.appendChild(progress);\n",
              "      document.body.appendChild(div);\n",
              "\n",
              "      const buffers = [];\n",
              "      let downloaded = 0;\n",
              "\n",
              "      const channel = await google.colab.kernel.comms.open(id);\n",
              "      // Send a message to notify the kernel that we're ready.\n",
              "      channel.send({})\n",
              "\n",
              "      for await (const message of channel.messages) {\n",
              "        // Send a message to notify the kernel that we're ready.\n",
              "        channel.send({})\n",
              "        if (message.buffers) {\n",
              "          for (const buffer of message.buffers) {\n",
              "            buffers.push(buffer);\n",
              "            downloaded += buffer.byteLength;\n",
              "            progress.value = downloaded;\n",
              "          }\n",
              "        }\n",
              "      }\n",
              "      const blob = new Blob(buffers, {type: 'application/binary'});\n",
              "      const a = document.createElement('a');\n",
              "      a.href = window.URL.createObjectURL(blob);\n",
              "      a.download = filename;\n",
              "      div.appendChild(a);\n",
              "      a.click();\n",
              "      div.remove();\n",
              "    }\n",
              "  "
            ]
          },
          "metadata": {}
        },
        {
          "output_type": "display_data",
          "data": {
            "text/plain": [
              "<IPython.core.display.Javascript object>"
            ],
            "application/javascript": [
              "download(\"download_ebaf0eaf-6702-402d-8b26-aa5a2ceface8\", \"Food Insecurity By Gender (Weight Adjusted for Gender).png\", 33842)"
            ]
          },
          "metadata": {}
        }
      ]
    },
    {
      "cell_type": "code",
      "source": [
        "\n",
        "fig1 = px.bar(wa_age1,\n",
        "    x='Food insecure',\n",
        "    y='Age Group', color = 'Age Group',\n",
        "    # marker color can be a single color value or an iterable\n",
        "    color_discrete_map = {'18–34':'lightgray','35–49':'crimson','50–64':'lightgray',\t'≥65':'lightgray'},\n",
        "    text_auto = True,\n",
        ")\n",
        "\n",
        "fig2 = px.bar(wa_age4,\n",
        "              x = 'Food insecure',\n",
        "              y= 'Age Group', color = 'Age Group',\n",
        "              color_discrete_map = {'Male':'lightgray','Female':'crimson'},text_auto = True,)\n",
        "fig2.update_traces(marker=dict(line=dict(width=1)))\n",
        "f = fig2.full_figure_for_development(warn=False)\n",
        "\n",
        "fig = make_subplots(rows=2, cols=1, shared_xaxes=True, row_heights=[1, 4])\n",
        "\n",
        "fig.add_traces(fig2.data, 1, 1)\n",
        "fig.add_traces(fig1.data, 2,1)\n",
        "\n",
        "fig.update_layout(title_text='Food Insecuirty by Age Group and Sex', font_family = \"Times New Roman\", showlegend = False,\n",
        "                  template = 'plotly_white', height =500, width = 800,)\n",
        "\n",
        "fig.show()\n",
        "\n",
        "fig.write_image(\"image.png\")\n",
        "#files.download('image.png')\n"
      ],
      "metadata": {
        "colab": {
          "base_uri": "https://localhost:8080/",
          "height": 517
        },
        "id": "CSc8vk9SD6bz",
        "outputId": "589ba268-5376-4ca1-c09c-f21e2f2a74ab"
      },
      "execution_count": 14,
      "outputs": [
        {
          "output_type": "display_data",
          "data": {
            "text/html": [
              "<html>\n",
              "<head><meta charset=\"utf-8\" /></head>\n",
              "<body>\n",
              "    <div>            <script src=\"https://cdnjs.cloudflare.com/ajax/libs/mathjax/2.7.5/MathJax.js?config=TeX-AMS-MML_SVG\"></script><script type=\"text/javascript\">if (window.MathJax && window.MathJax.Hub && window.MathJax.Hub.Config) {window.MathJax.Hub.Config({SVG: {font: \"STIX-Web\"}});}</script>                <script type=\"text/javascript\">window.PlotlyConfig = {MathJaxConfig: 'local'};</script>\n",
              "        <script charset=\"utf-8\" src=\"https://cdn.plot.ly/plotly-2.27.0.min.js\"></script>                <div id=\"bed0717b-1316-496a-ba08-cc0fe0a70a05\" class=\"plotly-graph-div\" style=\"height:500px; width:800px;\"></div>            <script type=\"text/javascript\">                                    window.PLOTLYENV=window.PLOTLYENV || {};                                    if (document.getElementById(\"bed0717b-1316-496a-ba08-cc0fe0a70a05\")) {                    Plotly.newPlot(                        \"bed0717b-1316-496a-ba08-cc0fe0a70a05\",                        [{\"alignmentgroup\":\"True\",\"hovertemplate\":\"Age Group=%{y}\\u003cbr\\u003eFood insecure=%{x}\\u003cextra\\u003e\\u003c\\u002fextra\\u003e\",\"legendgroup\":\"Male\",\"marker\":{\"color\":\"lightgray\",\"line\":{\"width\":1},\"pattern\":{\"shape\":\"\"}},\"name\":\"Male\",\"offsetgroup\":\"Male\",\"orientation\":\"h\",\"showlegend\":true,\"textposition\":\"auto\",\"texttemplate\":\"%{x}\",\"x\":[34.85],\"xaxis\":\"x\",\"y\":[\"Male\"],\"yaxis\":\"y\",\"type\":\"bar\"},{\"alignmentgroup\":\"True\",\"hovertemplate\":\"Age Group=%{y}\\u003cbr\\u003eFood insecure=%{x}\\u003cextra\\u003e\\u003c\\u002fextra\\u003e\",\"legendgroup\":\"Female\",\"marker\":{\"color\":\"crimson\",\"line\":{\"width\":1},\"pattern\":{\"shape\":\"\"}},\"name\":\"Female\",\"offsetgroup\":\"Female\",\"orientation\":\"h\",\"showlegend\":true,\"textposition\":\"auto\",\"texttemplate\":\"%{x}\",\"x\":[65.15],\"xaxis\":\"x\",\"y\":[\"Female\"],\"yaxis\":\"y\",\"type\":\"bar\"},{\"alignmentgroup\":\"True\",\"hovertemplate\":\"Age Group=%{y}\\u003cbr\\u003eFood insecure=%{x}\\u003cextra\\u003e\\u003c\\u002fextra\\u003e\",\"legendgroup\":\"18\\u201334\",\"marker\":{\"color\":\"lightgray\",\"pattern\":{\"shape\":\"\"}},\"name\":\"18\\u201334\",\"offsetgroup\":\"18\\u201334\",\"orientation\":\"h\",\"showlegend\":true,\"textposition\":\"auto\",\"texttemplate\":\"%{x}\",\"x\":[27.23],\"xaxis\":\"x2\",\"y\":[\"18\\u201334\"],\"yaxis\":\"y2\",\"type\":\"bar\"},{\"alignmentgroup\":\"True\",\"hovertemplate\":\"Age Group=%{y}\\u003cbr\\u003eFood insecure=%{x}\\u003cextra\\u003e\\u003c\\u002fextra\\u003e\",\"legendgroup\":\"35\\u201349\",\"marker\":{\"color\":\"crimson\",\"pattern\":{\"shape\":\"\"}},\"name\":\"35\\u201349\",\"offsetgroup\":\"35\\u201349\",\"orientation\":\"h\",\"showlegend\":true,\"textposition\":\"auto\",\"texttemplate\":\"%{x}\",\"x\":[30.52],\"xaxis\":\"x2\",\"y\":[\"35\\u201349\"],\"yaxis\":\"y2\",\"type\":\"bar\"},{\"alignmentgroup\":\"True\",\"hovertemplate\":\"Age Group=%{y}\\u003cbr\\u003eFood insecure=%{x}\\u003cextra\\u003e\\u003c\\u002fextra\\u003e\",\"legendgroup\":\"50\\u201364\",\"marker\":{\"color\":\"lightgray\",\"pattern\":{\"shape\":\"\"}},\"name\":\"50\\u201364\",\"offsetgroup\":\"50\\u201364\",\"orientation\":\"h\",\"showlegend\":true,\"textposition\":\"auto\",\"texttemplate\":\"%{x}\",\"x\":[30.47],\"xaxis\":\"x2\",\"y\":[\"50\\u201364\"],\"yaxis\":\"y2\",\"type\":\"bar\"},{\"alignmentgroup\":\"True\",\"hovertemplate\":\"Age Group=%{y}\\u003cbr\\u003eFood insecure=%{x}\\u003cextra\\u003e\\u003c\\u002fextra\\u003e\",\"legendgroup\":\"\\u226565\",\"marker\":{\"color\":\"lightgray\",\"pattern\":{\"shape\":\"\"}},\"name\":\"\\u226565\",\"offsetgroup\":\"\\u226565\",\"orientation\":\"h\",\"showlegend\":true,\"textposition\":\"auto\",\"texttemplate\":\"%{x}\",\"x\":[11.78],\"xaxis\":\"x2\",\"y\":[\"\\u226565\"],\"yaxis\":\"y2\",\"type\":\"bar\"}],                        {\"template\":{\"data\":{\"barpolar\":[{\"marker\":{\"line\":{\"color\":\"white\",\"width\":0.5},\"pattern\":{\"fillmode\":\"overlay\",\"size\":10,\"solidity\":0.2}},\"type\":\"barpolar\"}],\"bar\":[{\"error_x\":{\"color\":\"#2a3f5f\"},\"error_y\":{\"color\":\"#2a3f5f\"},\"marker\":{\"line\":{\"color\":\"white\",\"width\":0.5},\"pattern\":{\"fillmode\":\"overlay\",\"size\":10,\"solidity\":0.2}},\"type\":\"bar\"}],\"carpet\":[{\"aaxis\":{\"endlinecolor\":\"#2a3f5f\",\"gridcolor\":\"#C8D4E3\",\"linecolor\":\"#C8D4E3\",\"minorgridcolor\":\"#C8D4E3\",\"startlinecolor\":\"#2a3f5f\"},\"baxis\":{\"endlinecolor\":\"#2a3f5f\",\"gridcolor\":\"#C8D4E3\",\"linecolor\":\"#C8D4E3\",\"minorgridcolor\":\"#C8D4E3\",\"startlinecolor\":\"#2a3f5f\"},\"type\":\"carpet\"}],\"choropleth\":[{\"colorbar\":{\"outlinewidth\":0,\"ticks\":\"\"},\"type\":\"choropleth\"}],\"contourcarpet\":[{\"colorbar\":{\"outlinewidth\":0,\"ticks\":\"\"},\"type\":\"contourcarpet\"}],\"contour\":[{\"colorbar\":{\"outlinewidth\":0,\"ticks\":\"\"},\"colorscale\":[[0.0,\"#0d0887\"],[0.1111111111111111,\"#46039f\"],[0.2222222222222222,\"#7201a8\"],[0.3333333333333333,\"#9c179e\"],[0.4444444444444444,\"#bd3786\"],[0.5555555555555556,\"#d8576b\"],[0.6666666666666666,\"#ed7953\"],[0.7777777777777778,\"#fb9f3a\"],[0.8888888888888888,\"#fdca26\"],[1.0,\"#f0f921\"]],\"type\":\"contour\"}],\"heatmapgl\":[{\"colorbar\":{\"outlinewidth\":0,\"ticks\":\"\"},\"colorscale\":[[0.0,\"#0d0887\"],[0.1111111111111111,\"#46039f\"],[0.2222222222222222,\"#7201a8\"],[0.3333333333333333,\"#9c179e\"],[0.4444444444444444,\"#bd3786\"],[0.5555555555555556,\"#d8576b\"],[0.6666666666666666,\"#ed7953\"],[0.7777777777777778,\"#fb9f3a\"],[0.8888888888888888,\"#fdca26\"],[1.0,\"#f0f921\"]],\"type\":\"heatmapgl\"}],\"heatmap\":[{\"colorbar\":{\"outlinewidth\":0,\"ticks\":\"\"},\"colorscale\":[[0.0,\"#0d0887\"],[0.1111111111111111,\"#46039f\"],[0.2222222222222222,\"#7201a8\"],[0.3333333333333333,\"#9c179e\"],[0.4444444444444444,\"#bd3786\"],[0.5555555555555556,\"#d8576b\"],[0.6666666666666666,\"#ed7953\"],[0.7777777777777778,\"#fb9f3a\"],[0.8888888888888888,\"#fdca26\"],[1.0,\"#f0f921\"]],\"type\":\"heatmap\"}],\"histogram2dcontour\":[{\"colorbar\":{\"outlinewidth\":0,\"ticks\":\"\"},\"colorscale\":[[0.0,\"#0d0887\"],[0.1111111111111111,\"#46039f\"],[0.2222222222222222,\"#7201a8\"],[0.3333333333333333,\"#9c179e\"],[0.4444444444444444,\"#bd3786\"],[0.5555555555555556,\"#d8576b\"],[0.6666666666666666,\"#ed7953\"],[0.7777777777777778,\"#fb9f3a\"],[0.8888888888888888,\"#fdca26\"],[1.0,\"#f0f921\"]],\"type\":\"histogram2dcontour\"}],\"histogram2d\":[{\"colorbar\":{\"outlinewidth\":0,\"ticks\":\"\"},\"colorscale\":[[0.0,\"#0d0887\"],[0.1111111111111111,\"#46039f\"],[0.2222222222222222,\"#7201a8\"],[0.3333333333333333,\"#9c179e\"],[0.4444444444444444,\"#bd3786\"],[0.5555555555555556,\"#d8576b\"],[0.6666666666666666,\"#ed7953\"],[0.7777777777777778,\"#fb9f3a\"],[0.8888888888888888,\"#fdca26\"],[1.0,\"#f0f921\"]],\"type\":\"histogram2d\"}],\"histogram\":[{\"marker\":{\"pattern\":{\"fillmode\":\"overlay\",\"size\":10,\"solidity\":0.2}},\"type\":\"histogram\"}],\"mesh3d\":[{\"colorbar\":{\"outlinewidth\":0,\"ticks\":\"\"},\"type\":\"mesh3d\"}],\"parcoords\":[{\"line\":{\"colorbar\":{\"outlinewidth\":0,\"ticks\":\"\"}},\"type\":\"parcoords\"}],\"pie\":[{\"automargin\":true,\"type\":\"pie\"}],\"scatter3d\":[{\"line\":{\"colorbar\":{\"outlinewidth\":0,\"ticks\":\"\"}},\"marker\":{\"colorbar\":{\"outlinewidth\":0,\"ticks\":\"\"}},\"type\":\"scatter3d\"}],\"scattercarpet\":[{\"marker\":{\"colorbar\":{\"outlinewidth\":0,\"ticks\":\"\"}},\"type\":\"scattercarpet\"}],\"scattergeo\":[{\"marker\":{\"colorbar\":{\"outlinewidth\":0,\"ticks\":\"\"}},\"type\":\"scattergeo\"}],\"scattergl\":[{\"marker\":{\"colorbar\":{\"outlinewidth\":0,\"ticks\":\"\"}},\"type\":\"scattergl\"}],\"scattermapbox\":[{\"marker\":{\"colorbar\":{\"outlinewidth\":0,\"ticks\":\"\"}},\"type\":\"scattermapbox\"}],\"scatterpolargl\":[{\"marker\":{\"colorbar\":{\"outlinewidth\":0,\"ticks\":\"\"}},\"type\":\"scatterpolargl\"}],\"scatterpolar\":[{\"marker\":{\"colorbar\":{\"outlinewidth\":0,\"ticks\":\"\"}},\"type\":\"scatterpolar\"}],\"scatter\":[{\"fillpattern\":{\"fillmode\":\"overlay\",\"size\":10,\"solidity\":0.2},\"type\":\"scatter\"}],\"scatterternary\":[{\"marker\":{\"colorbar\":{\"outlinewidth\":0,\"ticks\":\"\"}},\"type\":\"scatterternary\"}],\"surface\":[{\"colorbar\":{\"outlinewidth\":0,\"ticks\":\"\"},\"colorscale\":[[0.0,\"#0d0887\"],[0.1111111111111111,\"#46039f\"],[0.2222222222222222,\"#7201a8\"],[0.3333333333333333,\"#9c179e\"],[0.4444444444444444,\"#bd3786\"],[0.5555555555555556,\"#d8576b\"],[0.6666666666666666,\"#ed7953\"],[0.7777777777777778,\"#fb9f3a\"],[0.8888888888888888,\"#fdca26\"],[1.0,\"#f0f921\"]],\"type\":\"surface\"}],\"table\":[{\"cells\":{\"fill\":{\"color\":\"#EBF0F8\"},\"line\":{\"color\":\"white\"}},\"header\":{\"fill\":{\"color\":\"#C8D4E3\"},\"line\":{\"color\":\"white\"}},\"type\":\"table\"}]},\"layout\":{\"annotationdefaults\":{\"arrowcolor\":\"#2a3f5f\",\"arrowhead\":0,\"arrowwidth\":1},\"autotypenumbers\":\"strict\",\"coloraxis\":{\"colorbar\":{\"outlinewidth\":0,\"ticks\":\"\"}},\"colorscale\":{\"diverging\":[[0,\"#8e0152\"],[0.1,\"#c51b7d\"],[0.2,\"#de77ae\"],[0.3,\"#f1b6da\"],[0.4,\"#fde0ef\"],[0.5,\"#f7f7f7\"],[0.6,\"#e6f5d0\"],[0.7,\"#b8e186\"],[0.8,\"#7fbc41\"],[0.9,\"#4d9221\"],[1,\"#276419\"]],\"sequential\":[[0.0,\"#0d0887\"],[0.1111111111111111,\"#46039f\"],[0.2222222222222222,\"#7201a8\"],[0.3333333333333333,\"#9c179e\"],[0.4444444444444444,\"#bd3786\"],[0.5555555555555556,\"#d8576b\"],[0.6666666666666666,\"#ed7953\"],[0.7777777777777778,\"#fb9f3a\"],[0.8888888888888888,\"#fdca26\"],[1.0,\"#f0f921\"]],\"sequentialminus\":[[0.0,\"#0d0887\"],[0.1111111111111111,\"#46039f\"],[0.2222222222222222,\"#7201a8\"],[0.3333333333333333,\"#9c179e\"],[0.4444444444444444,\"#bd3786\"],[0.5555555555555556,\"#d8576b\"],[0.6666666666666666,\"#ed7953\"],[0.7777777777777778,\"#fb9f3a\"],[0.8888888888888888,\"#fdca26\"],[1.0,\"#f0f921\"]]},\"colorway\":[\"#636efa\",\"#EF553B\",\"#00cc96\",\"#ab63fa\",\"#FFA15A\",\"#19d3f3\",\"#FF6692\",\"#B6E880\",\"#FF97FF\",\"#FECB52\"],\"font\":{\"color\":\"#2a3f5f\"},\"geo\":{\"bgcolor\":\"white\",\"lakecolor\":\"white\",\"landcolor\":\"white\",\"showlakes\":true,\"showland\":true,\"subunitcolor\":\"#C8D4E3\"},\"hoverlabel\":{\"align\":\"left\"},\"hovermode\":\"closest\",\"mapbox\":{\"style\":\"light\"},\"paper_bgcolor\":\"white\",\"plot_bgcolor\":\"white\",\"polar\":{\"angularaxis\":{\"gridcolor\":\"#EBF0F8\",\"linecolor\":\"#EBF0F8\",\"ticks\":\"\"},\"bgcolor\":\"white\",\"radialaxis\":{\"gridcolor\":\"#EBF0F8\",\"linecolor\":\"#EBF0F8\",\"ticks\":\"\"}},\"scene\":{\"xaxis\":{\"backgroundcolor\":\"white\",\"gridcolor\":\"#DFE8F3\",\"gridwidth\":2,\"linecolor\":\"#EBF0F8\",\"showbackground\":true,\"ticks\":\"\",\"zerolinecolor\":\"#EBF0F8\"},\"yaxis\":{\"backgroundcolor\":\"white\",\"gridcolor\":\"#DFE8F3\",\"gridwidth\":2,\"linecolor\":\"#EBF0F8\",\"showbackground\":true,\"ticks\":\"\",\"zerolinecolor\":\"#EBF0F8\"},\"zaxis\":{\"backgroundcolor\":\"white\",\"gridcolor\":\"#DFE8F3\",\"gridwidth\":2,\"linecolor\":\"#EBF0F8\",\"showbackground\":true,\"ticks\":\"\",\"zerolinecolor\":\"#EBF0F8\"}},\"shapedefaults\":{\"line\":{\"color\":\"#2a3f5f\"}},\"ternary\":{\"aaxis\":{\"gridcolor\":\"#DFE8F3\",\"linecolor\":\"#A2B1C6\",\"ticks\":\"\"},\"baxis\":{\"gridcolor\":\"#DFE8F3\",\"linecolor\":\"#A2B1C6\",\"ticks\":\"\"},\"bgcolor\":\"white\",\"caxis\":{\"gridcolor\":\"#DFE8F3\",\"linecolor\":\"#A2B1C6\",\"ticks\":\"\"}},\"title\":{\"x\":0.05},\"xaxis\":{\"automargin\":true,\"gridcolor\":\"#EBF0F8\",\"linecolor\":\"#EBF0F8\",\"ticks\":\"\",\"title\":{\"standoff\":15},\"zerolinecolor\":\"#EBF0F8\",\"zerolinewidth\":2},\"yaxis\":{\"automargin\":true,\"gridcolor\":\"#EBF0F8\",\"linecolor\":\"#EBF0F8\",\"ticks\":\"\",\"title\":{\"standoff\":15},\"zerolinecolor\":\"#EBF0F8\",\"zerolinewidth\":2}}},\"xaxis\":{\"anchor\":\"y\",\"domain\":[0.0,1.0],\"matches\":\"x2\",\"showticklabels\":false},\"yaxis\":{\"anchor\":\"x\",\"domain\":[0.8300000000000001,1.0]},\"xaxis2\":{\"anchor\":\"y2\",\"domain\":[0.0,1.0]},\"yaxis2\":{\"anchor\":\"x2\",\"domain\":[0.0,0.68]},\"title\":{\"text\":\"Food Insecuirty by Age Group and Sex\"},\"font\":{\"family\":\"Times New Roman\"},\"showlegend\":false,\"height\":500,\"width\":800},                        {\"responsive\": true}                    ).then(function(){\n",
              "                            \n",
              "var gd = document.getElementById('bed0717b-1316-496a-ba08-cc0fe0a70a05');\n",
              "var x = new MutationObserver(function (mutations, observer) {{\n",
              "        var display = window.getComputedStyle(gd).display;\n",
              "        if (!display || display === 'none') {{\n",
              "            console.log([gd, 'removed!']);\n",
              "            Plotly.purge(gd);\n",
              "            observer.disconnect();\n",
              "        }}\n",
              "}});\n",
              "\n",
              "// Listen for the removal of the full notebook cells\n",
              "var notebookContainer = gd.closest('#notebook-container');\n",
              "if (notebookContainer) {{\n",
              "    x.observe(notebookContainer, {childList: true});\n",
              "}}\n",
              "\n",
              "// Listen for the clearing of the current output cell\n",
              "var outputEl = gd.closest('.output');\n",
              "if (outputEl) {{\n",
              "    x.observe(outputEl, {childList: true});\n",
              "}}\n",
              "\n",
              "                        })                };                            </script>        </div>\n",
              "</body>\n",
              "</html>"
            ]
          },
          "metadata": {}
        }
      ]
    },
    {
      "cell_type": "code",
      "source": [
        "\n",
        " event_dictionary = {'Over 17%':'crimson', '15.1-17%':'#800080', '13.1-15%':'#be29ec',\n",
        "                                        '11.1-13%':'#d896ff','9.1-11%':'#efbbff','Equal or Below 9%':'#E6E6FA'}\n",
        "\n",
        "final['background_color'] = final['poverty_range'].apply(set_value, args =(event_dictionary, ))\n",
        "final['background_color'] = final['background_color'].apply(lambda x: mcolors.to_hex(x))"
      ],
      "metadata": {
        "id": "yMX5c7fZfl5m"
      },
      "execution_count": 15,
      "outputs": []
    },
    {
      "cell_type": "markdown",
      "source": [
        "# **Poverty**"
      ],
      "metadata": {
        "id": "cQNbF4imiIDK"
      }
    },
    {
      "cell_type": "code",
      "source": [
        "legend_order = ['Over 17%', '15.1-17%', '13.1-15%','11.1-13%','9.1-11%','Equal or Below 9%']\n",
        "\n",
        "fig = px.choropleth(final, locations = 'Abbreviation',\n",
        "                    color = 'poverty_range',\n",
        "                    locationmode = 'USA-states',\n",
        "                    color_discrete_map={'Over 17%':'crimson', '15.1-17%':'#800080', '13.1-15%':'#be29ec',\n",
        "                                        '11.1-13%':'#d896ff','9.1-11%':'#efbbff','Equal or Below 9%':'#E6E6FA'},\n",
        "\n",
        "                    category_orders= {'poverty_range': legend_order})\n",
        "def calculate_luminance(hex_color):\n",
        "    try:\n",
        "        # Strip the '#' symbol if present and convert to lowercase\n",
        "        hex_color = hex_color.lstrip('#').lower()\n",
        "\n",
        "        # Make sure the remaining string is a valid hex color code\n",
        "        if len(hex_color) == 6:\n",
        "            rgb_color = tuple(int(hex_color[i:i + 2], 16) for i in (0, 2, 4))\n",
        "            r, g, b = [x / 255.0 for x in rgb_color]\n",
        "            h, s, v = colorsys.rgb_to_hsv(r, g, b)\n",
        "            return v\n",
        "        else:\n",
        "            # Handle invalid hex color codes\n",
        "            return None\n",
        "    except ValueError:\n",
        "        # Handle errors during conversion\n",
        "        return None\n",
        "\n",
        "fig.add_scattergeo(\n",
        "    locations=final['Abbreviation'],\n",
        "    locationmode=\"USA-states\",\n",
        "    text=final['Abbreviation'],\n",
        "    mode='text', textfont_color=[ 'white' if calculate_luminance(bg_color) < 0.9 else 'black' for bg_color in final['background_color']],\n",
        "    textposition='bottom right',  # Arbitrary coordinates\n",
        "    showlegend = False\n",
        ")\n",
        "fig.update_layout(\n",
        "                  geo_scope = 'usa',font_family=\"Times New Roman\",\n",
        "                  title_font_family=\"Times New Roman\",\n",
        "                  title_font_color=\"black\", font_size = 14,\n",
        "                  legend_title_font_color=\"black\",\n",
        "                  height=1000,\n",
        "                  width=1600 ,\n",
        "                  legend=dict(title=dict(text='Poverty'),\n",
        "                              font_color = 'black', x= .9,y=.7, font_size = 18),\n",
        "                  title=dict(\n",
        "                      text=\"Poverty By State\",\n",
        "                      xanchor='center',\n",
        "                      x=0.45,\n",
        "                      yref='paper',\n",
        "                      yanchor='bottom',\n",
        "                      y=.95,\n",
        "                      pad={'b': 0},\n",
        "                      font_size = 34)\n",
        ")\n",
        "fig.update_traces(marker_line_color='white')\n",
        "fig.add_annotation(text=\"New Mexico, Louisiana, and Mississippi Have the Highest Poverty Rates\",\n",
        "                   x=.5,y=.94,\n",
        "                   showarrow=False, font_size = 24 ,\n",
        "                   font_color = 'crimson',\n",
        "                   font_family = 'Helvetica')\n",
        "\n",
        "fig.show()\n",
        "fig.write_image(\"Poverty By State.png\")\n",
        "files.download('Poverty By State.png')"
      ],
      "metadata": {
        "colab": {
          "base_uri": "https://localhost:8080/",
          "height": 1000
        },
        "id": "8nTM5l7rA-1m",
        "outputId": "4ae17313-386e-4e58-bbf3-d2dcf11242d0"
      },
      "execution_count": 16,
      "outputs": [
        {
          "output_type": "display_data",
          "data": {
            "text/html": [
              "<html>\n",
              "<head><meta charset=\"utf-8\" /></head>\n",
              "<body>\n",
              "    <div>            <script src=\"https://cdnjs.cloudflare.com/ajax/libs/mathjax/2.7.5/MathJax.js?config=TeX-AMS-MML_SVG\"></script><script type=\"text/javascript\">if (window.MathJax && window.MathJax.Hub && window.MathJax.Hub.Config) {window.MathJax.Hub.Config({SVG: {font: \"STIX-Web\"}});}</script>                <script type=\"text/javascript\">window.PlotlyConfig = {MathJaxConfig: 'local'};</script>\n",
              "        <script charset=\"utf-8\" src=\"https://cdn.plot.ly/plotly-2.27.0.min.js\"></script>                <div id=\"79b36017-487a-4432-9e63-e3a663e6d30e\" class=\"plotly-graph-div\" style=\"height:1000px; width:1600px;\"></div>            <script type=\"text/javascript\">                                    window.PLOTLYENV=window.PLOTLYENV || {};                                    if (document.getElementById(\"79b36017-487a-4432-9e63-e3a663e6d30e\")) {                    Plotly.newPlot(                        \"79b36017-487a-4432-9e63-e3a663e6d30e\",                        [{\"colorscale\":[[0.0,\"crimson\"],[1.0,\"crimson\"]],\"geo\":\"geo\",\"hovertemplate\":\"poverty_range=Over 17%\\u003cbr\\u003eAbbreviation=%{location}\\u003cextra\\u003e\\u003c\\u002fextra\\u003e\",\"locationmode\":\"USA-states\",\"locations\":[\"LA\",\"MS\",\"NM\"],\"name\":\"Over 17%\",\"showlegend\":true,\"showscale\":false,\"z\":[1,1,1],\"type\":\"choropleth\",\"marker\":{\"line\":{\"color\":\"white\"}}},{\"colorscale\":[[0.0,\"#800080\"],[1.0,\"#800080\"]],\"geo\":\"geo\",\"hovertemplate\":\"poverty_range=15.1-17%\\u003cbr\\u003eAbbreviation=%{location}\\u003cextra\\u003e\\u003c\\u002fextra\\u003e\",\"locationmode\":\"USA-states\",\"locations\":[\"AL\",\"AR\",\"DC\",\"KY\",\"OK\",\"WV\"],\"name\":\"15.1-17%\",\"showlegend\":true,\"showscale\":false,\"z\":[1,1,1,1,1,1],\"type\":\"choropleth\",\"marker\":{\"line\":{\"color\":\"white\"}}},{\"colorscale\":[[0.0,\"#be29ec\"],[1.0,\"#be29ec\"]],\"geo\":\"geo\",\"hovertemplate\":\"poverty_range=13.1-15%\\u003cbr\\u003eAbbreviation=%{location}\\u003cextra\\u003e\\u003c\\u002fextra\\u003e\",\"locationmode\":\"USA-states\",\"locations\":[\"FL\",\"GA\",\"NC\",\"NV\",\"NY\",\"OH\",\"SC\",\"TN\",\"TX\"],\"name\":\"13.1-15%\",\"showlegend\":true,\"showscale\":false,\"z\":[1,1,1,1,1,1,1,1,1],\"type\":\"choropleth\",\"marker\":{\"line\":{\"color\":\"white\"}}},{\"colorscale\":[[0.0,\"#d896ff\"],[1.0,\"#d896ff\"]],\"geo\":\"geo\",\"hovertemplate\":\"poverty_range=11.1-13%\\u003cbr\\u003eAbbreviation=%{location}\\u003cextra\\u003e\\u003c\\u002fextra\\u003e\",\"locationmode\":\"USA-states\",\"locations\":[\"AZ\",\"CA\",\"DE\",\"IL\",\"IN\",\"KS\",\"ME\",\"MI\",\"MO\",\"MT\",\"OR\",\"PA\",\"RI\",\"SD\"],\"name\":\"11.1-13%\",\"showlegend\":true,\"showscale\":false,\"z\":[1,1,1,1,1,1,1,1,1,1,1,1,1,1],\"type\":\"choropleth\",\"marker\":{\"line\":{\"color\":\"white\"}}},{\"colorscale\":[[0.0,\"#efbbff\"],[1.0,\"#efbbff\"]],\"geo\":\"geo\",\"hovertemplate\":\"poverty_range=9.1-11%\\u003cbr\\u003eAbbreviation=%{location}\\u003cextra\\u003e\\u003c\\u002fextra\\u003e\",\"locationmode\":\"USA-states\",\"locations\":[\"AK\",\"CO\",\"CT\",\"HI\",\"IA\",\"ID\",\"MA\",\"MD\",\"MN\",\"ND\",\"NE\",\"NJ\",\"VA\",\"VT\",\"WA\",\"WI\",\"WY\"],\"name\":\"9.1-11%\",\"showlegend\":true,\"showscale\":false,\"z\":[1,1,1,1,1,1,1,1,1,1,1,1,1,1,1,1,1],\"type\":\"choropleth\",\"marker\":{\"line\":{\"color\":\"white\"}}},{\"colorscale\":[[0.0,\"#E6E6FA\"],[1.0,\"#E6E6FA\"]],\"geo\":\"geo\",\"hovertemplate\":\"poverty_range=Equal or Below 9%\\u003cbr\\u003eAbbreviation=%{location}\\u003cextra\\u003e\\u003c\\u002fextra\\u003e\",\"locationmode\":\"USA-states\",\"locations\":[\"NH\",\"UT\"],\"name\":\"Equal or Below 9%\",\"showlegend\":true,\"showscale\":false,\"z\":[1,1],\"type\":\"choropleth\",\"marker\":{\"line\":{\"color\":\"white\"}}},{\"locationmode\":\"USA-states\",\"locations\":[\"AK\",\"AL\",\"AR\",\"AZ\",\"CA\",\"CO\",\"CT\",\"DC\",\"DE\",\"FL\",\"GA\",\"HI\",\"IA\",\"ID\",\"IL\",\"IN\",\"KS\",\"KY\",\"LA\",\"MA\",\"MD\",\"ME\",\"MI\",\"MN\",\"MO\",\"MS\",\"MT\",\"NC\",\"ND\",\"NE\",\"NH\",\"NJ\",\"NM\",\"NV\",\"NY\",\"OH\",\"OK\",\"OR\",\"PA\",\"RI\",\"SC\",\"SD\",\"TN\",\"TX\",\"UT\",\"VA\",\"VT\",\"WA\",\"WI\",\"WV\",\"WY\"],\"mode\":\"text\",\"showlegend\":false,\"text\":[\"AK\",\"AL\",\"AR\",\"AZ\",\"CA\",\"CO\",\"CT\",\"DC\",\"DE\",\"FL\",\"GA\",\"HI\",\"IA\",\"ID\",\"IL\",\"IN\",\"KS\",\"KY\",\"LA\",\"MA\",\"MD\",\"ME\",\"MI\",\"MN\",\"MO\",\"MS\",\"MT\",\"NC\",\"ND\",\"NE\",\"NH\",\"NJ\",\"NM\",\"NV\",\"NY\",\"OH\",\"OK\",\"OR\",\"PA\",\"RI\",\"SC\",\"SD\",\"TN\",\"TX\",\"UT\",\"VA\",\"VT\",\"WA\",\"WI\",\"WV\",\"WY\"],\"textfont\":{\"color\":[\"black\",\"white\",\"white\",\"black\",\"black\",\"black\",\"black\",\"white\",\"black\",\"black\",\"black\",\"black\",\"black\",\"black\",\"black\",\"black\",\"black\",\"white\",\"white\",\"black\",\"black\",\"black\",\"black\",\"black\",\"black\",\"white\",\"black\",\"black\",\"black\",\"black\",\"black\",\"black\",\"white\",\"black\",\"black\",\"black\",\"white\",\"black\",\"black\",\"black\",\"black\",\"black\",\"black\",\"black\",\"black\",\"black\",\"black\",\"black\",\"black\",\"white\",\"black\"]},\"textposition\":\"bottom right\",\"type\":\"scattergeo\",\"marker\":{\"line\":{\"color\":\"white\"}}}],                        {\"template\":{\"data\":{\"histogram2dcontour\":[{\"type\":\"histogram2dcontour\",\"colorbar\":{\"outlinewidth\":0,\"ticks\":\"\"},\"colorscale\":[[0.0,\"#0d0887\"],[0.1111111111111111,\"#46039f\"],[0.2222222222222222,\"#7201a8\"],[0.3333333333333333,\"#9c179e\"],[0.4444444444444444,\"#bd3786\"],[0.5555555555555556,\"#d8576b\"],[0.6666666666666666,\"#ed7953\"],[0.7777777777777778,\"#fb9f3a\"],[0.8888888888888888,\"#fdca26\"],[1.0,\"#f0f921\"]]}],\"choropleth\":[{\"type\":\"choropleth\",\"colorbar\":{\"outlinewidth\":0,\"ticks\":\"\"}}],\"histogram2d\":[{\"type\":\"histogram2d\",\"colorbar\":{\"outlinewidth\":0,\"ticks\":\"\"},\"colorscale\":[[0.0,\"#0d0887\"],[0.1111111111111111,\"#46039f\"],[0.2222222222222222,\"#7201a8\"],[0.3333333333333333,\"#9c179e\"],[0.4444444444444444,\"#bd3786\"],[0.5555555555555556,\"#d8576b\"],[0.6666666666666666,\"#ed7953\"],[0.7777777777777778,\"#fb9f3a\"],[0.8888888888888888,\"#fdca26\"],[1.0,\"#f0f921\"]]}],\"heatmap\":[{\"type\":\"heatmap\",\"colorbar\":{\"outlinewidth\":0,\"ticks\":\"\"},\"colorscale\":[[0.0,\"#0d0887\"],[0.1111111111111111,\"#46039f\"],[0.2222222222222222,\"#7201a8\"],[0.3333333333333333,\"#9c179e\"],[0.4444444444444444,\"#bd3786\"],[0.5555555555555556,\"#d8576b\"],[0.6666666666666666,\"#ed7953\"],[0.7777777777777778,\"#fb9f3a\"],[0.8888888888888888,\"#fdca26\"],[1.0,\"#f0f921\"]]}],\"heatmapgl\":[{\"type\":\"heatmapgl\",\"colorbar\":{\"outlinewidth\":0,\"ticks\":\"\"},\"colorscale\":[[0.0,\"#0d0887\"],[0.1111111111111111,\"#46039f\"],[0.2222222222222222,\"#7201a8\"],[0.3333333333333333,\"#9c179e\"],[0.4444444444444444,\"#bd3786\"],[0.5555555555555556,\"#d8576b\"],[0.6666666666666666,\"#ed7953\"],[0.7777777777777778,\"#fb9f3a\"],[0.8888888888888888,\"#fdca26\"],[1.0,\"#f0f921\"]]}],\"contourcarpet\":[{\"type\":\"contourcarpet\",\"colorbar\":{\"outlinewidth\":0,\"ticks\":\"\"}}],\"contour\":[{\"type\":\"contour\",\"colorbar\":{\"outlinewidth\":0,\"ticks\":\"\"},\"colorscale\":[[0.0,\"#0d0887\"],[0.1111111111111111,\"#46039f\"],[0.2222222222222222,\"#7201a8\"],[0.3333333333333333,\"#9c179e\"],[0.4444444444444444,\"#bd3786\"],[0.5555555555555556,\"#d8576b\"],[0.6666666666666666,\"#ed7953\"],[0.7777777777777778,\"#fb9f3a\"],[0.8888888888888888,\"#fdca26\"],[1.0,\"#f0f921\"]]}],\"surface\":[{\"type\":\"surface\",\"colorbar\":{\"outlinewidth\":0,\"ticks\":\"\"},\"colorscale\":[[0.0,\"#0d0887\"],[0.1111111111111111,\"#46039f\"],[0.2222222222222222,\"#7201a8\"],[0.3333333333333333,\"#9c179e\"],[0.4444444444444444,\"#bd3786\"],[0.5555555555555556,\"#d8576b\"],[0.6666666666666666,\"#ed7953\"],[0.7777777777777778,\"#fb9f3a\"],[0.8888888888888888,\"#fdca26\"],[1.0,\"#f0f921\"]]}],\"mesh3d\":[{\"type\":\"mesh3d\",\"colorbar\":{\"outlinewidth\":0,\"ticks\":\"\"}}],\"scatter\":[{\"fillpattern\":{\"fillmode\":\"overlay\",\"size\":10,\"solidity\":0.2},\"type\":\"scatter\"}],\"parcoords\":[{\"type\":\"parcoords\",\"line\":{\"colorbar\":{\"outlinewidth\":0,\"ticks\":\"\"}}}],\"scatterpolargl\":[{\"type\":\"scatterpolargl\",\"marker\":{\"colorbar\":{\"outlinewidth\":0,\"ticks\":\"\"}}}],\"bar\":[{\"error_x\":{\"color\":\"#2a3f5f\"},\"error_y\":{\"color\":\"#2a3f5f\"},\"marker\":{\"line\":{\"color\":\"#E5ECF6\",\"width\":0.5},\"pattern\":{\"fillmode\":\"overlay\",\"size\":10,\"solidity\":0.2}},\"type\":\"bar\"}],\"scattergeo\":[{\"type\":\"scattergeo\",\"marker\":{\"colorbar\":{\"outlinewidth\":0,\"ticks\":\"\"}}}],\"scatterpolar\":[{\"type\":\"scatterpolar\",\"marker\":{\"colorbar\":{\"outlinewidth\":0,\"ticks\":\"\"}}}],\"histogram\":[{\"marker\":{\"pattern\":{\"fillmode\":\"overlay\",\"size\":10,\"solidity\":0.2}},\"type\":\"histogram\"}],\"scattergl\":[{\"type\":\"scattergl\",\"marker\":{\"colorbar\":{\"outlinewidth\":0,\"ticks\":\"\"}}}],\"scatter3d\":[{\"type\":\"scatter3d\",\"line\":{\"colorbar\":{\"outlinewidth\":0,\"ticks\":\"\"}},\"marker\":{\"colorbar\":{\"outlinewidth\":0,\"ticks\":\"\"}}}],\"scattermapbox\":[{\"type\":\"scattermapbox\",\"marker\":{\"colorbar\":{\"outlinewidth\":0,\"ticks\":\"\"}}}],\"scatterternary\":[{\"type\":\"scatterternary\",\"marker\":{\"colorbar\":{\"outlinewidth\":0,\"ticks\":\"\"}}}],\"scattercarpet\":[{\"type\":\"scattercarpet\",\"marker\":{\"colorbar\":{\"outlinewidth\":0,\"ticks\":\"\"}}}],\"carpet\":[{\"aaxis\":{\"endlinecolor\":\"#2a3f5f\",\"gridcolor\":\"white\",\"linecolor\":\"white\",\"minorgridcolor\":\"white\",\"startlinecolor\":\"#2a3f5f\"},\"baxis\":{\"endlinecolor\":\"#2a3f5f\",\"gridcolor\":\"white\",\"linecolor\":\"white\",\"minorgridcolor\":\"white\",\"startlinecolor\":\"#2a3f5f\"},\"type\":\"carpet\"}],\"table\":[{\"cells\":{\"fill\":{\"color\":\"#EBF0F8\"},\"line\":{\"color\":\"white\"}},\"header\":{\"fill\":{\"color\":\"#C8D4E3\"},\"line\":{\"color\":\"white\"}},\"type\":\"table\"}],\"barpolar\":[{\"marker\":{\"line\":{\"color\":\"#E5ECF6\",\"width\":0.5},\"pattern\":{\"fillmode\":\"overlay\",\"size\":10,\"solidity\":0.2}},\"type\":\"barpolar\"}],\"pie\":[{\"automargin\":true,\"type\":\"pie\"}]},\"layout\":{\"autotypenumbers\":\"strict\",\"colorway\":[\"#636efa\",\"#EF553B\",\"#00cc96\",\"#ab63fa\",\"#FFA15A\",\"#19d3f3\",\"#FF6692\",\"#B6E880\",\"#FF97FF\",\"#FECB52\"],\"font\":{\"color\":\"#2a3f5f\"},\"hovermode\":\"closest\",\"hoverlabel\":{\"align\":\"left\"},\"paper_bgcolor\":\"white\",\"plot_bgcolor\":\"#E5ECF6\",\"polar\":{\"bgcolor\":\"#E5ECF6\",\"angularaxis\":{\"gridcolor\":\"white\",\"linecolor\":\"white\",\"ticks\":\"\"},\"radialaxis\":{\"gridcolor\":\"white\",\"linecolor\":\"white\",\"ticks\":\"\"}},\"ternary\":{\"bgcolor\":\"#E5ECF6\",\"aaxis\":{\"gridcolor\":\"white\",\"linecolor\":\"white\",\"ticks\":\"\"},\"baxis\":{\"gridcolor\":\"white\",\"linecolor\":\"white\",\"ticks\":\"\"},\"caxis\":{\"gridcolor\":\"white\",\"linecolor\":\"white\",\"ticks\":\"\"}},\"coloraxis\":{\"colorbar\":{\"outlinewidth\":0,\"ticks\":\"\"}},\"colorscale\":{\"sequential\":[[0.0,\"#0d0887\"],[0.1111111111111111,\"#46039f\"],[0.2222222222222222,\"#7201a8\"],[0.3333333333333333,\"#9c179e\"],[0.4444444444444444,\"#bd3786\"],[0.5555555555555556,\"#d8576b\"],[0.6666666666666666,\"#ed7953\"],[0.7777777777777778,\"#fb9f3a\"],[0.8888888888888888,\"#fdca26\"],[1.0,\"#f0f921\"]],\"sequentialminus\":[[0.0,\"#0d0887\"],[0.1111111111111111,\"#46039f\"],[0.2222222222222222,\"#7201a8\"],[0.3333333333333333,\"#9c179e\"],[0.4444444444444444,\"#bd3786\"],[0.5555555555555556,\"#d8576b\"],[0.6666666666666666,\"#ed7953\"],[0.7777777777777778,\"#fb9f3a\"],[0.8888888888888888,\"#fdca26\"],[1.0,\"#f0f921\"]],\"diverging\":[[0,\"#8e0152\"],[0.1,\"#c51b7d\"],[0.2,\"#de77ae\"],[0.3,\"#f1b6da\"],[0.4,\"#fde0ef\"],[0.5,\"#f7f7f7\"],[0.6,\"#e6f5d0\"],[0.7,\"#b8e186\"],[0.8,\"#7fbc41\"],[0.9,\"#4d9221\"],[1,\"#276419\"]]},\"xaxis\":{\"gridcolor\":\"white\",\"linecolor\":\"white\",\"ticks\":\"\",\"title\":{\"standoff\":15},\"zerolinecolor\":\"white\",\"automargin\":true,\"zerolinewidth\":2},\"yaxis\":{\"gridcolor\":\"white\",\"linecolor\":\"white\",\"ticks\":\"\",\"title\":{\"standoff\":15},\"zerolinecolor\":\"white\",\"automargin\":true,\"zerolinewidth\":2},\"scene\":{\"xaxis\":{\"backgroundcolor\":\"#E5ECF6\",\"gridcolor\":\"white\",\"linecolor\":\"white\",\"showbackground\":true,\"ticks\":\"\",\"zerolinecolor\":\"white\",\"gridwidth\":2},\"yaxis\":{\"backgroundcolor\":\"#E5ECF6\",\"gridcolor\":\"white\",\"linecolor\":\"white\",\"showbackground\":true,\"ticks\":\"\",\"zerolinecolor\":\"white\",\"gridwidth\":2},\"zaxis\":{\"backgroundcolor\":\"#E5ECF6\",\"gridcolor\":\"white\",\"linecolor\":\"white\",\"showbackground\":true,\"ticks\":\"\",\"zerolinecolor\":\"white\",\"gridwidth\":2}},\"shapedefaults\":{\"line\":{\"color\":\"#2a3f5f\"}},\"annotationdefaults\":{\"arrowcolor\":\"#2a3f5f\",\"arrowhead\":0,\"arrowwidth\":1},\"geo\":{\"bgcolor\":\"white\",\"landcolor\":\"#E5ECF6\",\"subunitcolor\":\"white\",\"showland\":true,\"showlakes\":true,\"lakecolor\":\"white\"},\"title\":{\"x\":0.05},\"mapbox\":{\"style\":\"light\"}}},\"geo\":{\"domain\":{\"x\":[0.0,1.0],\"y\":[0.0,1.0]},\"center\":{},\"scope\":\"usa\"},\"legend\":{\"title\":{\"text\":\"Poverty\",\"font\":{\"color\":\"black\"}},\"tracegroupgap\":0,\"font\":{\"color\":\"black\",\"size\":18},\"x\":0.9,\"y\":0.7},\"margin\":{\"t\":60},\"font\":{\"family\":\"Times New Roman\",\"size\":14},\"title\":{\"font\":{\"family\":\"Times New Roman\",\"color\":\"black\",\"size\":34},\"pad\":{\"b\":0},\"text\":\"Poverty By State\",\"xanchor\":\"center\",\"x\":0.45,\"yref\":\"paper\",\"yanchor\":\"bottom\",\"y\":0.95},\"height\":1000,\"width\":1600,\"annotations\":[{\"font\":{\"color\":\"crimson\",\"family\":\"Helvetica\",\"size\":24},\"showarrow\":false,\"text\":\"New Mexico, Louisiana, and Mississippi Have the Highest Poverty Rates\",\"x\":0.5,\"y\":0.94}]},                        {\"responsive\": true}                    ).then(function(){\n",
              "                            \n",
              "var gd = document.getElementById('79b36017-487a-4432-9e63-e3a663e6d30e');\n",
              "var x = new MutationObserver(function (mutations, observer) {{\n",
              "        var display = window.getComputedStyle(gd).display;\n",
              "        if (!display || display === 'none') {{\n",
              "            console.log([gd, 'removed!']);\n",
              "            Plotly.purge(gd);\n",
              "            observer.disconnect();\n",
              "        }}\n",
              "}});\n",
              "\n",
              "// Listen for the removal of the full notebook cells\n",
              "var notebookContainer = gd.closest('#notebook-container');\n",
              "if (notebookContainer) {{\n",
              "    x.observe(notebookContainer, {childList: true});\n",
              "}}\n",
              "\n",
              "// Listen for the clearing of the current output cell\n",
              "var outputEl = gd.closest('.output');\n",
              "if (outputEl) {{\n",
              "    x.observe(outputEl, {childList: true});\n",
              "}}\n",
              "\n",
              "                        })                };                            </script>        </div>\n",
              "</body>\n",
              "</html>"
            ]
          },
          "metadata": {}
        },
        {
          "output_type": "display_data",
          "data": {
            "text/plain": [
              "<IPython.core.display.Javascript object>"
            ],
            "application/javascript": [
              "\n",
              "    async function download(id, filename, size) {\n",
              "      if (!google.colab.kernel.accessAllowed) {\n",
              "        return;\n",
              "      }\n",
              "      const div = document.createElement('div');\n",
              "      const label = document.createElement('label');\n",
              "      label.textContent = `Downloading \"${filename}\": `;\n",
              "      div.appendChild(label);\n",
              "      const progress = document.createElement('progress');\n",
              "      progress.max = size;\n",
              "      div.appendChild(progress);\n",
              "      document.body.appendChild(div);\n",
              "\n",
              "      const buffers = [];\n",
              "      let downloaded = 0;\n",
              "\n",
              "      const channel = await google.colab.kernel.comms.open(id);\n",
              "      // Send a message to notify the kernel that we're ready.\n",
              "      channel.send({})\n",
              "\n",
              "      for await (const message of channel.messages) {\n",
              "        // Send a message to notify the kernel that we're ready.\n",
              "        channel.send({})\n",
              "        if (message.buffers) {\n",
              "          for (const buffer of message.buffers) {\n",
              "            buffers.push(buffer);\n",
              "            downloaded += buffer.byteLength;\n",
              "            progress.value = downloaded;\n",
              "          }\n",
              "        }\n",
              "      }\n",
              "      const blob = new Blob(buffers, {type: 'application/binary'});\n",
              "      const a = document.createElement('a');\n",
              "      a.href = window.URL.createObjectURL(blob);\n",
              "      a.download = filename;\n",
              "      div.appendChild(a);\n",
              "      a.click();\n",
              "      div.remove();\n",
              "    }\n",
              "  "
            ]
          },
          "metadata": {}
        },
        {
          "output_type": "display_data",
          "data": {
            "text/plain": [
              "<IPython.core.display.Javascript object>"
            ],
            "application/javascript": [
              "download(\"download_6ee28d8d-4a69-4faf-abb3-f500e216c741\", \"Poverty By State.png\", 202089)"
            ]
          },
          "metadata": {}
        }
      ]
    },
    {
      "cell_type": "code",
      "source": [
        "ins_trend = pd.read_csv('https://raw.githubusercontent.com/Umerfarooq122/What-Is-The-State-of-Food-Security-and-Nutrition-in-the-US/main/instrends22%20-%20Trends.csv')\n"
      ],
      "metadata": {
        "id": "FydAh1JfC7zu"
      },
      "execution_count": 17,
      "outputs": []
    },
    {
      "cell_type": "code",
      "source": [
        "ins_trend.head()"
      ],
      "metadata": {
        "colab": {
          "base_uri": "https://localhost:8080/",
          "height": 206
        },
        "id": "vLI5ZnSqE2lz",
        "outputId": "82866cca-6d26-445e-bcee-02769e477dde"
      },
      "execution_count": 18,
      "outputs": [
        {
          "output_type": "execute_result",
          "data": {
            "text/plain": [
              "   Year  Food insecurity  Very low food security\n",
              "0  2001             10.7                     3.3\n",
              "1  2002             11.1                     3.5\n",
              "2  2003             11.2                     3.5\n",
              "3  2004             11.9                     3.9\n",
              "4  2005             11.0                     3.9"
            ],
            "text/html": [
              "\n",
              "  <div id=\"df-95bc676c-d74c-4dc7-acdb-1deab3b98dcd\" class=\"colab-df-container\">\n",
              "    <div>\n",
              "<style scoped>\n",
              "    .dataframe tbody tr th:only-of-type {\n",
              "        vertical-align: middle;\n",
              "    }\n",
              "\n",
              "    .dataframe tbody tr th {\n",
              "        vertical-align: top;\n",
              "    }\n",
              "\n",
              "    .dataframe thead th {\n",
              "        text-align: right;\n",
              "    }\n",
              "</style>\n",
              "<table border=\"1\" class=\"dataframe\">\n",
              "  <thead>\n",
              "    <tr style=\"text-align: right;\">\n",
              "      <th></th>\n",
              "      <th>Year</th>\n",
              "      <th>Food insecurity</th>\n",
              "      <th>Very low food security</th>\n",
              "    </tr>\n",
              "  </thead>\n",
              "  <tbody>\n",
              "    <tr>\n",
              "      <th>0</th>\n",
              "      <td>2001</td>\n",
              "      <td>10.7</td>\n",
              "      <td>3.3</td>\n",
              "    </tr>\n",
              "    <tr>\n",
              "      <th>1</th>\n",
              "      <td>2002</td>\n",
              "      <td>11.1</td>\n",
              "      <td>3.5</td>\n",
              "    </tr>\n",
              "    <tr>\n",
              "      <th>2</th>\n",
              "      <td>2003</td>\n",
              "      <td>11.2</td>\n",
              "      <td>3.5</td>\n",
              "    </tr>\n",
              "    <tr>\n",
              "      <th>3</th>\n",
              "      <td>2004</td>\n",
              "      <td>11.9</td>\n",
              "      <td>3.9</td>\n",
              "    </tr>\n",
              "    <tr>\n",
              "      <th>4</th>\n",
              "      <td>2005</td>\n",
              "      <td>11.0</td>\n",
              "      <td>3.9</td>\n",
              "    </tr>\n",
              "  </tbody>\n",
              "</table>\n",
              "</div>\n",
              "    <div class=\"colab-df-buttons\">\n",
              "\n",
              "  <div class=\"colab-df-container\">\n",
              "    <button class=\"colab-df-convert\" onclick=\"convertToInteractive('df-95bc676c-d74c-4dc7-acdb-1deab3b98dcd')\"\n",
              "            title=\"Convert this dataframe to an interactive table.\"\n",
              "            style=\"display:none;\">\n",
              "\n",
              "  <svg xmlns=\"http://www.w3.org/2000/svg\" height=\"24px\" viewBox=\"0 -960 960 960\">\n",
              "    <path d=\"M120-120v-720h720v720H120Zm60-500h600v-160H180v160Zm220 220h160v-160H400v160Zm0 220h160v-160H400v160ZM180-400h160v-160H180v160Zm440 0h160v-160H620v160ZM180-180h160v-160H180v160Zm440 0h160v-160H620v160Z\"/>\n",
              "  </svg>\n",
              "    </button>\n",
              "\n",
              "  <style>\n",
              "    .colab-df-container {\n",
              "      display:flex;\n",
              "      gap: 12px;\n",
              "    }\n",
              "\n",
              "    .colab-df-convert {\n",
              "      background-color: #E8F0FE;\n",
              "      border: none;\n",
              "      border-radius: 50%;\n",
              "      cursor: pointer;\n",
              "      display: none;\n",
              "      fill: #1967D2;\n",
              "      height: 32px;\n",
              "      padding: 0 0 0 0;\n",
              "      width: 32px;\n",
              "    }\n",
              "\n",
              "    .colab-df-convert:hover {\n",
              "      background-color: #E2EBFA;\n",
              "      box-shadow: 0px 1px 2px rgba(60, 64, 67, 0.3), 0px 1px 3px 1px rgba(60, 64, 67, 0.15);\n",
              "      fill: #174EA6;\n",
              "    }\n",
              "\n",
              "    .colab-df-buttons div {\n",
              "      margin-bottom: 4px;\n",
              "    }\n",
              "\n",
              "    [theme=dark] .colab-df-convert {\n",
              "      background-color: #3B4455;\n",
              "      fill: #D2E3FC;\n",
              "    }\n",
              "\n",
              "    [theme=dark] .colab-df-convert:hover {\n",
              "      background-color: #434B5C;\n",
              "      box-shadow: 0px 1px 3px 1px rgba(0, 0, 0, 0.15);\n",
              "      filter: drop-shadow(0px 1px 2px rgba(0, 0, 0, 0.3));\n",
              "      fill: #FFFFFF;\n",
              "    }\n",
              "  </style>\n",
              "\n",
              "    <script>\n",
              "      const buttonEl =\n",
              "        document.querySelector('#df-95bc676c-d74c-4dc7-acdb-1deab3b98dcd button.colab-df-convert');\n",
              "      buttonEl.style.display =\n",
              "        google.colab.kernel.accessAllowed ? 'block' : 'none';\n",
              "\n",
              "      async function convertToInteractive(key) {\n",
              "        const element = document.querySelector('#df-95bc676c-d74c-4dc7-acdb-1deab3b98dcd');\n",
              "        const dataTable =\n",
              "          await google.colab.kernel.invokeFunction('convertToInteractive',\n",
              "                                                    [key], {});\n",
              "        if (!dataTable) return;\n",
              "\n",
              "        const docLinkHtml = 'Like what you see? Visit the ' +\n",
              "          '<a target=\"_blank\" href=https://colab.research.google.com/notebooks/data_table.ipynb>data table notebook</a>'\n",
              "          + ' to learn more about interactive tables.';\n",
              "        element.innerHTML = '';\n",
              "        dataTable['output_type'] = 'display_data';\n",
              "        await google.colab.output.renderOutput(dataTable, element);\n",
              "        const docLink = document.createElement('div');\n",
              "        docLink.innerHTML = docLinkHtml;\n",
              "        element.appendChild(docLink);\n",
              "      }\n",
              "    </script>\n",
              "  </div>\n",
              "\n",
              "\n",
              "<div id=\"df-553fcd27-2853-4088-9b9f-95f05777ab89\">\n",
              "  <button class=\"colab-df-quickchart\" onclick=\"quickchart('df-553fcd27-2853-4088-9b9f-95f05777ab89')\"\n",
              "            title=\"Suggest charts\"\n",
              "            style=\"display:none;\">\n",
              "\n",
              "<svg xmlns=\"http://www.w3.org/2000/svg\" height=\"24px\"viewBox=\"0 0 24 24\"\n",
              "     width=\"24px\">\n",
              "    <g>\n",
              "        <path d=\"M19 3H5c-1.1 0-2 .9-2 2v14c0 1.1.9 2 2 2h14c1.1 0 2-.9 2-2V5c0-1.1-.9-2-2-2zM9 17H7v-7h2v7zm4 0h-2V7h2v10zm4 0h-2v-4h2v4z\"/>\n",
              "    </g>\n",
              "</svg>\n",
              "  </button>\n",
              "\n",
              "<style>\n",
              "  .colab-df-quickchart {\n",
              "      --bg-color: #E8F0FE;\n",
              "      --fill-color: #1967D2;\n",
              "      --hover-bg-color: #E2EBFA;\n",
              "      --hover-fill-color: #174EA6;\n",
              "      --disabled-fill-color: #AAA;\n",
              "      --disabled-bg-color: #DDD;\n",
              "  }\n",
              "\n",
              "  [theme=dark] .colab-df-quickchart {\n",
              "      --bg-color: #3B4455;\n",
              "      --fill-color: #D2E3FC;\n",
              "      --hover-bg-color: #434B5C;\n",
              "      --hover-fill-color: #FFFFFF;\n",
              "      --disabled-bg-color: #3B4455;\n",
              "      --disabled-fill-color: #666;\n",
              "  }\n",
              "\n",
              "  .colab-df-quickchart {\n",
              "    background-color: var(--bg-color);\n",
              "    border: none;\n",
              "    border-radius: 50%;\n",
              "    cursor: pointer;\n",
              "    display: none;\n",
              "    fill: var(--fill-color);\n",
              "    height: 32px;\n",
              "    padding: 0;\n",
              "    width: 32px;\n",
              "  }\n",
              "\n",
              "  .colab-df-quickchart:hover {\n",
              "    background-color: var(--hover-bg-color);\n",
              "    box-shadow: 0 1px 2px rgba(60, 64, 67, 0.3), 0 1px 3px 1px rgba(60, 64, 67, 0.15);\n",
              "    fill: var(--button-hover-fill-color);\n",
              "  }\n",
              "\n",
              "  .colab-df-quickchart-complete:disabled,\n",
              "  .colab-df-quickchart-complete:disabled:hover {\n",
              "    background-color: var(--disabled-bg-color);\n",
              "    fill: var(--disabled-fill-color);\n",
              "    box-shadow: none;\n",
              "  }\n",
              "\n",
              "  .colab-df-spinner {\n",
              "    border: 2px solid var(--fill-color);\n",
              "    border-color: transparent;\n",
              "    border-bottom-color: var(--fill-color);\n",
              "    animation:\n",
              "      spin 1s steps(1) infinite;\n",
              "  }\n",
              "\n",
              "  @keyframes spin {\n",
              "    0% {\n",
              "      border-color: transparent;\n",
              "      border-bottom-color: var(--fill-color);\n",
              "      border-left-color: var(--fill-color);\n",
              "    }\n",
              "    20% {\n",
              "      border-color: transparent;\n",
              "      border-left-color: var(--fill-color);\n",
              "      border-top-color: var(--fill-color);\n",
              "    }\n",
              "    30% {\n",
              "      border-color: transparent;\n",
              "      border-left-color: var(--fill-color);\n",
              "      border-top-color: var(--fill-color);\n",
              "      border-right-color: var(--fill-color);\n",
              "    }\n",
              "    40% {\n",
              "      border-color: transparent;\n",
              "      border-right-color: var(--fill-color);\n",
              "      border-top-color: var(--fill-color);\n",
              "    }\n",
              "    60% {\n",
              "      border-color: transparent;\n",
              "      border-right-color: var(--fill-color);\n",
              "    }\n",
              "    80% {\n",
              "      border-color: transparent;\n",
              "      border-right-color: var(--fill-color);\n",
              "      border-bottom-color: var(--fill-color);\n",
              "    }\n",
              "    90% {\n",
              "      border-color: transparent;\n",
              "      border-bottom-color: var(--fill-color);\n",
              "    }\n",
              "  }\n",
              "</style>\n",
              "\n",
              "  <script>\n",
              "    async function quickchart(key) {\n",
              "      const quickchartButtonEl =\n",
              "        document.querySelector('#' + key + ' button');\n",
              "      quickchartButtonEl.disabled = true;  // To prevent multiple clicks.\n",
              "      quickchartButtonEl.classList.add('colab-df-spinner');\n",
              "      try {\n",
              "        const charts = await google.colab.kernel.invokeFunction(\n",
              "            'suggestCharts', [key], {});\n",
              "      } catch (error) {\n",
              "        console.error('Error during call to suggestCharts:', error);\n",
              "      }\n",
              "      quickchartButtonEl.classList.remove('colab-df-spinner');\n",
              "      quickchartButtonEl.classList.add('colab-df-quickchart-complete');\n",
              "    }\n",
              "    (() => {\n",
              "      let quickchartButtonEl =\n",
              "        document.querySelector('#df-553fcd27-2853-4088-9b9f-95f05777ab89 button');\n",
              "      quickchartButtonEl.style.display =\n",
              "        google.colab.kernel.accessAllowed ? 'block' : 'none';\n",
              "    })();\n",
              "  </script>\n",
              "</div>\n",
              "    </div>\n",
              "  </div>\n"
            ]
          },
          "metadata": {},
          "execution_count": 18
        }
      ]
    },
    {
      "cell_type": "code",
      "source": [
        "fig = px.line(ins_trend, x='Year', y='Food insecurity', markers=False,labels={'x': 'X-Axis Label (Time)', 'y': 'Y-Axis Label (Sales)'})\n",
        "#fig = px.scatter(ins_trend, x='Year', y='Food insecurity', trendline='ols')\n",
        "\n",
        "fig.add_trace(go.Scatter(\n",
        "    x=ins_trend['Year'],\n",
        "    y=np.poly1d(np.polyfit(ins_trend['Year'], ins_trend['Food insecurity'], 1))(ins_trend['Year']),\n",
        "    mode='lines',\n",
        "    name='Trendline',\n",
        "    line=dict(color='red', width=2, dash = 'dash')\n",
        "))\n",
        "\n",
        "fig.update_yaxes(range=[0, 20])\n",
        "fig.update_layout(template='plotly_white', font_family =\"Times New Roman\",\n",
        "                  xaxis_title='Year',\n",
        "                  yaxis_title='Food Insecurity Percentage',\n",
        "                  height=800,  # Set the height in pixels\n",
        "    width=1000, title=dict(text='Food Insecurity Rates Sharply Increased After 2008 Financial Crisis and 2020 Pandemic', font_size=22, font_color='crimson',\n",
        "                           font_family='Helvetica'))\n",
        "fig.add_annotation(text=\"Sharp Rise\",\n",
        "                  x=2007,y=11.1,\n",
        "                   showarrow=True, arrowsize=10, font_size = 16 , ax=30, ay=40,\n",
        "                   font_color = 'crimson',\n",
        "                   font_family = 'Helvetica')\n",
        "fig.add_annotation(text=\"Sharp Rise\",\n",
        "                  x=2020.7,y=10.8,\n",
        "                   showarrow=True, arrowhead=7, font_size = 16,\n",
        "                   font_color = 'crimson',\n",
        "                   font_family = 'Helvetica')\n",
        "# Show the plot\n",
        "fig.show()\n",
        "fig.write_image(\"Food Insecurity Rates Sharply Increased After 2008 Financial Crisis and 2020 Pandemic.png\")\n",
        "files.download('Food Insecurity Rates Sharply Increased After 2008 Financial Crisis and 2020 Pandemic.png')"
      ],
      "metadata": {
        "colab": {
          "base_uri": "https://localhost:8080/",
          "height": 817
        },
        "id": "lBBSBn4-FHP_",
        "outputId": "d9137821-5705-43f2-a451-f94bdd2c5523"
      },
      "execution_count": 20,
      "outputs": [
        {
          "output_type": "display_data",
          "data": {
            "text/html": [
              "<html>\n",
              "<head><meta charset=\"utf-8\" /></head>\n",
              "<body>\n",
              "    <div>            <script src=\"https://cdnjs.cloudflare.com/ajax/libs/mathjax/2.7.5/MathJax.js?config=TeX-AMS-MML_SVG\"></script><script type=\"text/javascript\">if (window.MathJax && window.MathJax.Hub && window.MathJax.Hub.Config) {window.MathJax.Hub.Config({SVG: {font: \"STIX-Web\"}});}</script>                <script type=\"text/javascript\">window.PlotlyConfig = {MathJaxConfig: 'local'};</script>\n",
              "        <script charset=\"utf-8\" src=\"https://cdn.plot.ly/plotly-2.27.0.min.js\"></script>                <div id=\"62f9b5fe-d20f-43ed-92d6-3ab8c1ffcd9f\" class=\"plotly-graph-div\" style=\"height:800px; width:1000px;\"></div>            <script type=\"text/javascript\">                                    window.PLOTLYENV=window.PLOTLYENV || {};                                    if (document.getElementById(\"62f9b5fe-d20f-43ed-92d6-3ab8c1ffcd9f\")) {                    Plotly.newPlot(                        \"62f9b5fe-d20f-43ed-92d6-3ab8c1ffcd9f\",                        [{\"hovertemplate\":\"Year=%{x}\\u003cbr\\u003eFood insecurity=%{y}\\u003cextra\\u003e\\u003c\\u002fextra\\u003e\",\"legendgroup\":\"\",\"line\":{\"color\":\"#636efa\",\"dash\":\"solid\"},\"marker\":{\"symbol\":\"circle\"},\"mode\":\"lines\",\"name\":\"\",\"orientation\":\"v\",\"showlegend\":false,\"x\":[2001,2002,2003,2004,2005,2006,2007,2008,2009,2010,2011,2012,2013,2014,2015,2016,2017,2018,2019,2020,2021,2022],\"xaxis\":\"x\",\"y\":[10.7,11.1,11.2,11.9,11.0,10.9,11.1,14.6,14.7,14.5,14.9,14.5,14.3,14.0,12.7,12.3,11.8,11.1,10.5,10.5,10.2,12.8],\"yaxis\":\"y\",\"type\":\"scatter\"},{\"line\":{\"color\":\"red\",\"dash\":\"dash\",\"width\":2},\"mode\":\"lines\",\"name\":\"Trendline\",\"x\":[2001,2002,2003,2004,2005,2006,2007,2008,2009,2010,2011,2012,2013,2014,2015,2016,2017,2018,2019,2020,2021,2022],\"y\":[12.341897233201543,12.340937323545985,12.339977413890427,12.339017504234869,12.338057594579311,12.337097684923751,12.336137775268194,12.335177865612636,12.334217955957078,12.33325804630152,12.332298136645962,12.331338226990404,12.330378317334844,12.329418407679286,12.328458498023728,12.32749858836817,12.326538678712613,12.325578769057055,12.324618859401497,12.323658949745937,12.322699040090379,12.321739130434821],\"type\":\"scatter\"}],                        {\"template\":{\"data\":{\"barpolar\":[{\"marker\":{\"line\":{\"color\":\"white\",\"width\":0.5},\"pattern\":{\"fillmode\":\"overlay\",\"size\":10,\"solidity\":0.2}},\"type\":\"barpolar\"}],\"bar\":[{\"error_x\":{\"color\":\"#2a3f5f\"},\"error_y\":{\"color\":\"#2a3f5f\"},\"marker\":{\"line\":{\"color\":\"white\",\"width\":0.5},\"pattern\":{\"fillmode\":\"overlay\",\"size\":10,\"solidity\":0.2}},\"type\":\"bar\"}],\"carpet\":[{\"aaxis\":{\"endlinecolor\":\"#2a3f5f\",\"gridcolor\":\"#C8D4E3\",\"linecolor\":\"#C8D4E3\",\"minorgridcolor\":\"#C8D4E3\",\"startlinecolor\":\"#2a3f5f\"},\"baxis\":{\"endlinecolor\":\"#2a3f5f\",\"gridcolor\":\"#C8D4E3\",\"linecolor\":\"#C8D4E3\",\"minorgridcolor\":\"#C8D4E3\",\"startlinecolor\":\"#2a3f5f\"},\"type\":\"carpet\"}],\"choropleth\":[{\"colorbar\":{\"outlinewidth\":0,\"ticks\":\"\"},\"type\":\"choropleth\"}],\"contourcarpet\":[{\"colorbar\":{\"outlinewidth\":0,\"ticks\":\"\"},\"type\":\"contourcarpet\"}],\"contour\":[{\"colorbar\":{\"outlinewidth\":0,\"ticks\":\"\"},\"colorscale\":[[0.0,\"#0d0887\"],[0.1111111111111111,\"#46039f\"],[0.2222222222222222,\"#7201a8\"],[0.3333333333333333,\"#9c179e\"],[0.4444444444444444,\"#bd3786\"],[0.5555555555555556,\"#d8576b\"],[0.6666666666666666,\"#ed7953\"],[0.7777777777777778,\"#fb9f3a\"],[0.8888888888888888,\"#fdca26\"],[1.0,\"#f0f921\"]],\"type\":\"contour\"}],\"heatmapgl\":[{\"colorbar\":{\"outlinewidth\":0,\"ticks\":\"\"},\"colorscale\":[[0.0,\"#0d0887\"],[0.1111111111111111,\"#46039f\"],[0.2222222222222222,\"#7201a8\"],[0.3333333333333333,\"#9c179e\"],[0.4444444444444444,\"#bd3786\"],[0.5555555555555556,\"#d8576b\"],[0.6666666666666666,\"#ed7953\"],[0.7777777777777778,\"#fb9f3a\"],[0.8888888888888888,\"#fdca26\"],[1.0,\"#f0f921\"]],\"type\":\"heatmapgl\"}],\"heatmap\":[{\"colorbar\":{\"outlinewidth\":0,\"ticks\":\"\"},\"colorscale\":[[0.0,\"#0d0887\"],[0.1111111111111111,\"#46039f\"],[0.2222222222222222,\"#7201a8\"],[0.3333333333333333,\"#9c179e\"],[0.4444444444444444,\"#bd3786\"],[0.5555555555555556,\"#d8576b\"],[0.6666666666666666,\"#ed7953\"],[0.7777777777777778,\"#fb9f3a\"],[0.8888888888888888,\"#fdca26\"],[1.0,\"#f0f921\"]],\"type\":\"heatmap\"}],\"histogram2dcontour\":[{\"colorbar\":{\"outlinewidth\":0,\"ticks\":\"\"},\"colorscale\":[[0.0,\"#0d0887\"],[0.1111111111111111,\"#46039f\"],[0.2222222222222222,\"#7201a8\"],[0.3333333333333333,\"#9c179e\"],[0.4444444444444444,\"#bd3786\"],[0.5555555555555556,\"#d8576b\"],[0.6666666666666666,\"#ed7953\"],[0.7777777777777778,\"#fb9f3a\"],[0.8888888888888888,\"#fdca26\"],[1.0,\"#f0f921\"]],\"type\":\"histogram2dcontour\"}],\"histogram2d\":[{\"colorbar\":{\"outlinewidth\":0,\"ticks\":\"\"},\"colorscale\":[[0.0,\"#0d0887\"],[0.1111111111111111,\"#46039f\"],[0.2222222222222222,\"#7201a8\"],[0.3333333333333333,\"#9c179e\"],[0.4444444444444444,\"#bd3786\"],[0.5555555555555556,\"#d8576b\"],[0.6666666666666666,\"#ed7953\"],[0.7777777777777778,\"#fb9f3a\"],[0.8888888888888888,\"#fdca26\"],[1.0,\"#f0f921\"]],\"type\":\"histogram2d\"}],\"histogram\":[{\"marker\":{\"pattern\":{\"fillmode\":\"overlay\",\"size\":10,\"solidity\":0.2}},\"type\":\"histogram\"}],\"mesh3d\":[{\"colorbar\":{\"outlinewidth\":0,\"ticks\":\"\"},\"type\":\"mesh3d\"}],\"parcoords\":[{\"line\":{\"colorbar\":{\"outlinewidth\":0,\"ticks\":\"\"}},\"type\":\"parcoords\"}],\"pie\":[{\"automargin\":true,\"type\":\"pie\"}],\"scatter3d\":[{\"line\":{\"colorbar\":{\"outlinewidth\":0,\"ticks\":\"\"}},\"marker\":{\"colorbar\":{\"outlinewidth\":0,\"ticks\":\"\"}},\"type\":\"scatter3d\"}],\"scattercarpet\":[{\"marker\":{\"colorbar\":{\"outlinewidth\":0,\"ticks\":\"\"}},\"type\":\"scattercarpet\"}],\"scattergeo\":[{\"marker\":{\"colorbar\":{\"outlinewidth\":0,\"ticks\":\"\"}},\"type\":\"scattergeo\"}],\"scattergl\":[{\"marker\":{\"colorbar\":{\"outlinewidth\":0,\"ticks\":\"\"}},\"type\":\"scattergl\"}],\"scattermapbox\":[{\"marker\":{\"colorbar\":{\"outlinewidth\":0,\"ticks\":\"\"}},\"type\":\"scattermapbox\"}],\"scatterpolargl\":[{\"marker\":{\"colorbar\":{\"outlinewidth\":0,\"ticks\":\"\"}},\"type\":\"scatterpolargl\"}],\"scatterpolar\":[{\"marker\":{\"colorbar\":{\"outlinewidth\":0,\"ticks\":\"\"}},\"type\":\"scatterpolar\"}],\"scatter\":[{\"fillpattern\":{\"fillmode\":\"overlay\",\"size\":10,\"solidity\":0.2},\"type\":\"scatter\"}],\"scatterternary\":[{\"marker\":{\"colorbar\":{\"outlinewidth\":0,\"ticks\":\"\"}},\"type\":\"scatterternary\"}],\"surface\":[{\"colorbar\":{\"outlinewidth\":0,\"ticks\":\"\"},\"colorscale\":[[0.0,\"#0d0887\"],[0.1111111111111111,\"#46039f\"],[0.2222222222222222,\"#7201a8\"],[0.3333333333333333,\"#9c179e\"],[0.4444444444444444,\"#bd3786\"],[0.5555555555555556,\"#d8576b\"],[0.6666666666666666,\"#ed7953\"],[0.7777777777777778,\"#fb9f3a\"],[0.8888888888888888,\"#fdca26\"],[1.0,\"#f0f921\"]],\"type\":\"surface\"}],\"table\":[{\"cells\":{\"fill\":{\"color\":\"#EBF0F8\"},\"line\":{\"color\":\"white\"}},\"header\":{\"fill\":{\"color\":\"#C8D4E3\"},\"line\":{\"color\":\"white\"}},\"type\":\"table\"}]},\"layout\":{\"annotationdefaults\":{\"arrowcolor\":\"#2a3f5f\",\"arrowhead\":0,\"arrowwidth\":1},\"autotypenumbers\":\"strict\",\"coloraxis\":{\"colorbar\":{\"outlinewidth\":0,\"ticks\":\"\"}},\"colorscale\":{\"diverging\":[[0,\"#8e0152\"],[0.1,\"#c51b7d\"],[0.2,\"#de77ae\"],[0.3,\"#f1b6da\"],[0.4,\"#fde0ef\"],[0.5,\"#f7f7f7\"],[0.6,\"#e6f5d0\"],[0.7,\"#b8e186\"],[0.8,\"#7fbc41\"],[0.9,\"#4d9221\"],[1,\"#276419\"]],\"sequential\":[[0.0,\"#0d0887\"],[0.1111111111111111,\"#46039f\"],[0.2222222222222222,\"#7201a8\"],[0.3333333333333333,\"#9c179e\"],[0.4444444444444444,\"#bd3786\"],[0.5555555555555556,\"#d8576b\"],[0.6666666666666666,\"#ed7953\"],[0.7777777777777778,\"#fb9f3a\"],[0.8888888888888888,\"#fdca26\"],[1.0,\"#f0f921\"]],\"sequentialminus\":[[0.0,\"#0d0887\"],[0.1111111111111111,\"#46039f\"],[0.2222222222222222,\"#7201a8\"],[0.3333333333333333,\"#9c179e\"],[0.4444444444444444,\"#bd3786\"],[0.5555555555555556,\"#d8576b\"],[0.6666666666666666,\"#ed7953\"],[0.7777777777777778,\"#fb9f3a\"],[0.8888888888888888,\"#fdca26\"],[1.0,\"#f0f921\"]]},\"colorway\":[\"#636efa\",\"#EF553B\",\"#00cc96\",\"#ab63fa\",\"#FFA15A\",\"#19d3f3\",\"#FF6692\",\"#B6E880\",\"#FF97FF\",\"#FECB52\"],\"font\":{\"color\":\"#2a3f5f\"},\"geo\":{\"bgcolor\":\"white\",\"lakecolor\":\"white\",\"landcolor\":\"white\",\"showlakes\":true,\"showland\":true,\"subunitcolor\":\"#C8D4E3\"},\"hoverlabel\":{\"align\":\"left\"},\"hovermode\":\"closest\",\"mapbox\":{\"style\":\"light\"},\"paper_bgcolor\":\"white\",\"plot_bgcolor\":\"white\",\"polar\":{\"angularaxis\":{\"gridcolor\":\"#EBF0F8\",\"linecolor\":\"#EBF0F8\",\"ticks\":\"\"},\"bgcolor\":\"white\",\"radialaxis\":{\"gridcolor\":\"#EBF0F8\",\"linecolor\":\"#EBF0F8\",\"ticks\":\"\"}},\"scene\":{\"xaxis\":{\"backgroundcolor\":\"white\",\"gridcolor\":\"#DFE8F3\",\"gridwidth\":2,\"linecolor\":\"#EBF0F8\",\"showbackground\":true,\"ticks\":\"\",\"zerolinecolor\":\"#EBF0F8\"},\"yaxis\":{\"backgroundcolor\":\"white\",\"gridcolor\":\"#DFE8F3\",\"gridwidth\":2,\"linecolor\":\"#EBF0F8\",\"showbackground\":true,\"ticks\":\"\",\"zerolinecolor\":\"#EBF0F8\"},\"zaxis\":{\"backgroundcolor\":\"white\",\"gridcolor\":\"#DFE8F3\",\"gridwidth\":2,\"linecolor\":\"#EBF0F8\",\"showbackground\":true,\"ticks\":\"\",\"zerolinecolor\":\"#EBF0F8\"}},\"shapedefaults\":{\"line\":{\"color\":\"#2a3f5f\"}},\"ternary\":{\"aaxis\":{\"gridcolor\":\"#DFE8F3\",\"linecolor\":\"#A2B1C6\",\"ticks\":\"\"},\"baxis\":{\"gridcolor\":\"#DFE8F3\",\"linecolor\":\"#A2B1C6\",\"ticks\":\"\"},\"bgcolor\":\"white\",\"caxis\":{\"gridcolor\":\"#DFE8F3\",\"linecolor\":\"#A2B1C6\",\"ticks\":\"\"}},\"title\":{\"x\":0.05},\"xaxis\":{\"automargin\":true,\"gridcolor\":\"#EBF0F8\",\"linecolor\":\"#EBF0F8\",\"ticks\":\"\",\"title\":{\"standoff\":15},\"zerolinecolor\":\"#EBF0F8\",\"zerolinewidth\":2},\"yaxis\":{\"automargin\":true,\"gridcolor\":\"#EBF0F8\",\"linecolor\":\"#EBF0F8\",\"ticks\":\"\",\"title\":{\"standoff\":15},\"zerolinecolor\":\"#EBF0F8\",\"zerolinewidth\":2}}},\"xaxis\":{\"anchor\":\"y\",\"domain\":[0.0,1.0],\"title\":{\"text\":\"Year\"}},\"yaxis\":{\"anchor\":\"x\",\"domain\":[0.0,1.0],\"title\":{\"text\":\"Food Insecurity Percentage\"},\"range\":[0,20]},\"legend\":{\"tracegroupgap\":0},\"margin\":{\"t\":60},\"font\":{\"family\":\"Times New Roman\"},\"title\":{\"font\":{\"size\":22,\"color\":\"crimson\",\"family\":\"Helvetica\"},\"text\":\"Food Insecurity Rates Sharply Increased After 2008 Financial Crisis and 2020 Pandemic\"},\"height\":800,\"width\":1000,\"annotations\":[{\"arrowsize\":10,\"ax\":30,\"ay\":40,\"font\":{\"color\":\"crimson\",\"family\":\"Helvetica\",\"size\":16},\"showarrow\":true,\"text\":\"Sharp Rise\",\"x\":2007,\"y\":11.1},{\"arrowhead\":7,\"font\":{\"color\":\"crimson\",\"family\":\"Helvetica\",\"size\":16},\"showarrow\":true,\"text\":\"Sharp Rise\",\"x\":2020.7,\"y\":10.8}]},                        {\"responsive\": true}                    ).then(function(){\n",
              "                            \n",
              "var gd = document.getElementById('62f9b5fe-d20f-43ed-92d6-3ab8c1ffcd9f');\n",
              "var x = new MutationObserver(function (mutations, observer) {{\n",
              "        var display = window.getComputedStyle(gd).display;\n",
              "        if (!display || display === 'none') {{\n",
              "            console.log([gd, 'removed!']);\n",
              "            Plotly.purge(gd);\n",
              "            observer.disconnect();\n",
              "        }}\n",
              "}});\n",
              "\n",
              "// Listen for the removal of the full notebook cells\n",
              "var notebookContainer = gd.closest('#notebook-container');\n",
              "if (notebookContainer) {{\n",
              "    x.observe(notebookContainer, {childList: true});\n",
              "}}\n",
              "\n",
              "// Listen for the clearing of the current output cell\n",
              "var outputEl = gd.closest('.output');\n",
              "if (outputEl) {{\n",
              "    x.observe(outputEl, {childList: true});\n",
              "}}\n",
              "\n",
              "                        })                };                            </script>        </div>\n",
              "</body>\n",
              "</html>"
            ]
          },
          "metadata": {}
        },
        {
          "output_type": "display_data",
          "data": {
            "text/plain": [
              "<IPython.core.display.Javascript object>"
            ],
            "application/javascript": [
              "\n",
              "    async function download(id, filename, size) {\n",
              "      if (!google.colab.kernel.accessAllowed) {\n",
              "        return;\n",
              "      }\n",
              "      const div = document.createElement('div');\n",
              "      const label = document.createElement('label');\n",
              "      label.textContent = `Downloading \"${filename}\": `;\n",
              "      div.appendChild(label);\n",
              "      const progress = document.createElement('progress');\n",
              "      progress.max = size;\n",
              "      div.appendChild(progress);\n",
              "      document.body.appendChild(div);\n",
              "\n",
              "      const buffers = [];\n",
              "      let downloaded = 0;\n",
              "\n",
              "      const channel = await google.colab.kernel.comms.open(id);\n",
              "      // Send a message to notify the kernel that we're ready.\n",
              "      channel.send({})\n",
              "\n",
              "      for await (const message of channel.messages) {\n",
              "        // Send a message to notify the kernel that we're ready.\n",
              "        channel.send({})\n",
              "        if (message.buffers) {\n",
              "          for (const buffer of message.buffers) {\n",
              "            buffers.push(buffer);\n",
              "            downloaded += buffer.byteLength;\n",
              "            progress.value = downloaded;\n",
              "          }\n",
              "        }\n",
              "      }\n",
              "      const blob = new Blob(buffers, {type: 'application/binary'});\n",
              "      const a = document.createElement('a');\n",
              "      a.href = window.URL.createObjectURL(blob);\n",
              "      a.download = filename;\n",
              "      div.appendChild(a);\n",
              "      a.click();\n",
              "      div.remove();\n",
              "    }\n",
              "  "
            ]
          },
          "metadata": {}
        },
        {
          "output_type": "display_data",
          "data": {
            "text/plain": [
              "<IPython.core.display.Javascript object>"
            ],
            "application/javascript": [
              "download(\"download_e89221fa-f621-4238-8dd9-e79e03b354d0\", \"Food Insecurity Rates Sharply Increased After 2008 Financial Crisis and 2020 Pandemic.png\", 64219)"
            ]
          },
          "metadata": {}
        }
      ]
    },
    {
      "cell_type": "code",
      "source": [
        "final['poverty_ins_ratio'] = final['food_ins_pre']/final['poverty']"
      ],
      "metadata": {
        "id": "SQIkdZ2NIbZT"
      },
      "execution_count": 21,
      "outputs": []
    },
    {
      "cell_type": "code",
      "source": [
        "final['poverty_iny_ratio'] = final['percent_scarcity']/final['poverty']"
      ],
      "metadata": {
        "id": "aToW5STOI1ub"
      },
      "execution_count": 22,
      "outputs": []
    },
    {
      "cell_type": "code",
      "source": [
        "final = final.sort_values(by ='poverty_ins_ratio')"
      ],
      "metadata": {
        "id": "F8WnGcXIJoyI"
      },
      "execution_count": 23,
      "outputs": []
    },
    {
      "cell_type": "code",
      "source": [
        "fig = plt.figure(figsize= (8,8))\n",
        "sns.set_style(\"whitegrid\")\n",
        "bar = plt.barh(final['Abbreviation'],final['poverty_ins_ratio'], color = 'lightgray')\n",
        "i = 49\n",
        "while  i >= 30:\n",
        "  bar[i].set_color('crimson')\n",
        "  i = i-1\n",
        "plt.axvline(final['poverty_ins_ratio'].mean(), label = 'Mean of the ratio', linestyle = 'dashed', color = 'black')\n",
        "plt.yticks(font = \"serif\",fontsize =8)\n",
        "plt.xticks(font = \"serif\",fontsize =10)\n",
        "plt.legend(bbox_to_anchor=(1.0,.489),loc='lower right',prop={'size':10,'family':'serif'}, frameon=False)\n",
        "#plt.text(.9,10,'Mean of the ratio', font = 'serif')\n",
        "plt.title('Food Insecurity / Poverty ratio in each State', font = \"serif\", y = 1.05, size = 16)\n",
        "sns.despine(bottom = False, left = False)\n",
        "plt.show()"
      ],
      "metadata": {
        "colab": {
          "base_uri": "https://localhost:8080/",
          "height": 732
        },
        "id": "vZ3VYVbBI-OO",
        "outputId": "1056b99e-a10d-40b1-d117-cd3884ce7ce3"
      },
      "execution_count": 24,
      "outputs": [
        {
          "output_type": "display_data",
          "data": {
            "text/plain": [
              "<Figure size 800x800 with 1 Axes>"
            ],
            "image/png": "[encoded data removed]"
          },
          "metadata": {}
        }
      ]
    },
    {
      "cell_type": "code",
      "source": [
        "fig = px.scatter(final, x='poverty', y='food_ins_pre',\n",
        "                 trendline='ols')\n",
        "fig.update_yaxes(range=[0, 20])\n",
        "fig.update_xaxes(range=[0, 20])\n",
        "\n",
        "\n",
        "fig.update_layout(template='plotly_white', font_family = 'Times New Roman',\n",
        "                  height=800,  # Set the height in pixels\n",
        "                  xaxis_title='Poverty Rate',\n",
        "                  yaxis_title='Food Insecurity Percentage',\n",
        "    width=1000, title=dict(text='Food Insecurity Directly Correlates with Poverty', font_size=22, font_color='crimson',\n",
        "                           font_family='Helvetica'))\n",
        "fig.show()\n",
        "fig.write_image(\"Food Insecurity Directly Correlates with Poverty.png\")\n",
        "files.download('Food Insecurity Directly Correlates with Poverty.png')"
      ],
      "metadata": {
        "id": "E8E_aVe_s5jz",
        "colab": {
          "base_uri": "https://localhost:8080/",
          "height": 817
        },
        "outputId": "8c247f2c-a2c7-4b4b-d52f-ea9df824af71"
      },
      "execution_count": 25,
      "outputs": [
        {
          "output_type": "display_data",
          "data": {
            "text/html": [
              "<html>\n",
              "<head><meta charset=\"utf-8\" /></head>\n",
              "<body>\n",
              "    <div>            <script src=\"https://cdnjs.cloudflare.com/ajax/libs/mathjax/2.7.5/MathJax.js?config=TeX-AMS-MML_SVG\"></script><script type=\"text/javascript\">if (window.MathJax && window.MathJax.Hub && window.MathJax.Hub.Config) {window.MathJax.Hub.Config({SVG: {font: \"STIX-Web\"}});}</script>                <script type=\"text/javascript\">window.PlotlyConfig = {MathJaxConfig: 'local'};</script>\n",
              "        <script charset=\"utf-8\" src=\"https://cdn.plot.ly/plotly-2.27.0.min.js\"></script>                <div id=\"2baca43b-56f8-4e1c-98fd-522df5f23aa5\" class=\"plotly-graph-div\" style=\"height:800px; width:1000px;\"></div>            <script type=\"text/javascript\">                                    window.PLOTLYENV=window.PLOTLYENV || {};                                    if (document.getElementById(\"2baca43b-56f8-4e1c-98fd-522df5f23aa5\")) {                    Plotly.newPlot(                        \"2baca43b-56f8-4e1c-98fd-522df5f23aa5\",                        [{\"hovertemplate\":\"poverty=%{x}\\u003cbr\\u003efood_ins_pre=%{y}\\u003cextra\\u003e\\u003c\\u002fextra\\u003e\",\"legendgroup\":\"\",\"marker\":{\"color\":\"#636efa\",\"symbol\":\"circle\"},\"mode\":\"markers\",\"name\":\"\",\"orientation\":\"v\",\"showlegend\":false,\"x\":[16.8,17.7,10.9,12.1,11.9,16.3,9.3,19.5,10.2,12.9,13.5,14.2,19.2,16.3,14.0,11.0,10.4,11.6,10.9,14.0,12.3,7.4,9.9,13.7,12.0,12.0,16.8,10.2,13.2,13.3,12.1,10.8,12.1,10.8,11.2,10.3,13.0,9.7,12.2,10.3,15.4,10.1,12.8,10.8,11.5,14.5,16.0,10.6,14.2,10.5,8.7],\"xaxis\":\"x\",\"y\":[10.0,11.2,7.7,8.6,8.9,12.4,7.1,15.2,8.0,10.2,10.7,11.3,15.3,13.1,11.3,8.9,8.5,9.6,9.1,11.7,10.3,6.2,8.3,11.5,10.1,10.1,14.2,8.8,11.4,11.5,10.6,9.5,10.7,9.6,10.1,9.3,11.9,8.9,11.2,9.5,14.3,9.6,12.2,10.5,11.5,14.5,16.6,11.4,15.5,12.1,10.7],\"yaxis\":\"y\",\"type\":\"scatter\"},{\"hovertemplate\":\"\\u003cb\\u003eOLS trendline\\u003c\\u002fb\\u003e\\u003cbr\\u003efood_ins_pre = 0.652492 * poverty + 2.60956\\u003cbr\\u003eR\\u003csup\\u003e2\\u003c\\u002fsup\\u003e=0.599222\\u003cbr\\u003e\\u003cbr\\u003epoverty=%{x}\\u003cbr\\u003efood_ins_pre=%{y} \\u003cb\\u003e(trend)\\u003c\\u002fb\\u003e\\u003cextra\\u003e\\u003c\\u002fextra\\u003e\",\"legendgroup\":\"\",\"marker\":{\"color\":\"#636efa\",\"symbol\":\"circle\"},\"mode\":\"lines\",\"name\":\"\",\"showlegend\":false,\"x\":[7.4,8.7,9.3,9.7,9.9,10.1,10.2,10.2,10.3,10.3,10.4,10.5,10.6,10.8,10.8,10.8,10.9,10.9,11.0,11.2,11.5,11.6,11.9,12.0,12.0,12.1,12.1,12.1,12.2,12.3,12.8,12.9,13.0,13.2,13.3,13.5,13.7,14.0,14.0,14.2,14.2,14.5,15.4,16.0,16.3,16.3,16.8,16.8,17.7,19.2,19.5],\"xaxis\":\"x\",\"y\":[7.437998607949482,8.286237865791534,8.677732907872482,8.938729602593114,9.06922794995343,9.199726297313745,9.264975470993903,9.264975470993903,9.330224644674061,9.330224644674061,9.395473818354219,9.460722992034377,9.525972165714535,9.65647051307485,9.65647051307485,9.65647051307485,9.721719686755009,9.721719686755009,9.786968860435167,9.917467207795482,10.113214728835956,10.178463902516114,10.374211423556588,10.439460597236746,10.439460597236746,10.504709770916904,10.504709770916904,10.504709770916904,10.569958944597062,10.63520811827722,10.96145398667801,11.026703160358167,11.091952334038325,11.222450681398639,11.287699855078799,11.418198202439113,11.548696549799429,11.744444070839902,11.744444070839902,11.874942418200218,11.874942418200218,12.070689939240692,12.657932502362113,13.049427544443061,13.245175065483535,13.245175065483535,13.571420933884324,13.571420933884324,14.158663497005744,15.137401102208113,15.333148623248587],\"yaxis\":\"y\",\"type\":\"scatter\"}],                        {\"template\":{\"data\":{\"barpolar\":[{\"marker\":{\"line\":{\"color\":\"white\",\"width\":0.5},\"pattern\":{\"fillmode\":\"overlay\",\"size\":10,\"solidity\":0.2}},\"type\":\"barpolar\"}],\"bar\":[{\"error_x\":{\"color\":\"#2a3f5f\"},\"error_y\":{\"color\":\"#2a3f5f\"},\"marker\":{\"line\":{\"color\":\"white\",\"width\":0.5},\"pattern\":{\"fillmode\":\"overlay\",\"size\":10,\"solidity\":0.2}},\"type\":\"bar\"}],\"carpet\":[{\"aaxis\":{\"endlinecolor\":\"#2a3f5f\",\"gridcolor\":\"#C8D4E3\",\"linecolor\":\"#C8D4E3\",\"minorgridcolor\":\"#C8D4E3\",\"startlinecolor\":\"#2a3f5f\"},\"baxis\":{\"endlinecolor\":\"#2a3f5f\",\"gridcolor\":\"#C8D4E3\",\"linecolor\":\"#C8D4E3\",\"minorgridcolor\":\"#C8D4E3\",\"startlinecolor\":\"#2a3f5f\"},\"type\":\"carpet\"}],\"choropleth\":[{\"colorbar\":{\"outlinewidth\":0,\"ticks\":\"\"},\"type\":\"choropleth\"}],\"contourcarpet\":[{\"colorbar\":{\"outlinewidth\":0,\"ticks\":\"\"},\"type\":\"contourcarpet\"}],\"contour\":[{\"colorbar\":{\"outlinewidth\":0,\"ticks\":\"\"},\"colorscale\":[[0.0,\"#0d0887\"],[0.1111111111111111,\"#46039f\"],[0.2222222222222222,\"#7201a8\"],[0.3333333333333333,\"#9c179e\"],[0.4444444444444444,\"#bd3786\"],[0.5555555555555556,\"#d8576b\"],[0.6666666666666666,\"#ed7953\"],[0.7777777777777778,\"#fb9f3a\"],[0.8888888888888888,\"#fdca26\"],[1.0,\"#f0f921\"]],\"type\":\"contour\"}],\"heatmapgl\":[{\"colorbar\":{\"outlinewidth\":0,\"ticks\":\"\"},\"colorscale\":[[0.0,\"#0d0887\"],[0.1111111111111111,\"#46039f\"],[0.2222222222222222,\"#7201a8\"],[0.3333333333333333,\"#9c179e\"],[0.4444444444444444,\"#bd3786\"],[0.5555555555555556,\"#d8576b\"],[0.6666666666666666,\"#ed7953\"],[0.7777777777777778,\"#fb9f3a\"],[0.8888888888888888,\"#fdca26\"],[1.0,\"#f0f921\"]],\"type\":\"heatmapgl\"}],\"heatmap\":[{\"colorbar\":{\"outlinewidth\":0,\"ticks\":\"\"},\"colorscale\":[[0.0,\"#0d0887\"],[0.1111111111111111,\"#46039f\"],[0.2222222222222222,\"#7201a8\"],[0.3333333333333333,\"#9c179e\"],[0.4444444444444444,\"#bd3786\"],[0.5555555555555556,\"#d8576b\"],[0.6666666666666666,\"#ed7953\"],[0.7777777777777778,\"#fb9f3a\"],[0.8888888888888888,\"#fdca26\"],[1.0,\"#f0f921\"]],\"type\":\"heatmap\"}],\"histogram2dcontour\":[{\"colorbar\":{\"outlinewidth\":0,\"ticks\":\"\"},\"colorscale\":[[0.0,\"#0d0887\"],[0.1111111111111111,\"#46039f\"],[0.2222222222222222,\"#7201a8\"],[0.3333333333333333,\"#9c179e\"],[0.4444444444444444,\"#bd3786\"],[0.5555555555555556,\"#d8576b\"],[0.6666666666666666,\"#ed7953\"],[0.7777777777777778,\"#fb9f3a\"],[0.8888888888888888,\"#fdca26\"],[1.0,\"#f0f921\"]],\"type\":\"histogram2dcontour\"}],\"histogram2d\":[{\"colorbar\":{\"outlinewidth\":0,\"ticks\":\"\"},\"colorscale\":[[0.0,\"#0d0887\"],[0.1111111111111111,\"#46039f\"],[0.2222222222222222,\"#7201a8\"],[0.3333333333333333,\"#9c179e\"],[0.4444444444444444,\"#bd3786\"],[0.5555555555555556,\"#d8576b\"],[0.6666666666666666,\"#ed7953\"],[0.7777777777777778,\"#fb9f3a\"],[0.8888888888888888,\"#fdca26\"],[1.0,\"#f0f921\"]],\"type\":\"histogram2d\"}],\"histogram\":[{\"marker\":{\"pattern\":{\"fillmode\":\"overlay\",\"size\":10,\"solidity\":0.2}},\"type\":\"histogram\"}],\"mesh3d\":[{\"colorbar\":{\"outlinewidth\":0,\"ticks\":\"\"},\"type\":\"mesh3d\"}],\"parcoords\":[{\"line\":{\"colorbar\":{\"outlinewidth\":0,\"ticks\":\"\"}},\"type\":\"parcoords\"}],\"pie\":[{\"automargin\":true,\"type\":\"pie\"}],\"scatter3d\":[{\"line\":{\"colorbar\":{\"outlinewidth\":0,\"ticks\":\"\"}},\"marker\":{\"colorbar\":{\"outlinewidth\":0,\"ticks\":\"\"}},\"type\":\"scatter3d\"}],\"scattercarpet\":[{\"marker\":{\"colorbar\":{\"outlinewidth\":0,\"ticks\":\"\"}},\"type\":\"scattercarpet\"}],\"scattergeo\":[{\"marker\":{\"colorbar\":{\"outlinewidth\":0,\"ticks\":\"\"}},\"type\":\"scattergeo\"}],\"scattergl\":[{\"marker\":{\"colorbar\":{\"outlinewidth\":0,\"ticks\":\"\"}},\"type\":\"scattergl\"}],\"scattermapbox\":[{\"marker\":{\"colorbar\":{\"outlinewidth\":0,\"ticks\":\"\"}},\"type\":\"scattermapbox\"}],\"scatterpolargl\":[{\"marker\":{\"colorbar\":{\"outlinewidth\":0,\"ticks\":\"\"}},\"type\":\"scatterpolargl\"}],\"scatterpolar\":[{\"marker\":{\"colorbar\":{\"outlinewidth\":0,\"ticks\":\"\"}},\"type\":\"scatterpolar\"}],\"scatter\":[{\"fillpattern\":{\"fillmode\":\"overlay\",\"size\":10,\"solidity\":0.2},\"type\":\"scatter\"}],\"scatterternary\":[{\"marker\":{\"colorbar\":{\"outlinewidth\":0,\"ticks\":\"\"}},\"type\":\"scatterternary\"}],\"surface\":[{\"colorbar\":{\"outlinewidth\":0,\"ticks\":\"\"},\"colorscale\":[[0.0,\"#0d0887\"],[0.1111111111111111,\"#46039f\"],[0.2222222222222222,\"#7201a8\"],[0.3333333333333333,\"#9c179e\"],[0.4444444444444444,\"#bd3786\"],[0.5555555555555556,\"#d8576b\"],[0.6666666666666666,\"#ed7953\"],[0.7777777777777778,\"#fb9f3a\"],[0.8888888888888888,\"#fdca26\"],[1.0,\"#f0f921\"]],\"type\":\"surface\"}],\"table\":[{\"cells\":{\"fill\":{\"color\":\"#EBF0F8\"},\"line\":{\"color\":\"white\"}},\"header\":{\"fill\":{\"color\":\"#C8D4E3\"},\"line\":{\"color\":\"white\"}},\"type\":\"table\"}]},\"layout\":{\"annotationdefaults\":{\"arrowcolor\":\"#2a3f5f\",\"arrowhead\":0,\"arrowwidth\":1},\"autotypenumbers\":\"strict\",\"coloraxis\":{\"colorbar\":{\"outlinewidth\":0,\"ticks\":\"\"}},\"colorscale\":{\"diverging\":[[0,\"#8e0152\"],[0.1,\"#c51b7d\"],[0.2,\"#de77ae\"],[0.3,\"#f1b6da\"],[0.4,\"#fde0ef\"],[0.5,\"#f7f7f7\"],[0.6,\"#e6f5d0\"],[0.7,\"#b8e186\"],[0.8,\"#7fbc41\"],[0.9,\"#4d9221\"],[1,\"#276419\"]],\"sequential\":[[0.0,\"#0d0887\"],[0.1111111111111111,\"#46039f\"],[0.2222222222222222,\"#7201a8\"],[0.3333333333333333,\"#9c179e\"],[0.4444444444444444,\"#bd3786\"],[0.5555555555555556,\"#d8576b\"],[0.6666666666666666,\"#ed7953\"],[0.7777777777777778,\"#fb9f3a\"],[0.8888888888888888,\"#fdca26\"],[1.0,\"#f0f921\"]],\"sequentialminus\":[[0.0,\"#0d0887\"],[0.1111111111111111,\"#46039f\"],[0.2222222222222222,\"#7201a8\"],[0.3333333333333333,\"#9c179e\"],[0.4444444444444444,\"#bd3786\"],[0.5555555555555556,\"#d8576b\"],[0.6666666666666666,\"#ed7953\"],[0.7777777777777778,\"#fb9f3a\"],[0.8888888888888888,\"#fdca26\"],[1.0,\"#f0f921\"]]},\"colorway\":[\"#636efa\",\"#EF553B\",\"#00cc96\",\"#ab63fa\",\"#FFA15A\",\"#19d3f3\",\"#FF6692\",\"#B6E880\",\"#FF97FF\",\"#FECB52\"],\"font\":{\"color\":\"#2a3f5f\"},\"geo\":{\"bgcolor\":\"white\",\"lakecolor\":\"white\",\"landcolor\":\"white\",\"showlakes\":true,\"showland\":true,\"subunitcolor\":\"#C8D4E3\"},\"hoverlabel\":{\"align\":\"left\"},\"hovermode\":\"closest\",\"mapbox\":{\"style\":\"light\"},\"paper_bgcolor\":\"white\",\"plot_bgcolor\":\"white\",\"polar\":{\"angularaxis\":{\"gridcolor\":\"#EBF0F8\",\"linecolor\":\"#EBF0F8\",\"ticks\":\"\"},\"bgcolor\":\"white\",\"radialaxis\":{\"gridcolor\":\"#EBF0F8\",\"linecolor\":\"#EBF0F8\",\"ticks\":\"\"}},\"scene\":{\"xaxis\":{\"backgroundcolor\":\"white\",\"gridcolor\":\"#DFE8F3\",\"gridwidth\":2,\"linecolor\":\"#EBF0F8\",\"showbackground\":true,\"ticks\":\"\",\"zerolinecolor\":\"#EBF0F8\"},\"yaxis\":{\"backgroundcolor\":\"white\",\"gridcolor\":\"#DFE8F3\",\"gridwidth\":2,\"linecolor\":\"#EBF0F8\",\"showbackground\":true,\"ticks\":\"\",\"zerolinecolor\":\"#EBF0F8\"},\"zaxis\":{\"backgroundcolor\":\"white\",\"gridcolor\":\"#DFE8F3\",\"gridwidth\":2,\"linecolor\":\"#EBF0F8\",\"showbackground\":true,\"ticks\":\"\",\"zerolinecolor\":\"#EBF0F8\"}},\"shapedefaults\":{\"line\":{\"color\":\"#2a3f5f\"}},\"ternary\":{\"aaxis\":{\"gridcolor\":\"#DFE8F3\",\"linecolor\":\"#A2B1C6\",\"ticks\":\"\"},\"baxis\":{\"gridcolor\":\"#DFE8F3\",\"linecolor\":\"#A2B1C6\",\"ticks\":\"\"},\"bgcolor\":\"white\",\"caxis\":{\"gridcolor\":\"#DFE8F3\",\"linecolor\":\"#A2B1C6\",\"ticks\":\"\"}},\"title\":{\"x\":0.05},\"xaxis\":{\"automargin\":true,\"gridcolor\":\"#EBF0F8\",\"linecolor\":\"#EBF0F8\",\"ticks\":\"\",\"title\":{\"standoff\":15},\"zerolinecolor\":\"#EBF0F8\",\"zerolinewidth\":2},\"yaxis\":{\"automargin\":true,\"gridcolor\":\"#EBF0F8\",\"linecolor\":\"#EBF0F8\",\"ticks\":\"\",\"title\":{\"standoff\":15},\"zerolinecolor\":\"#EBF0F8\",\"zerolinewidth\":2}}},\"xaxis\":{\"anchor\":\"y\",\"domain\":[0.0,1.0],\"title\":{\"text\":\"Poverty Rate\"},\"range\":[0,20]},\"yaxis\":{\"anchor\":\"x\",\"domain\":[0.0,1.0],\"title\":{\"text\":\"Food Insecurity Percentage\"},\"range\":[0,20]},\"legend\":{\"tracegroupgap\":0},\"margin\":{\"t\":60},\"font\":{\"family\":\"Times New Roman\"},\"title\":{\"font\":{\"size\":22,\"color\":\"crimson\",\"family\":\"Helvetica\"},\"text\":\"Food Insecurity Directly Correlates with Poverty\"},\"height\":800,\"width\":1000},                        {\"responsive\": true}                    ).then(function(){\n",
              "                            \n",
              "var gd = document.getElementById('2baca43b-56f8-4e1c-98fd-522df5f23aa5');\n",
              "var x = new MutationObserver(function (mutations, observer) {{\n",
              "        var display = window.getComputedStyle(gd).display;\n",
              "        if (!display || display === 'none') {{\n",
              "            console.log([gd, 'removed!']);\n",
              "            Plotly.purge(gd);\n",
              "            observer.disconnect();\n",
              "        }}\n",
              "}});\n",
              "\n",
              "// Listen for the removal of the full notebook cells\n",
              "var notebookContainer = gd.closest('#notebook-container');\n",
              "if (notebookContainer) {{\n",
              "    x.observe(notebookContainer, {childList: true});\n",
              "}}\n",
              "\n",
              "// Listen for the clearing of the current output cell\n",
              "var outputEl = gd.closest('.output');\n",
              "if (outputEl) {{\n",
              "    x.observe(outputEl, {childList: true});\n",
              "}}\n",
              "\n",
              "                        })                };                            </script>        </div>\n",
              "</body>\n",
              "</html>"
            ]
          },
          "metadata": {}
        },
        {
          "output_type": "display_data",
          "data": {
            "text/plain": [
              "<IPython.core.display.Javascript object>"
            ],
            "application/javascript": [
              "\n",
              "    async function download(id, filename, size) {\n",
              "      if (!google.colab.kernel.accessAllowed) {\n",
              "        return;\n",
              "      }\n",
              "      const div = document.createElement('div');\n",
              "      const label = document.createElement('label');\n",
              "      label.textContent = `Downloading \"${filename}\": `;\n",
              "      div.appendChild(label);\n",
              "      const progress = document.createElement('progress');\n",
              "      progress.max = size;\n",
              "      div.appendChild(progress);\n",
              "      document.body.appendChild(div);\n",
              "\n",
              "      const buffers = [];\n",
              "      let downloaded = 0;\n",
              "\n",
              "      const channel = await google.colab.kernel.comms.open(id);\n",
              "      // Send a message to notify the kernel that we're ready.\n",
              "      channel.send({})\n",
              "\n",
              "      for await (const message of channel.messages) {\n",
              "        // Send a message to notify the kernel that we're ready.\n",
              "        channel.send({})\n",
              "        if (message.buffers) {\n",
              "          for (const buffer of message.buffers) {\n",
              "            buffers.push(buffer);\n",
              "            downloaded += buffer.byteLength;\n",
              "            progress.value = downloaded;\n",
              "          }\n",
              "        }\n",
              "      }\n",
              "      const blob = new Blob(buffers, {type: 'application/binary'});\n",
              "      const a = document.createElement('a');\n",
              "      a.href = window.URL.createObjectURL(blob);\n",
              "      a.download = filename;\n",
              "      div.appendChild(a);\n",
              "      a.click();\n",
              "      div.remove();\n",
              "    }\n",
              "  "
            ]
          },
          "metadata": {}
        },
        {
          "output_type": "display_data",
          "data": {
            "text/plain": [
              "<IPython.core.display.Javascript object>"
            ],
            "application/javascript": [
              "download(\"download_bb1f41d3-5c64-443c-8c75-72578d5e1748\", \"Food Insecurity Directly Correlates with Poverty.png\", 53226)"
            ]
          },
          "metadata": {}
        }
      ]
    },
    {
      "cell_type": "markdown",
      "source": [
        "# **Obesity:**"
      ],
      "metadata": {
        "id": "d8xxKRLCU_w7"
      }
    },
    {
      "cell_type": "code",
      "source": [
        "conditions_i = [\n",
        "    (final['2020-21'] > 40 )& (final['2020-21']<=50),\n",
        "    (final['2020-21'] > 37) & (final['2020-21'] <= 40),\n",
        "    (final['2020-21'] > 34) & (final['2020-21'] <= 37),\n",
        "    (final['2020-21'] > 31 ) & (final['2020-21'] <= 34),\n",
        "     (final['2020-21'] > 28) & (final['2020-21'] <= 31),\n",
        "    (final['2020-21'] > 25) & (final['2020-21'] <= 28),\n",
        "    (final['2020-21'] > 0 ) & (final['2020-21'] <= 25)\n",
        "    ]\n",
        "\n",
        "values_i = ['Over 40%', '37.1-40%', '34.1-37%','31.1-34%','28.1-31%' ,'25.1-28%','Equal or Below 25%']\n",
        "final['obesity_range'] = np.select(conditions_i, values_i)"
      ],
      "metadata": {
        "id": "kQtU820BVHbZ"
      },
      "execution_count": 26,
      "outputs": []
    },
    {
      "cell_type": "code",
      "source": [
        "final = final.dropna()"
      ],
      "metadata": {
        "id": "lMrj6SB2cn7X"
      },
      "execution_count": 27,
      "outputs": []
    },
    {
      "cell_type": "code",
      "source": [
        "\n",
        "event_dictionary = {'Over 40%':'crimson', '37.1-40%':'#800080', '34.1-37%':'#be29ec',\n",
        "                                        '31.1-34%':'#d896ff','28.1-31%':'#E0B0FF','25.1-28%':'#efbbff',\n",
        "                                        'Equal or Below 25%':'#E6E6FA'}\n",
        "\n",
        "final['background_coloro'] = final['obesity_range'].apply(set_value, args =(event_dictionary, ))\n",
        "final['background_coloro'] = final['background_coloro'].apply(lambda x: mcolors.to_hex(x))"
      ],
      "metadata": {
        "id": "aHiZOjQXtXTt"
      },
      "execution_count": 28,
      "outputs": []
    },
    {
      "cell_type": "code",
      "source": [
        "legend_order = ['Over 40%', '37.1-40%', '34.1-37%','31.1-34%','28.1-31%' ,'25.1-28%','Equal or Below 25%']\n",
        "\n",
        "fig = px.choropleth(final, locations = 'Abbreviation',\n",
        "                    color = 'obesity_range',\n",
        "                    locationmode = 'USA-states',category_orders= {'obesity_range': legend_order},\n",
        "                    color_discrete_map={'Over 40%':'crimson', '37.1-40%':'#800080', '34.1-37%':'#be29ec',\n",
        "                                        '31.1-34%':'#d896ff','28.1-31%':'#E0B0FF','25.1-28%':'#efbbff',\n",
        "                                        'Equal or Below 25%':'#E6E6FA'},\n",
        "                    hover_data=[\"state\",\"2020-21\", \"poverty\", \"food_ins_pre\"])\n",
        "def calculate_luminance(hex_color):\n",
        "    try:\n",
        "        # Strip the '#' symbol if present and convert to lowercase\n",
        "        hex_color = hex_color.lstrip('#').lower()\n",
        "\n",
        "        # Make sure the remaining string is a valid hex color code\n",
        "        if len(hex_color) == 6:\n",
        "            rgb_color = tuple(int(hex_color[i:i + 2], 16) for i in (0, 2, 4))\n",
        "            r, g, b = [x / 255.0 for x in rgb_color]\n",
        "            h, s, v = colorsys.rgb_to_hsv(r, g, b)\n",
        "            return v\n",
        "        else:\n",
        "            # Handle invalid hex color codes\n",
        "            return None\n",
        "    except ValueError:\n",
        "        # Handle errors during conversion\n",
        "        return None\n",
        "\n",
        "fig.add_scattergeo(\n",
        "    locations=final['Abbreviation'],\n",
        "    locationmode=\"USA-states\",\n",
        "    text=final['Abbreviation'],\n",
        "    mode='text', textfont_color=[ 'white' if calculate_luminance(bg_color) < 0.9 else 'black' for bg_color in final['background_coloro']],\n",
        "    textposition='bottom right',\n",
        "    showlegend = False\n",
        ")\n",
        "\n",
        "fig.update_layout(\n",
        "                  geo_scope = 'usa',font_family=\"Times New Roman\",\n",
        "                  title_font_family=\"Times New Roman\",\n",
        "                  title_font_color=\"black\",\n",
        "\n",
        "                  height=1000,\n",
        "                  width=1600 ,legend=dict(title=dict(text='Obesity'), x= .9,y=.7, font_size = 18),\n",
        "                  title=dict(\n",
        "                      text=\"Children and Teenage Obesity By State (Ages 10-17)\",\n",
        "                      xanchor='center',\n",
        "                      x=0.45,\n",
        "                      yref='paper',\n",
        "                      yanchor='bottom',\n",
        "                      y=.95,\n",
        "                      pad={'b': 0},\n",
        "                      font_size = 34)\n",
        "\n",
        "    )\n",
        "fig.update_traces(\n",
        "marker_line_color='white')\n",
        "fig.add_annotation(text=\"Mississippi, Kentucky, and West Virginia Have the Highest Rates of Child and Teen Obesity\",\n",
        "                   x=.5,y=.945,\n",
        "                   showarrow=False, font_size = 24 ,\n",
        "                   font_color = 'crimson',\n",
        "                   font_family = 'Helvetica')\n",
        "fig.show()\n",
        "\n",
        "fig.write_image(\"Children and Teenage Obesity By State (Ages 10-17).png\")\n",
        "files.download('Children and Teenage Obesity By State (Ages 10-17).png')"
      ],
      "metadata": {
        "id": "_bUZkXt8O_Al",
        "colab": {
          "base_uri": "https://localhost:8080/",
          "height": 1000
        },
        "outputId": "8aa2c6c1-3056-4545-aec7-662d44fc92a3"
      },
      "execution_count": 29,
      "outputs": [
        {
          "output_type": "display_data",
          "data": {
            "text/html": [
              "<html>\n",
              "<head><meta charset=\"utf-8\" /></head>\n",
              "<body>\n",
              "    <div>            <script src=\"https://cdnjs.cloudflare.com/ajax/libs/mathjax/2.7.5/MathJax.js?config=TeX-AMS-MML_SVG\"></script><script type=\"text/javascript\">if (window.MathJax && window.MathJax.Hub && window.MathJax.Hub.Config) {window.MathJax.Hub.Config({SVG: {font: \"STIX-Web\"}});}</script>                <script type=\"text/javascript\">window.PlotlyConfig = {MathJaxConfig: 'local'};</script>\n",
              "        <script charset=\"utf-8\" src=\"https://cdn.plot.ly/plotly-2.27.0.min.js\"></script>                <div id=\"21ec55df-3e87-495f-ab63-9ce275206bc8\" class=\"plotly-graph-div\" style=\"height:1000px; width:1600px;\"></div>            <script type=\"text/javascript\">                                    window.PLOTLYENV=window.PLOTLYENV || {};                                    if (document.getElementById(\"21ec55df-3e87-495f-ab63-9ce275206bc8\")) {                    Plotly.newPlot(                        \"21ec55df-3e87-495f-ab63-9ce275206bc8\",                        [{\"colorscale\":[[0.0,\"crimson\"],[1.0,\"crimson\"]],\"customdata\":[[\"Mississippi\",41.0,19.2,15.3],[\"Kentucky\",41.0,16.3,13.1],[\"West Virginia\",41.0,16.8,14.2]],\"geo\":\"geo\",\"hovertemplate\":\"obesity_range=Over 40%\\u003cbr\\u003eAbbreviation=%{location}\\u003cbr\\u003estate=%{customdata[0]}\\u003cbr\\u003e2020-21=%{customdata[1]}\\u003cbr\\u003epoverty=%{customdata[2]}\\u003cbr\\u003efood_ins_pre=%{customdata[3]}\\u003cextra\\u003e\\u003c\\u002fextra\\u003e\",\"locationmode\":\"USA-states\",\"locations\":[\"MS\",\"KY\",\"WV\"],\"name\":\"Over 40%\",\"showlegend\":true,\"showscale\":false,\"z\":[1,1,1],\"type\":\"choropleth\",\"marker\":{\"line\":{\"color\":\"white\"}}},{\"colorscale\":[[0.0,\"#800080\"],[1.0,\"#800080\"]],\"customdata\":[[\"Louisiana\",39.0,19.5,15.2],[\"South Carolina\",40.0,14.5,14.5],[\"Texas\",40.0,14.2,15.5]],\"geo\":\"geo\",\"hovertemplate\":\"obesity_range=37.1-40%\\u003cbr\\u003eAbbreviation=%{location}\\u003cbr\\u003estate=%{customdata[0]}\\u003cbr\\u003e2020-21=%{customdata[1]}\\u003cbr\\u003epoverty=%{customdata[2]}\\u003cbr\\u003efood_ins_pre=%{customdata[3]}\\u003cextra\\u003e\\u003c\\u002fextra\\u003e\",\"locationmode\":\"USA-states\",\"locations\":[\"LA\",\"SC\",\"TX\"],\"name\":\"37.1-40%\",\"showlegend\":true,\"showscale\":false,\"z\":[1,1,1],\"type\":\"choropleth\",\"marker\":{\"line\":{\"color\":\"white\"}}},{\"colorscale\":[[0.0,\"#be29ec\"],[1.0,\"#be29ec\"]],\"customdata\":[[\"New Mexico\",36.0,17.7,11.2],[\"South Dakota\",37.0,11.9,8.9],[\"Alabama\",37.0,16.3,12.4],[\"California\",35.0,12.3,10.3],[\"Tennessee\",37.0,13.7,11.5],[\"Delaware\",36.0,11.5,11.5],[\"Arkansas\",37.0,16.0,16.6]],\"geo\":\"geo\",\"hovertemplate\":\"obesity_range=34.1-37%\\u003cbr\\u003eAbbreviation=%{location}\\u003cbr\\u003estate=%{customdata[0]}\\u003cbr\\u003e2020-21=%{customdata[1]}\\u003cbr\\u003epoverty=%{customdata[2]}\\u003cbr\\u003efood_ins_pre=%{customdata[3]}\\u003cextra\\u003e\\u003c\\u002fextra\\u003e\",\"locationmode\":\"USA-states\",\"locations\":[\"NM\",\"SD\",\"AL\",\"CA\",\"TN\",\"DE\",\"AR\"],\"name\":\"34.1-37%\",\"showlegend\":true,\"showscale\":false,\"z\":[1,1,1,1,1,1,1],\"type\":\"choropleth\",\"marker\":{\"line\":{\"color\":\"white\"}}},{\"colorscale\":[[0.0,\"#d896ff\"],[1.0,\"#d896ff\"]],\"customdata\":[[\"Rhode Island\",32.0,12.1,8.6],[\"North Carolina\",34.0,13.5,10.7],[\"Georgia\",34.0,14.2,11.3],[\"New York\",32.0,14.0,11.3],[\"Iowa\",34.0,11.0,8.9],[\"Hawaii\",32.0,10.9,9.1],[\"Nevada\",32.0,14.0,11.7],[\"Florida\",33.0,13.2,11.4],[\"Ohio\",34.0,13.3,11.5],[\"Illinois\",32.0,12.1,10.6],[\"Virginia\",34.0,10.3,9.3],[\"Michigan\",34.0,13.0,11.9],[\"Maryland\",32.0,10.3,9.5],[\"Oklahoma\",34.0,15.4,14.3],[\"Connecticut\",34.0,10.1,9.6],[\"Missouri\",34.0,12.8,12.2]],\"geo\":\"geo\",\"hovertemplate\":\"obesity_range=31.1-34%\\u003cbr\\u003eAbbreviation=%{location}\\u003cbr\\u003estate=%{customdata[0]}\\u003cbr\\u003e2020-21=%{customdata[1]}\\u003cbr\\u003epoverty=%{customdata[2]}\\u003cbr\\u003efood_ins_pre=%{customdata[3]}\\u003cextra\\u003e\\u003c\\u002fextra\\u003e\",\"locationmode\":\"USA-states\",\"locations\":[\"RI\",\"NC\",\"GA\",\"NY\",\"IA\",\"HI\",\"NV\",\"FL\",\"OH\",\"IL\",\"VA\",\"MI\",\"MD\",\"OK\",\"CT\",\"MO\"],\"name\":\"31.1-34%\",\"showlegend\":true,\"showscale\":false,\"z\":[1,1,1,1,1,1,1,1,1,1,1,1,1,1,1,1],\"type\":\"choropleth\",\"marker\":{\"line\":{\"color\":\"white\"}}},{\"colorscale\":[[0.0,\"#E0B0FF\"],[1.0,\"#E0B0FF\"]],\"customdata\":[[\"North Dakota\",29.0,10.9,7.7],[\"Vermont\",29.0,10.2,8.0],[\"Arizona\",31.0,12.9,10.2],[\"Kansas\",30.0,11.6,9.6],[\"Pennsylvania\",30.0,12.0,10.1],[\"New Jersey\",29.0,10.2,8.8],[\"Alaska\",31.0,10.8,9.5],[\"Indiana\",30.0,12.1,10.7],[\"Wisconsin\",31.0,10.8,9.6],[\"Maine\",30.0,11.2,10.1],[\"Oregon\",31.0,12.2,11.2],[\"Nebraska\",29.0,10.5,12.1]],\"geo\":\"geo\",\"hovertemplate\":\"obesity_range=28.1-31%\\u003cbr\\u003eAbbreviation=%{location}\\u003cbr\\u003estate=%{customdata[0]}\\u003cbr\\u003e2020-21=%{customdata[1]}\\u003cbr\\u003epoverty=%{customdata[2]}\\u003cbr\\u003efood_ins_pre=%{customdata[3]}\\u003cextra\\u003e\\u003c\\u002fextra\\u003e\",\"locationmode\":\"USA-states\",\"locations\":[\"ND\",\"VT\",\"AZ\",\"KS\",\"PA\",\"NJ\",\"AK\",\"IN\",\"WI\",\"ME\",\"OR\",\"NE\"],\"name\":\"28.1-31%\",\"showlegend\":true,\"showscale\":false,\"z\":[1,1,1,1,1,1,1,1,1,1,1,1],\"type\":\"choropleth\",\"marker\":{\"line\":{\"color\":\"white\"}}},{\"colorscale\":[[0.0,\"#efbbff\"],[1.0,\"#efbbff\"]],\"customdata\":[[\"Minnesota\",26.0,9.3,7.1],[\"Massachusetts\",28.0,10.4,8.5],[\"New Hampshire\",27.0,7.4,6.2],[\"Washington\",28.0,9.9,8.3],[\"Montana\",26.0,12.0,10.1],[\"Idaho\",27.0,10.8,10.5],[\"Utah\",26.0,8.7,10.7]],\"geo\":\"geo\",\"hovertemplate\":\"obesity_range=25.1-28%\\u003cbr\\u003eAbbreviation=%{location}\\u003cbr\\u003estate=%{customdata[0]}\\u003cbr\\u003e2020-21=%{customdata[1]}\\u003cbr\\u003epoverty=%{customdata[2]}\\u003cbr\\u003efood_ins_pre=%{customdata[3]}\\u003cextra\\u003e\\u003c\\u002fextra\\u003e\",\"locationmode\":\"USA-states\",\"locations\":[\"MN\",\"MA\",\"NH\",\"WA\",\"MT\",\"ID\",\"UT\"],\"name\":\"25.1-28%\",\"showlegend\":true,\"showscale\":false,\"z\":[1,1,1,1,1,1,1],\"type\":\"choropleth\",\"marker\":{\"line\":{\"color\":\"white\"}}},{\"colorscale\":[[0.0,\"#E6E6FA\"],[1.0,\"#E6E6FA\"]],\"customdata\":[[\"Colorado\",24.0,9.7,8.9],[\"Wyoming\",24.0,10.6,11.4]],\"geo\":\"geo\",\"hovertemplate\":\"obesity_range=Equal or Below 25%\\u003cbr\\u003eAbbreviation=%{location}\\u003cbr\\u003estate=%{customdata[0]}\\u003cbr\\u003e2020-21=%{customdata[1]}\\u003cbr\\u003epoverty=%{customdata[2]}\\u003cbr\\u003efood_ins_pre=%{customdata[3]}\\u003cextra\\u003e\\u003c\\u002fextra\\u003e\",\"locationmode\":\"USA-states\",\"locations\":[\"CO\",\"WY\"],\"name\":\"Equal or Below 25%\",\"showlegend\":true,\"showscale\":false,\"z\":[1,1],\"type\":\"choropleth\",\"marker\":{\"line\":{\"color\":\"white\"}}},{\"locationmode\":\"USA-states\",\"locations\":[\"NM\",\"ND\",\"RI\",\"SD\",\"AL\",\"MN\",\"LA\",\"VT\",\"AZ\",\"NC\",\"GA\",\"MS\",\"KY\",\"NY\",\"IA\",\"MA\",\"KS\",\"HI\",\"NV\",\"CA\",\"NH\",\"WA\",\"TN\",\"MT\",\"PA\",\"WV\",\"NJ\",\"FL\",\"OH\",\"IL\",\"AK\",\"IN\",\"WI\",\"ME\",\"VA\",\"MI\",\"CO\",\"OR\",\"MD\",\"OK\",\"CT\",\"MO\",\"ID\",\"DE\",\"SC\",\"AR\",\"WY\",\"TX\",\"NE\",\"UT\"],\"mode\":\"text\",\"showlegend\":false,\"text\":[\"NM\",\"ND\",\"RI\",\"SD\",\"AL\",\"MN\",\"LA\",\"VT\",\"AZ\",\"NC\",\"GA\",\"MS\",\"KY\",\"NY\",\"IA\",\"MA\",\"KS\",\"HI\",\"NV\",\"CA\",\"NH\",\"WA\",\"TN\",\"MT\",\"PA\",\"WV\",\"NJ\",\"FL\",\"OH\",\"IL\",\"AK\",\"IN\",\"WI\",\"ME\",\"VA\",\"MI\",\"CO\",\"OR\",\"MD\",\"OK\",\"CT\",\"MO\",\"ID\",\"DE\",\"SC\",\"AR\",\"WY\",\"TX\",\"NE\",\"UT\"],\"textfont\":{\"color\":[\"black\",\"black\",\"black\",\"black\",\"black\",\"black\",\"white\",\"black\",\"black\",\"black\",\"black\",\"white\",\"white\",\"black\",\"black\",\"black\",\"black\",\"black\",\"black\",\"black\",\"black\",\"black\",\"black\",\"black\",\"black\",\"white\",\"black\",\"black\",\"black\",\"black\",\"black\",\"black\",\"black\",\"black\",\"black\",\"black\",\"black\",\"black\",\"black\",\"black\",\"black\",\"black\",\"black\",\"black\",\"white\",\"black\",\"black\",\"white\",\"black\",\"black\"]},\"textposition\":\"bottom right\",\"type\":\"scattergeo\",\"marker\":{\"line\":{\"color\":\"white\"}}}],                        {\"template\":{\"data\":{\"histogram2dcontour\":[{\"type\":\"histogram2dcontour\",\"colorbar\":{\"outlinewidth\":0,\"ticks\":\"\"},\"colorscale\":[[0.0,\"#0d0887\"],[0.1111111111111111,\"#46039f\"],[0.2222222222222222,\"#7201a8\"],[0.3333333333333333,\"#9c179e\"],[0.4444444444444444,\"#bd3786\"],[0.5555555555555556,\"#d8576b\"],[0.6666666666666666,\"#ed7953\"],[0.7777777777777778,\"#fb9f3a\"],[0.8888888888888888,\"#fdca26\"],[1.0,\"#f0f921\"]]}],\"choropleth\":[{\"type\":\"choropleth\",\"colorbar\":{\"outlinewidth\":0,\"ticks\":\"\"}}],\"histogram2d\":[{\"type\":\"histogram2d\",\"colorbar\":{\"outlinewidth\":0,\"ticks\":\"\"},\"colorscale\":[[0.0,\"#0d0887\"],[0.1111111111111111,\"#46039f\"],[0.2222222222222222,\"#7201a8\"],[0.3333333333333333,\"#9c179e\"],[0.4444444444444444,\"#bd3786\"],[0.5555555555555556,\"#d8576b\"],[0.6666666666666666,\"#ed7953\"],[0.7777777777777778,\"#fb9f3a\"],[0.8888888888888888,\"#fdca26\"],[1.0,\"#f0f921\"]]}],\"heatmap\":[{\"type\":\"heatmap\",\"colorbar\":{\"outlinewidth\":0,\"ticks\":\"\"},\"colorscale\":[[0.0,\"#0d0887\"],[0.1111111111111111,\"#46039f\"],[0.2222222222222222,\"#7201a8\"],[0.3333333333333333,\"#9c179e\"],[0.4444444444444444,\"#bd3786\"],[0.5555555555555556,\"#d8576b\"],[0.6666666666666666,\"#ed7953\"],[0.7777777777777778,\"#fb9f3a\"],[0.8888888888888888,\"#fdca26\"],[1.0,\"#f0f921\"]]}],\"heatmapgl\":[{\"type\":\"heatmapgl\",\"colorbar\":{\"outlinewidth\":0,\"ticks\":\"\"},\"colorscale\":[[0.0,\"#0d0887\"],[0.1111111111111111,\"#46039f\"],[0.2222222222222222,\"#7201a8\"],[0.3333333333333333,\"#9c179e\"],[0.4444444444444444,\"#bd3786\"],[0.5555555555555556,\"#d8576b\"],[0.6666666666666666,\"#ed7953\"],[0.7777777777777778,\"#fb9f3a\"],[0.8888888888888888,\"#fdca26\"],[1.0,\"#f0f921\"]]}],\"contourcarpet\":[{\"type\":\"contourcarpet\",\"colorbar\":{\"outlinewidth\":0,\"ticks\":\"\"}}],\"contour\":[{\"type\":\"contour\",\"colorbar\":{\"outlinewidth\":0,\"ticks\":\"\"},\"colorscale\":[[0.0,\"#0d0887\"],[0.1111111111111111,\"#46039f\"],[0.2222222222222222,\"#7201a8\"],[0.3333333333333333,\"#9c179e\"],[0.4444444444444444,\"#bd3786\"],[0.5555555555555556,\"#d8576b\"],[0.6666666666666666,\"#ed7953\"],[0.7777777777777778,\"#fb9f3a\"],[0.8888888888888888,\"#fdca26\"],[1.0,\"#f0f921\"]]}],\"surface\":[{\"type\":\"surface\",\"colorbar\":{\"outlinewidth\":0,\"ticks\":\"\"},\"colorscale\":[[0.0,\"#0d0887\"],[0.1111111111111111,\"#46039f\"],[0.2222222222222222,\"#7201a8\"],[0.3333333333333333,\"#9c179e\"],[0.4444444444444444,\"#bd3786\"],[0.5555555555555556,\"#d8576b\"],[0.6666666666666666,\"#ed7953\"],[0.7777777777777778,\"#fb9f3a\"],[0.8888888888888888,\"#fdca26\"],[1.0,\"#f0f921\"]]}],\"mesh3d\":[{\"type\":\"mesh3d\",\"colorbar\":{\"outlinewidth\":0,\"ticks\":\"\"}}],\"scatter\":[{\"fillpattern\":{\"fillmode\":\"overlay\",\"size\":10,\"solidity\":0.2},\"type\":\"scatter\"}],\"parcoords\":[{\"type\":\"parcoords\",\"line\":{\"colorbar\":{\"outlinewidth\":0,\"ticks\":\"\"}}}],\"scatterpolargl\":[{\"type\":\"scatterpolargl\",\"marker\":{\"colorbar\":{\"outlinewidth\":0,\"ticks\":\"\"}}}],\"bar\":[{\"error_x\":{\"color\":\"#2a3f5f\"},\"error_y\":{\"color\":\"#2a3f5f\"},\"marker\":{\"line\":{\"color\":\"#E5ECF6\",\"width\":0.5},\"pattern\":{\"fillmode\":\"overlay\",\"size\":10,\"solidity\":0.2}},\"type\":\"bar\"}],\"scattergeo\":[{\"type\":\"scattergeo\",\"marker\":{\"colorbar\":{\"outlinewidth\":0,\"ticks\":\"\"}}}],\"scatterpolar\":[{\"type\":\"scatterpolar\",\"marker\":{\"colorbar\":{\"outlinewidth\":0,\"ticks\":\"\"}}}],\"histogram\":[{\"marker\":{\"pattern\":{\"fillmode\":\"overlay\",\"size\":10,\"solidity\":0.2}},\"type\":\"histogram\"}],\"scattergl\":[{\"type\":\"scattergl\",\"marker\":{\"colorbar\":{\"outlinewidth\":0,\"ticks\":\"\"}}}],\"scatter3d\":[{\"type\":\"scatter3d\",\"line\":{\"colorbar\":{\"outlinewidth\":0,\"ticks\":\"\"}},\"marker\":{\"colorbar\":{\"outlinewidth\":0,\"ticks\":\"\"}}}],\"scattermapbox\":[{\"type\":\"scattermapbox\",\"marker\":{\"colorbar\":{\"outlinewidth\":0,\"ticks\":\"\"}}}],\"scatterternary\":[{\"type\":\"scatterternary\",\"marker\":{\"colorbar\":{\"outlinewidth\":0,\"ticks\":\"\"}}}],\"scattercarpet\":[{\"type\":\"scattercarpet\",\"marker\":{\"colorbar\":{\"outlinewidth\":0,\"ticks\":\"\"}}}],\"carpet\":[{\"aaxis\":{\"endlinecolor\":\"#2a3f5f\",\"gridcolor\":\"white\",\"linecolor\":\"white\",\"minorgridcolor\":\"white\",\"startlinecolor\":\"#2a3f5f\"},\"baxis\":{\"endlinecolor\":\"#2a3f5f\",\"gridcolor\":\"white\",\"linecolor\":\"white\",\"minorgridcolor\":\"white\",\"startlinecolor\":\"#2a3f5f\"},\"type\":\"carpet\"}],\"table\":[{\"cells\":{\"fill\":{\"color\":\"#EBF0F8\"},\"line\":{\"color\":\"white\"}},\"header\":{\"fill\":{\"color\":\"#C8D4E3\"},\"line\":{\"color\":\"white\"}},\"type\":\"table\"}],\"barpolar\":[{\"marker\":{\"line\":{\"color\":\"#E5ECF6\",\"width\":0.5},\"pattern\":{\"fillmode\":\"overlay\",\"size\":10,\"solidity\":0.2}},\"type\":\"barpolar\"}],\"pie\":[{\"automargin\":true,\"type\":\"pie\"}]},\"layout\":{\"autotypenumbers\":\"strict\",\"colorway\":[\"#636efa\",\"#EF553B\",\"#00cc96\",\"#ab63fa\",\"#FFA15A\",\"#19d3f3\",\"#FF6692\",\"#B6E880\",\"#FF97FF\",\"#FECB52\"],\"font\":{\"color\":\"#2a3f5f\"},\"hovermode\":\"closest\",\"hoverlabel\":{\"align\":\"left\"},\"paper_bgcolor\":\"white\",\"plot_bgcolor\":\"#E5ECF6\",\"polar\":{\"bgcolor\":\"#E5ECF6\",\"angularaxis\":{\"gridcolor\":\"white\",\"linecolor\":\"white\",\"ticks\":\"\"},\"radialaxis\":{\"gridcolor\":\"white\",\"linecolor\":\"white\",\"ticks\":\"\"}},\"ternary\":{\"bgcolor\":\"#E5ECF6\",\"aaxis\":{\"gridcolor\":\"white\",\"linecolor\":\"white\",\"ticks\":\"\"},\"baxis\":{\"gridcolor\":\"white\",\"linecolor\":\"white\",\"ticks\":\"\"},\"caxis\":{\"gridcolor\":\"white\",\"linecolor\":\"white\",\"ticks\":\"\"}},\"coloraxis\":{\"colorbar\":{\"outlinewidth\":0,\"ticks\":\"\"}},\"colorscale\":{\"sequential\":[[0.0,\"#0d0887\"],[0.1111111111111111,\"#46039f\"],[0.2222222222222222,\"#7201a8\"],[0.3333333333333333,\"#9c179e\"],[0.4444444444444444,\"#bd3786\"],[0.5555555555555556,\"#d8576b\"],[0.6666666666666666,\"#ed7953\"],[0.7777777777777778,\"#fb9f3a\"],[0.8888888888888888,\"#fdca26\"],[1.0,\"#f0f921\"]],\"sequentialminus\":[[0.0,\"#0d0887\"],[0.1111111111111111,\"#46039f\"],[0.2222222222222222,\"#7201a8\"],[0.3333333333333333,\"#9c179e\"],[0.4444444444444444,\"#bd3786\"],[0.5555555555555556,\"#d8576b\"],[0.6666666666666666,\"#ed7953\"],[0.7777777777777778,\"#fb9f3a\"],[0.8888888888888888,\"#fdca26\"],[1.0,\"#f0f921\"]],\"diverging\":[[0,\"#8e0152\"],[0.1,\"#c51b7d\"],[0.2,\"#de77ae\"],[0.3,\"#f1b6da\"],[0.4,\"#fde0ef\"],[0.5,\"#f7f7f7\"],[0.6,\"#e6f5d0\"],[0.7,\"#b8e186\"],[0.8,\"#7fbc41\"],[0.9,\"#4d9221\"],[1,\"#276419\"]]},\"xaxis\":{\"gridcolor\":\"white\",\"linecolor\":\"white\",\"ticks\":\"\",\"title\":{\"standoff\":15},\"zerolinecolor\":\"white\",\"automargin\":true,\"zerolinewidth\":2},\"yaxis\":{\"gridcolor\":\"white\",\"linecolor\":\"white\",\"ticks\":\"\",\"title\":{\"standoff\":15},\"zerolinecolor\":\"white\",\"automargin\":true,\"zerolinewidth\":2},\"scene\":{\"xaxis\":{\"backgroundcolor\":\"#E5ECF6\",\"gridcolor\":\"white\",\"linecolor\":\"white\",\"showbackground\":true,\"ticks\":\"\",\"zerolinecolor\":\"white\",\"gridwidth\":2},\"yaxis\":{\"backgroundcolor\":\"#E5ECF6\",\"gridcolor\":\"white\",\"linecolor\":\"white\",\"showbackground\":true,\"ticks\":\"\",\"zerolinecolor\":\"white\",\"gridwidth\":2},\"zaxis\":{\"backgroundcolor\":\"#E5ECF6\",\"gridcolor\":\"white\",\"linecolor\":\"white\",\"showbackground\":true,\"ticks\":\"\",\"zerolinecolor\":\"white\",\"gridwidth\":2}},\"shapedefaults\":{\"line\":{\"color\":\"#2a3f5f\"}},\"annotationdefaults\":{\"arrowcolor\":\"#2a3f5f\",\"arrowhead\":0,\"arrowwidth\":1},\"geo\":{\"bgcolor\":\"white\",\"landcolor\":\"#E5ECF6\",\"subunitcolor\":\"white\",\"showland\":true,\"showlakes\":true,\"lakecolor\":\"white\"},\"title\":{\"x\":0.05},\"mapbox\":{\"style\":\"light\"}}},\"geo\":{\"domain\":{\"x\":[0.0,1.0],\"y\":[0.0,1.0]},\"center\":{},\"scope\":\"usa\"},\"legend\":{\"title\":{\"text\":\"Obesity\"},\"tracegroupgap\":0,\"font\":{\"size\":18},\"x\":0.9,\"y\":0.7},\"margin\":{\"t\":60},\"font\":{\"family\":\"Times New Roman\"},\"title\":{\"font\":{\"family\":\"Times New Roman\",\"color\":\"black\",\"size\":34},\"pad\":{\"b\":0},\"text\":\"Children and Teenage Obesity By State (Ages 10-17)\",\"xanchor\":\"center\",\"x\":0.45,\"yref\":\"paper\",\"yanchor\":\"bottom\",\"y\":0.95},\"height\":1000,\"width\":1600,\"annotations\":[{\"font\":{\"color\":\"crimson\",\"family\":\"Helvetica\",\"size\":24},\"showarrow\":false,\"text\":\"Mississippi, Kentucky, and West Virginia Have the Highest Rates of Child and Teen Obesity\",\"x\":0.5,\"y\":0.945}]},                        {\"responsive\": true}                    ).then(function(){\n",
              "                            \n",
              "var gd = document.getElementById('21ec55df-3e87-495f-ab63-9ce275206bc8');\n",
              "var x = new MutationObserver(function (mutations, observer) {{\n",
              "        var display = window.getComputedStyle(gd).display;\n",
              "        if (!display || display === 'none') {{\n",
              "            console.log([gd, 'removed!']);\n",
              "            Plotly.purge(gd);\n",
              "            observer.disconnect();\n",
              "        }}\n",
              "}});\n",
              "\n",
              "// Listen for the removal of the full notebook cells\n",
              "var notebookContainer = gd.closest('#notebook-container');\n",
              "if (notebookContainer) {{\n",
              "    x.observe(notebookContainer, {childList: true});\n",
              "}}\n",
              "\n",
              "// Listen for the clearing of the current output cell\n",
              "var outputEl = gd.closest('.output');\n",
              "if (outputEl) {{\n",
              "    x.observe(outputEl, {childList: true});\n",
              "}}\n",
              "\n",
              "                        })                };                            </script>        </div>\n",
              "</body>\n",
              "</html>"
            ]
          },
          "metadata": {}
        },
        {
          "output_type": "display_data",
          "data": {
            "text/plain": [
              "<IPython.core.display.Javascript object>"
            ],
            "application/javascript": [
              "\n",
              "    async function download(id, filename, size) {\n",
              "      if (!google.colab.kernel.accessAllowed) {\n",
              "        return;\n",
              "      }\n",
              "      const div = document.createElement('div');\n",
              "      const label = document.createElement('label');\n",
              "      label.textContent = `Downloading \"${filename}\": `;\n",
              "      div.appendChild(label);\n",
              "      const progress = document.createElement('progress');\n",
              "      progress.max = size;\n",
              "      div.appendChild(progress);\n",
              "      document.body.appendChild(div);\n",
              "\n",
              "      const buffers = [];\n",
              "      let downloaded = 0;\n",
              "\n",
              "      const channel = await google.colab.kernel.comms.open(id);\n",
              "      // Send a message to notify the kernel that we're ready.\n",
              "      channel.send({})\n",
              "\n",
              "      for await (const message of channel.messages) {\n",
              "        // Send a message to notify the kernel that we're ready.\n",
              "        channel.send({})\n",
              "        if (message.buffers) {\n",
              "          for (const buffer of message.buffers) {\n",
              "            buffers.push(buffer);\n",
              "            downloaded += buffer.byteLength;\n",
              "            progress.value = downloaded;\n",
              "          }\n",
              "        }\n",
              "      }\n",
              "      const blob = new Blob(buffers, {type: 'application/binary'});\n",
              "      const a = document.createElement('a');\n",
              "      a.href = window.URL.createObjectURL(blob);\n",
              "      a.download = filename;\n",
              "      div.appendChild(a);\n",
              "      a.click();\n",
              "      div.remove();\n",
              "    }\n",
              "  "
            ]
          },
          "metadata": {}
        },
        {
          "output_type": "display_data",
          "data": {
            "text/plain": [
              "<IPython.core.display.Javascript object>"
            ],
            "application/javascript": [
              "download(\"download_04a60d9d-3d5b-4772-a3b1-07e3efdd804d\", \"Children and Teenage Obesity By State (Ages 10-17).png\", 209964)"
            ]
          },
          "metadata": {}
        }
      ]
    },
    {
      "cell_type": "code",
      "source": [
        "adult_obese = pd.read_csv('https://raw.githubusercontent.com/Umerfarooq122/What-Is-The-State-of-Food-Security-and-Nutrition-in-the-US/main/2022-overall-prevalence%20(1).csv')"
      ],
      "metadata": {
        "id": "bgkiZNEZW7zq"
      },
      "execution_count": 31,
      "outputs": []
    },
    {
      "cell_type": "code",
      "source": [
        "conditions_i = [\n",
        "    (adult_obese['Prevalence'] >= 40 )& (adult_obese['Prevalence']<=50),\n",
        "    (adult_obese['Prevalence'] > 37) & (adult_obese['Prevalence'] <= 39.9),\n",
        "    (adult_obese['Prevalence'] > 34) & (adult_obese['Prevalence'] <= 37),\n",
        "    (adult_obese['Prevalence'] > 31 ) & (adult_obese['Prevalence'] <= 34),\n",
        "    (adult_obese['Prevalence'] > 28) & (adult_obese['Prevalence'] <= 31),\n",
        "    (adult_obese['Prevalence'] > 25) & (adult_obese['Prevalence'] <= 28),\n",
        "    (adult_obese['Prevalence'] > 0 ) & (adult_obese['Prevalence'] <= 25)\n",
        "    ]\n",
        "\n",
        "values_i = ['Equal or Over 40%', '37.1-40%', '34.1-37%','31.1-34%','28.1-31%' ,'25.1-28%','Equal or Below 25%']\n",
        "adult_obese['a_obesity_range'] = np.select(conditions_i, values_i)"
      ],
      "metadata": {
        "id": "uWcG3kLrXHOJ"
      },
      "execution_count": 32,
      "outputs": []
    },
    {
      "cell_type": "code",
      "source": [
        "event_dictionary = {'Equal or Over 40%':'crimson', '37.1-40%':'#800080', '34.1-37%':'#be29ec',\n",
        "                                        '31.1-34%':'#d896ff','28.1-31%':'#E0B0FF','25.1-28%':'#efbbff',\n",
        "                                        'Equal or Below 25%':'#E6E6FA'}\n",
        "\n",
        "adult_obese['background_colora'] = adult_obese['a_obesity_range'].apply(set_value, args =(event_dictionary, ))\n",
        "adult_obese['background_colora'] = adult_obese['background_colora'].apply(lambda x: mcolors.to_hex(x))"
      ],
      "metadata": {
        "id": "0GalwsxgZNMX"
      },
      "execution_count": 33,
      "outputs": []
    },
    {
      "cell_type": "code",
      "source": [
        "final = final.merge(adult_obese, how='left',left_on=\"states\", right_on='State')"
      ],
      "metadata": {
        "id": "tzPTgszBZc43"
      },
      "execution_count": 34,
      "outputs": []
    },
    {
      "cell_type": "code",
      "source": [
        "legend_order = ['Equal or Over 40%', '37.1-40%', '34.1-37%','31.1-34%','28.1-31%' ,'25.1-28%','Equal or Below 25%']\n",
        "\n",
        "fig = px.choropleth(final, locations = 'Abbreviation',\n",
        "                    color = 'a_obesity_range',\n",
        "                    locationmode = 'USA-states',category_orders= {'a_obesity_range': legend_order},\n",
        "                    color_discrete_map={'Equal or Over 40%':'crimson', '37.1-40%':'#800080', '34.1-37%':'#be29ec',\n",
        "                                        '31.1-34%':'#d896ff','28.1-31%':'#E0B0FF','25.1-28%':'#efbbff',\n",
        "                                        'Equal or Below 25%':'#E6E6FA'},\n",
        "                    hover_data=[\"state\",\"2020-21\", \"poverty\", \"food_ins_pre\"])\n",
        "def calculate_luminance(hex_color):\n",
        "    try:\n",
        "        # Strip the '#' symbol if present and convert to lowercase\n",
        "        hex_color = hex_color.lstrip('#').lower()\n",
        "\n",
        "        # Make sure the remaining string is a valid hex color code\n",
        "        if len(hex_color) == 6:\n",
        "            rgb_color = tuple(int(hex_color[i:i + 2], 16) for i in (0, 2, 4))\n",
        "            r, g, b = [x / 255.0 for x in rgb_color]\n",
        "            h, s, v = colorsys.rgb_to_hsv(r, g, b)\n",
        "            return v\n",
        "        else:\n",
        "            # Handle invalid hex color codes\n",
        "            return None\n",
        "    except ValueError:\n",
        "        # Handle errors during conversion\n",
        "        return None\n",
        "\n",
        "fig.add_scattergeo(\n",
        "    locations=final['Abbreviation'],\n",
        "    locationmode=\"USA-states\",\n",
        "    text=final['Abbreviation'],\n",
        "    mode='text', textfont_color=[ 'white' if calculate_luminance(bg_color) < 0.9 else 'black' for bg_color in final['background_colora']],\n",
        "    textposition='bottom right',\n",
        "    showlegend = False\n",
        ")\n",
        "\n",
        "fig.update_layout(\n",
        "                  geo_scope = 'usa',font_family=\"Times New Roman\",\n",
        "                  title_font_family=\"Times New Roman\",\n",
        "                  title_font_color=\"black\",\n",
        "\n",
        "                  height=1000,\n",
        "                  width=1600 ,legend=dict(title=dict(text='Obesity in Adults'), x= .9,y=.7, font_size = 18),\n",
        "                  title=dict(\n",
        "                      text=\"Adult Obesity By State\",\n",
        "                      xanchor='center',\n",
        "                      x=0.45,\n",
        "                      yref='paper',\n",
        "                      yanchor='bottom',\n",
        "                      y=.95,\n",
        "                      pad={'b': 0},\n",
        "                      font_size = 34)\n",
        "\n",
        "    )\n",
        "fig.update_traces(marker_line_color='white')\n",
        "fig.add_annotation(text=\"Oklahoma, Louisiana, and West Virginia Have the Highest Rates of Adult Obesity\",\n",
        "                   x=.5,y=.945,\n",
        "                   showarrow=False, font_size = 24 ,\n",
        "                   font_color = 'crimson',\n",
        "                   font_family = 'Helvetica')\n",
        "\n",
        "fig.show()\n",
        "fig.write_image(\"Adult Obesity By State.png\")\n",
        "files.download('Adult Obesity By State.png')"
      ],
      "metadata": {
        "colab": {
          "base_uri": "https://localhost:8080/",
          "height": 1000
        },
        "id": "IUWdnfBZa2Le",
        "outputId": "63e4a938-e92f-4c11-8e1b-d08aaa273dd1"
      },
      "execution_count": 35,
      "outputs": [
        {
          "output_type": "display_data",
          "data": {
            "text/html": [
              "<html>\n",
              "<head><meta charset=\"utf-8\" /></head>\n",
              "<body>\n",
              "    <div>            <script src=\"https://cdnjs.cloudflare.com/ajax/libs/mathjax/2.7.5/MathJax.js?config=TeX-AMS-MML_SVG\"></script><script type=\"text/javascript\">if (window.MathJax && window.MathJax.Hub && window.MathJax.Hub.Config) {window.MathJax.Hub.Config({SVG: {font: \"STIX-Web\"}});}</script>                <script type=\"text/javascript\">window.PlotlyConfig = {MathJaxConfig: 'local'};</script>\n",
              "        <script charset=\"utf-8\" src=\"https://cdn.plot.ly/plotly-2.27.0.min.js\"></script>                <div id=\"34699526-c358-46bc-9739-99db37312481\" class=\"plotly-graph-div\" style=\"height:1000px; width:1600px;\"></div>            <script type=\"text/javascript\">                                    window.PLOTLYENV=window.PLOTLYENV || {};                                    if (document.getElementById(\"34699526-c358-46bc-9739-99db37312481\")) {                    Plotly.newPlot(                        \"34699526-c358-46bc-9739-99db37312481\",                        [{\"colorscale\":[[0.0,\"crimson\"],[1.0,\"crimson\"]],\"customdata\":[[\"Louisiana\",39.0,19.5,15.2],[\"West Virginia\",41.0,16.8,14.2],[\"Oklahoma\",34.0,15.4,14.3]],\"geo\":\"geo\",\"hovertemplate\":\"a_obesity_range=Equal or Over 40%\\u003cbr\\u003eAbbreviation=%{location}\\u003cbr\\u003estate=%{customdata[0]}\\u003cbr\\u003e2020-21=%{customdata[1]}\\u003cbr\\u003epoverty=%{customdata[2]}\\u003cbr\\u003efood_ins_pre=%{customdata[3]}\\u003cextra\\u003e\\u003c\\u002fextra\\u003e\",\"locationmode\":\"USA-states\",\"locations\":[\"LA\",\"WV\",\"OK\"],\"name\":\"Equal or Over 40%\",\"showlegend\":true,\"showscale\":false,\"z\":[1,1,1],\"type\":\"choropleth\",\"marker\":{\"line\":{\"color\":\"white\"}}},{\"colorscale\":[[0.0,\"#800080\"],[1.0,\"#800080\"]],\"customdata\":[[\"Alabama\",37.0,16.3,12.4],[\"Mississippi\",41.0,19.2,15.3],[\"Kentucky\",41.0,16.3,13.1],[\"Iowa\",34.0,11.0,8.9],[\"Tennessee\",37.0,13.7,11.5],[\"Ohio\",34.0,13.3,11.5],[\"Indiana\",30.0,12.1,10.7],[\"Wisconsin\",31.0,10.8,9.6],[\"Delaware\",36.0,11.5,11.5],[\"Arkansas\",37.0,16.0,16.6]],\"geo\":\"geo\",\"hovertemplate\":\"a_obesity_range=37.1-40%\\u003cbr\\u003eAbbreviation=%{location}\\u003cbr\\u003estate=%{customdata[0]}\\u003cbr\\u003e2020-21=%{customdata[1]}\\u003cbr\\u003epoverty=%{customdata[2]}\\u003cbr\\u003efood_ins_pre=%{customdata[3]}\\u003cextra\\u003e\\u003c\\u002fextra\\u003e\",\"locationmode\":\"USA-states\",\"locations\":[\"AL\",\"MS\",\"KY\",\"IA\",\"TN\",\"OH\",\"IN\",\"WI\",\"DE\",\"AR\"],\"name\":\"37.1-40%\",\"showlegend\":true,\"showscale\":false,\"z\":[1,1,1,1,1,1,1,1,1,1],\"type\":\"choropleth\",\"marker\":{\"line\":{\"color\":\"white\"}}},{\"colorscale\":[[0.0,\"#be29ec\"],[1.0,\"#be29ec\"]],\"customdata\":[[\"North Dakota\",29.0,10.9,7.7],[\"South Dakota\",37.0,11.9,8.9],[\"North Carolina\",34.0,13.5,10.7],[\"Georgia\",34.0,14.2,11.3],[\"Kansas\",30.0,11.6,9.6],[\"Virginia\",34.0,10.3,9.3],[\"Michigan\",34.0,13.0,11.9],[\"Missouri\",34.0,12.8,12.2],[\"South Carolina\",40.0,14.5,14.5],[\"Wyoming\",24.0,10.6,11.4],[\"Texas\",40.0,14.2,15.5],[\"Nebraska\",29.0,10.5,12.1]],\"geo\":\"geo\",\"hovertemplate\":\"a_obesity_range=34.1-37%\\u003cbr\\u003eAbbreviation=%{location}\\u003cbr\\u003estate=%{customdata[0]}\\u003cbr\\u003e2020-21=%{customdata[1]}\\u003cbr\\u003epoverty=%{customdata[2]}\\u003cbr\\u003efood_ins_pre=%{customdata[3]}\\u003cextra\\u003e\\u003c\\u002fextra\\u003e\",\"locationmode\":\"USA-states\",\"locations\":[\"ND\",\"SD\",\"NC\",\"GA\",\"KS\",\"VA\",\"MI\",\"MO\",\"SC\",\"WY\",\"TX\",\"NE\"],\"name\":\"34.1-37%\",\"showlegend\":true,\"showscale\":false,\"z\":[1,1,1,1,1,1,1,1,1,1,1,1],\"type\":\"choropleth\",\"marker\":{\"line\":{\"color\":\"white\"}}},{\"colorscale\":[[0.0,\"#d896ff\"],[1.0,\"#d896ff\"]],\"customdata\":[[\"New Mexico\",36.0,17.7,11.2],[\"Minnesota\",26.0,9.3,7.1],[\"Arizona\",31.0,12.9,10.2],[\"Nevada\",32.0,14.0,11.7],[\"Washington\",28.0,9.9,8.3],[\"Pennsylvania\",30.0,12.0,10.1],[\"Florida\",33.0,13.2,11.4],[\"Illinois\",32.0,12.1,10.6],[\"Alaska\",31.0,10.8,9.5],[\"Maine\",30.0,11.2,10.1],[\"Maryland\",32.0,10.3,9.5],[\"Idaho\",27.0,10.8,10.5],[\"Utah\",26.0,8.7,10.7]],\"geo\":\"geo\",\"hovertemplate\":\"a_obesity_range=31.1-34%\\u003cbr\\u003eAbbreviation=%{location}\\u003cbr\\u003estate=%{customdata[0]}\\u003cbr\\u003e2020-21=%{customdata[1]}\\u003cbr\\u003epoverty=%{customdata[2]}\\u003cbr\\u003efood_ins_pre=%{customdata[3]}\\u003cextra\\u003e\\u003c\\u002fextra\\u003e\",\"locationmode\":\"USA-states\",\"locations\":[\"NM\",\"MN\",\"AZ\",\"NV\",\"WA\",\"PA\",\"FL\",\"IL\",\"AK\",\"ME\",\"MD\",\"ID\",\"UT\"],\"name\":\"31.1-34%\",\"showlegend\":true,\"showscale\":false,\"z\":[1,1,1,1,1,1,1,1,1,1,1,1,1],\"type\":\"choropleth\",\"marker\":{\"line\":{\"color\":\"white\"}}},{\"colorscale\":[[0.0,\"#E0B0FF\"],[1.0,\"#E0B0FF\"]],\"customdata\":[[\"Rhode Island\",32.0,12.1,8.6],[\"New York\",32.0,14.0,11.3],[\"California\",35.0,12.3,10.3],[\"New Hampshire\",27.0,7.4,6.2],[\"Montana\",26.0,12.0,10.1],[\"New Jersey\",29.0,10.2,8.8],[\"Oregon\",31.0,12.2,11.2],[\"Connecticut\",34.0,10.1,9.6]],\"geo\":\"geo\",\"hovertemplate\":\"a_obesity_range=28.1-31%\\u003cbr\\u003eAbbreviation=%{location}\\u003cbr\\u003estate=%{customdata[0]}\\u003cbr\\u003e2020-21=%{customdata[1]}\\u003cbr\\u003epoverty=%{customdata[2]}\\u003cbr\\u003efood_ins_pre=%{customdata[3]}\\u003cextra\\u003e\\u003c\\u002fextra\\u003e\",\"locationmode\":\"USA-states\",\"locations\":[\"RI\",\"NY\",\"CA\",\"NH\",\"MT\",\"NJ\",\"OR\",\"CT\"],\"name\":\"28.1-31%\",\"showlegend\":true,\"showscale\":false,\"z\":[1,1,1,1,1,1,1,1],\"type\":\"choropleth\",\"marker\":{\"line\":{\"color\":\"white\"}}},{\"colorscale\":[[0.0,\"#efbbff\"],[1.0,\"#efbbff\"]],\"customdata\":[[\"Vermont\",29.0,10.2,8.0],[\"Massachusetts\",28.0,10.4,8.5],[\"Hawaii\",32.0,10.9,9.1]],\"geo\":\"geo\",\"hovertemplate\":\"a_obesity_range=25.1-28%\\u003cbr\\u003eAbbreviation=%{location}\\u003cbr\\u003estate=%{customdata[0]}\\u003cbr\\u003e2020-21=%{customdata[1]}\\u003cbr\\u003epoverty=%{customdata[2]}\\u003cbr\\u003efood_ins_pre=%{customdata[3]}\\u003cextra\\u003e\\u003c\\u002fextra\\u003e\",\"locationmode\":\"USA-states\",\"locations\":[\"VT\",\"MA\",\"HI\"],\"name\":\"25.1-28%\",\"showlegend\":true,\"showscale\":false,\"z\":[1,1,1],\"type\":\"choropleth\",\"marker\":{\"line\":{\"color\":\"white\"}}},{\"colorscale\":[[0.0,\"#E6E6FA\"],[1.0,\"#E6E6FA\"]],\"customdata\":[[\"Colorado\",24.0,9.7,8.9]],\"geo\":\"geo\",\"hovertemplate\":\"a_obesity_range=Equal or Below 25%\\u003cbr\\u003eAbbreviation=%{location}\\u003cbr\\u003estate=%{customdata[0]}\\u003cbr\\u003e2020-21=%{customdata[1]}\\u003cbr\\u003epoverty=%{customdata[2]}\\u003cbr\\u003efood_ins_pre=%{customdata[3]}\\u003cextra\\u003e\\u003c\\u002fextra\\u003e\",\"locationmode\":\"USA-states\",\"locations\":[\"CO\"],\"name\":\"Equal or Below 25%\",\"showlegend\":true,\"showscale\":false,\"z\":[1],\"type\":\"choropleth\",\"marker\":{\"line\":{\"color\":\"white\"}}},{\"locationmode\":\"USA-states\",\"locations\":[\"NM\",\"ND\",\"RI\",\"SD\",\"AL\",\"MN\",\"LA\",\"VT\",\"AZ\",\"NC\",\"GA\",\"MS\",\"KY\",\"NY\",\"IA\",\"MA\",\"KS\",\"HI\",\"NV\",\"CA\",\"NH\",\"WA\",\"TN\",\"MT\",\"PA\",\"WV\",\"NJ\",\"FL\",\"OH\",\"IL\",\"AK\",\"IN\",\"WI\",\"ME\",\"VA\",\"MI\",\"CO\",\"OR\",\"MD\",\"OK\",\"CT\",\"MO\",\"ID\",\"DE\",\"SC\",\"AR\",\"WY\",\"TX\",\"NE\",\"UT\"],\"mode\":\"text\",\"showlegend\":false,\"text\":[\"NM\",\"ND\",\"RI\",\"SD\",\"AL\",\"MN\",\"LA\",\"VT\",\"AZ\",\"NC\",\"GA\",\"MS\",\"KY\",\"NY\",\"IA\",\"MA\",\"KS\",\"HI\",\"NV\",\"CA\",\"NH\",\"WA\",\"TN\",\"MT\",\"PA\",\"WV\",\"NJ\",\"FL\",\"OH\",\"IL\",\"AK\",\"IN\",\"WI\",\"ME\",\"VA\",\"MI\",\"CO\",\"OR\",\"MD\",\"OK\",\"CT\",\"MO\",\"ID\",\"DE\",\"SC\",\"AR\",\"WY\",\"TX\",\"NE\",\"UT\"],\"textfont\":{\"color\":[\"black\",\"black\",\"black\",\"black\",\"white\",\"black\",\"white\",\"black\",\"black\",\"black\",\"black\",\"white\",\"white\",\"black\",\"white\",\"black\",\"black\",\"black\",\"black\",\"black\",\"black\",\"black\",\"white\",\"black\",\"black\",\"white\",\"black\",\"black\",\"white\",\"black\",\"black\",\"white\",\"white\",\"black\",\"black\",\"black\",\"black\",\"black\",\"black\",\"white\",\"black\",\"black\",\"black\",\"white\",\"black\",\"white\",\"black\",\"black\",\"black\",\"black\"]},\"textposition\":\"bottom right\",\"type\":\"scattergeo\",\"marker\":{\"line\":{\"color\":\"white\"}}}],                        {\"template\":{\"data\":{\"histogram2dcontour\":[{\"type\":\"histogram2dcontour\",\"colorbar\":{\"outlinewidth\":0,\"ticks\":\"\"},\"colorscale\":[[0.0,\"#0d0887\"],[0.1111111111111111,\"#46039f\"],[0.2222222222222222,\"#7201a8\"],[0.3333333333333333,\"#9c179e\"],[0.4444444444444444,\"#bd3786\"],[0.5555555555555556,\"#d8576b\"],[0.6666666666666666,\"#ed7953\"],[0.7777777777777778,\"#fb9f3a\"],[0.8888888888888888,\"#fdca26\"],[1.0,\"#f0f921\"]]}],\"choropleth\":[{\"type\":\"choropleth\",\"colorbar\":{\"outlinewidth\":0,\"ticks\":\"\"}}],\"histogram2d\":[{\"type\":\"histogram2d\",\"colorbar\":{\"outlinewidth\":0,\"ticks\":\"\"},\"colorscale\":[[0.0,\"#0d0887\"],[0.1111111111111111,\"#46039f\"],[0.2222222222222222,\"#7201a8\"],[0.3333333333333333,\"#9c179e\"],[0.4444444444444444,\"#bd3786\"],[0.5555555555555556,\"#d8576b\"],[0.6666666666666666,\"#ed7953\"],[0.7777777777777778,\"#fb9f3a\"],[0.8888888888888888,\"#fdca26\"],[1.0,\"#f0f921\"]]}],\"heatmap\":[{\"type\":\"heatmap\",\"colorbar\":{\"outlinewidth\":0,\"ticks\":\"\"},\"colorscale\":[[0.0,\"#0d0887\"],[0.1111111111111111,\"#46039f\"],[0.2222222222222222,\"#7201a8\"],[0.3333333333333333,\"#9c179e\"],[0.4444444444444444,\"#bd3786\"],[0.5555555555555556,\"#d8576b\"],[0.6666666666666666,\"#ed7953\"],[0.7777777777777778,\"#fb9f3a\"],[0.8888888888888888,\"#fdca26\"],[1.0,\"#f0f921\"]]}],\"heatmapgl\":[{\"type\":\"heatmapgl\",\"colorbar\":{\"outlinewidth\":0,\"ticks\":\"\"},\"colorscale\":[[0.0,\"#0d0887\"],[0.1111111111111111,\"#46039f\"],[0.2222222222222222,\"#7201a8\"],[0.3333333333333333,\"#9c179e\"],[0.4444444444444444,\"#bd3786\"],[0.5555555555555556,\"#d8576b\"],[0.6666666666666666,\"#ed7953\"],[0.7777777777777778,\"#fb9f3a\"],[0.8888888888888888,\"#fdca26\"],[1.0,\"#f0f921\"]]}],\"contourcarpet\":[{\"type\":\"contourcarpet\",\"colorbar\":{\"outlinewidth\":0,\"ticks\":\"\"}}],\"contour\":[{\"type\":\"contour\",\"colorbar\":{\"outlinewidth\":0,\"ticks\":\"\"},\"colorscale\":[[0.0,\"#0d0887\"],[0.1111111111111111,\"#46039f\"],[0.2222222222222222,\"#7201a8\"],[0.3333333333333333,\"#9c179e\"],[0.4444444444444444,\"#bd3786\"],[0.5555555555555556,\"#d8576b\"],[0.6666666666666666,\"#ed7953\"],[0.7777777777777778,\"#fb9f3a\"],[0.8888888888888888,\"#fdca26\"],[1.0,\"#f0f921\"]]}],\"surface\":[{\"type\":\"surface\",\"colorbar\":{\"outlinewidth\":0,\"ticks\":\"\"},\"colorscale\":[[0.0,\"#0d0887\"],[0.1111111111111111,\"#46039f\"],[0.2222222222222222,\"#7201a8\"],[0.3333333333333333,\"#9c179e\"],[0.4444444444444444,\"#bd3786\"],[0.5555555555555556,\"#d8576b\"],[0.6666666666666666,\"#ed7953\"],[0.7777777777777778,\"#fb9f3a\"],[0.8888888888888888,\"#fdca26\"],[1.0,\"#f0f921\"]]}],\"mesh3d\":[{\"type\":\"mesh3d\",\"colorbar\":{\"outlinewidth\":0,\"ticks\":\"\"}}],\"scatter\":[{\"fillpattern\":{\"fillmode\":\"overlay\",\"size\":10,\"solidity\":0.2},\"type\":\"scatter\"}],\"parcoords\":[{\"type\":\"parcoords\",\"line\":{\"colorbar\":{\"outlinewidth\":0,\"ticks\":\"\"}}}],\"scatterpolargl\":[{\"type\":\"scatterpolargl\",\"marker\":{\"colorbar\":{\"outlinewidth\":0,\"ticks\":\"\"}}}],\"bar\":[{\"error_x\":{\"color\":\"#2a3f5f\"},\"error_y\":{\"color\":\"#2a3f5f\"},\"marker\":{\"line\":{\"color\":\"#E5ECF6\",\"width\":0.5},\"pattern\":{\"fillmode\":\"overlay\",\"size\":10,\"solidity\":0.2}},\"type\":\"bar\"}],\"scattergeo\":[{\"type\":\"scattergeo\",\"marker\":{\"colorbar\":{\"outlinewidth\":0,\"ticks\":\"\"}}}],\"scatterpolar\":[{\"type\":\"scatterpolar\",\"marker\":{\"colorbar\":{\"outlinewidth\":0,\"ticks\":\"\"}}}],\"histogram\":[{\"marker\":{\"pattern\":{\"fillmode\":\"overlay\",\"size\":10,\"solidity\":0.2}},\"type\":\"histogram\"}],\"scattergl\":[{\"type\":\"scattergl\",\"marker\":{\"colorbar\":{\"outlinewidth\":0,\"ticks\":\"\"}}}],\"scatter3d\":[{\"type\":\"scatter3d\",\"line\":{\"colorbar\":{\"outlinewidth\":0,\"ticks\":\"\"}},\"marker\":{\"colorbar\":{\"outlinewidth\":0,\"ticks\":\"\"}}}],\"scattermapbox\":[{\"type\":\"scattermapbox\",\"marker\":{\"colorbar\":{\"outlinewidth\":0,\"ticks\":\"\"}}}],\"scatterternary\":[{\"type\":\"scatterternary\",\"marker\":{\"colorbar\":{\"outlinewidth\":0,\"ticks\":\"\"}}}],\"scattercarpet\":[{\"type\":\"scattercarpet\",\"marker\":{\"colorbar\":{\"outlinewidth\":0,\"ticks\":\"\"}}}],\"carpet\":[{\"aaxis\":{\"endlinecolor\":\"#2a3f5f\",\"gridcolor\":\"white\",\"linecolor\":\"white\",\"minorgridcolor\":\"white\",\"startlinecolor\":\"#2a3f5f\"},\"baxis\":{\"endlinecolor\":\"#2a3f5f\",\"gridcolor\":\"white\",\"linecolor\":\"white\",\"minorgridcolor\":\"white\",\"startlinecolor\":\"#2a3f5f\"},\"type\":\"carpet\"}],\"table\":[{\"cells\":{\"fill\":{\"color\":\"#EBF0F8\"},\"line\":{\"color\":\"white\"}},\"header\":{\"fill\":{\"color\":\"#C8D4E3\"},\"line\":{\"color\":\"white\"}},\"type\":\"table\"}],\"barpolar\":[{\"marker\":{\"line\":{\"color\":\"#E5ECF6\",\"width\":0.5},\"pattern\":{\"fillmode\":\"overlay\",\"size\":10,\"solidity\":0.2}},\"type\":\"barpolar\"}],\"pie\":[{\"automargin\":true,\"type\":\"pie\"}]},\"layout\":{\"autotypenumbers\":\"strict\",\"colorway\":[\"#636efa\",\"#EF553B\",\"#00cc96\",\"#ab63fa\",\"#FFA15A\",\"#19d3f3\",\"#FF6692\",\"#B6E880\",\"#FF97FF\",\"#FECB52\"],\"font\":{\"color\":\"#2a3f5f\"},\"hovermode\":\"closest\",\"hoverlabel\":{\"align\":\"left\"},\"paper_bgcolor\":\"white\",\"plot_bgcolor\":\"#E5ECF6\",\"polar\":{\"bgcolor\":\"#E5ECF6\",\"angularaxis\":{\"gridcolor\":\"white\",\"linecolor\":\"white\",\"ticks\":\"\"},\"radialaxis\":{\"gridcolor\":\"white\",\"linecolor\":\"white\",\"ticks\":\"\"}},\"ternary\":{\"bgcolor\":\"#E5ECF6\",\"aaxis\":{\"gridcolor\":\"white\",\"linecolor\":\"white\",\"ticks\":\"\"},\"baxis\":{\"gridcolor\":\"white\",\"linecolor\":\"white\",\"ticks\":\"\"},\"caxis\":{\"gridcolor\":\"white\",\"linecolor\":\"white\",\"ticks\":\"\"}},\"coloraxis\":{\"colorbar\":{\"outlinewidth\":0,\"ticks\":\"\"}},\"colorscale\":{\"sequential\":[[0.0,\"#0d0887\"],[0.1111111111111111,\"#46039f\"],[0.2222222222222222,\"#7201a8\"],[0.3333333333333333,\"#9c179e\"],[0.4444444444444444,\"#bd3786\"],[0.5555555555555556,\"#d8576b\"],[0.6666666666666666,\"#ed7953\"],[0.7777777777777778,\"#fb9f3a\"],[0.8888888888888888,\"#fdca26\"],[1.0,\"#f0f921\"]],\"sequentialminus\":[[0.0,\"#0d0887\"],[0.1111111111111111,\"#46039f\"],[0.2222222222222222,\"#7201a8\"],[0.3333333333333333,\"#9c179e\"],[0.4444444444444444,\"#bd3786\"],[0.5555555555555556,\"#d8576b\"],[0.6666666666666666,\"#ed7953\"],[0.7777777777777778,\"#fb9f3a\"],[0.8888888888888888,\"#fdca26\"],[1.0,\"#f0f921\"]],\"diverging\":[[0,\"#8e0152\"],[0.1,\"#c51b7d\"],[0.2,\"#de77ae\"],[0.3,\"#f1b6da\"],[0.4,\"#fde0ef\"],[0.5,\"#f7f7f7\"],[0.6,\"#e6f5d0\"],[0.7,\"#b8e186\"],[0.8,\"#7fbc41\"],[0.9,\"#4d9221\"],[1,\"#276419\"]]},\"xaxis\":{\"gridcolor\":\"white\",\"linecolor\":\"white\",\"ticks\":\"\",\"title\":{\"standoff\":15},\"zerolinecolor\":\"white\",\"automargin\":true,\"zerolinewidth\":2},\"yaxis\":{\"gridcolor\":\"white\",\"linecolor\":\"white\",\"ticks\":\"\",\"title\":{\"standoff\":15},\"zerolinecolor\":\"white\",\"automargin\":true,\"zerolinewidth\":2},\"scene\":{\"xaxis\":{\"backgroundcolor\":\"#E5ECF6\",\"gridcolor\":\"white\",\"linecolor\":\"white\",\"showbackground\":true,\"ticks\":\"\",\"zerolinecolor\":\"white\",\"gridwidth\":2},\"yaxis\":{\"backgroundcolor\":\"#E5ECF6\",\"gridcolor\":\"white\",\"linecolor\":\"white\",\"showbackground\":true,\"ticks\":\"\",\"zerolinecolor\":\"white\",\"gridwidth\":2},\"zaxis\":{\"backgroundcolor\":\"#E5ECF6\",\"gridcolor\":\"white\",\"linecolor\":\"white\",\"showbackground\":true,\"ticks\":\"\",\"zerolinecolor\":\"white\",\"gridwidth\":2}},\"shapedefaults\":{\"line\":{\"color\":\"#2a3f5f\"}},\"annotationdefaults\":{\"arrowcolor\":\"#2a3f5f\",\"arrowhead\":0,\"arrowwidth\":1},\"geo\":{\"bgcolor\":\"white\",\"landcolor\":\"#E5ECF6\",\"subunitcolor\":\"white\",\"showland\":true,\"showlakes\":true,\"lakecolor\":\"white\"},\"title\":{\"x\":0.05},\"mapbox\":{\"style\":\"light\"}}},\"geo\":{\"domain\":{\"x\":[0.0,1.0],\"y\":[0.0,1.0]},\"center\":{},\"scope\":\"usa\"},\"legend\":{\"title\":{\"text\":\"Obesity in Adults\"},\"tracegroupgap\":0,\"font\":{\"size\":18},\"x\":0.9,\"y\":0.7},\"margin\":{\"t\":60},\"font\":{\"family\":\"Times New Roman\"},\"title\":{\"font\":{\"family\":\"Times New Roman\",\"color\":\"black\",\"size\":34},\"pad\":{\"b\":0},\"text\":\"Adult Obesity By State\",\"xanchor\":\"center\",\"x\":0.45,\"yref\":\"paper\",\"yanchor\":\"bottom\",\"y\":0.95},\"height\":1000,\"width\":1600,\"annotations\":[{\"font\":{\"color\":\"crimson\",\"family\":\"Helvetica\",\"size\":24},\"showarrow\":false,\"text\":\"Oklahoma, Louisiana, and West Virginia Have the Highest Rates of Adult Obesity\",\"x\":0.5,\"y\":0.945}]},                        {\"responsive\": true}                    ).then(function(){\n",
              "                            \n",
              "var gd = document.getElementById('34699526-c358-46bc-9739-99db37312481');\n",
              "var x = new MutationObserver(function (mutations, observer) {{\n",
              "        var display = window.getComputedStyle(gd).display;\n",
              "        if (!display || display === 'none') {{\n",
              "            console.log([gd, 'removed!']);\n",
              "            Plotly.purge(gd);\n",
              "            observer.disconnect();\n",
              "        }}\n",
              "}});\n",
              "\n",
              "// Listen for the removal of the full notebook cells\n",
              "var notebookContainer = gd.closest('#notebook-container');\n",
              "if (notebookContainer) {{\n",
              "    x.observe(notebookContainer, {childList: true});\n",
              "}}\n",
              "\n",
              "// Listen for the clearing of the current output cell\n",
              "var outputEl = gd.closest('.output');\n",
              "if (outputEl) {{\n",
              "    x.observe(outputEl, {childList: true});\n",
              "}}\n",
              "\n",
              "                        })                };                            </script>        </div>\n",
              "</body>\n",
              "</html>"
            ]
          },
          "metadata": {}
        },
        {
          "output_type": "display_data",
          "data": {
            "text/plain": [
              "<IPython.core.display.Javascript object>"
            ],
            "application/javascript": [
              "\n",
              "    async function download(id, filename, size) {\n",
              "      if (!google.colab.kernel.accessAllowed) {\n",
              "        return;\n",
              "      }\n",
              "      const div = document.createElement('div');\n",
              "      const label = document.createElement('label');\n",
              "      label.textContent = `Downloading \"${filename}\": `;\n",
              "      div.appendChild(label);\n",
              "      const progress = document.createElement('progress');\n",
              "      progress.max = size;\n",
              "      div.appendChild(progress);\n",
              "      document.body.appendChild(div);\n",
              "\n",
              "      const buffers = [];\n",
              "      let downloaded = 0;\n",
              "\n",
              "      const channel = await google.colab.kernel.comms.open(id);\n",
              "      // Send a message to notify the kernel that we're ready.\n",
              "      channel.send({})\n",
              "\n",
              "      for await (const message of channel.messages) {\n",
              "        // Send a message to notify the kernel that we're ready.\n",
              "        channel.send({})\n",
              "        if (message.buffers) {\n",
              "          for (const buffer of message.buffers) {\n",
              "            buffers.push(buffer);\n",
              "            downloaded += buffer.byteLength;\n",
              "            progress.value = downloaded;\n",
              "          }\n",
              "        }\n",
              "      }\n",
              "      const blob = new Blob(buffers, {type: 'application/binary'});\n",
              "      const a = document.createElement('a');\n",
              "      a.href = window.URL.createObjectURL(blob);\n",
              "      a.download = filename;\n",
              "      div.appendChild(a);\n",
              "      a.click();\n",
              "      div.remove();\n",
              "    }\n",
              "  "
            ]
          },
          "metadata": {}
        },
        {
          "output_type": "display_data",
          "data": {
            "text/plain": [
              "<IPython.core.display.Javascript object>"
            ],
            "application/javascript": [
              "download(\"download_26c873b7-4a70-4b5c-b5f7-5682601a70bc\", \"Adult Obesity By State.png\", 210873)"
            ]
          },
          "metadata": {}
        }
      ]
    },
    {
      "cell_type": "code",
      "source": [
        "final['obesity_ins_ratio'] = final['2020-21']/final['food_ins_pre']"
      ],
      "metadata": {
        "id": "430dUWcJpVHO"
      },
      "execution_count": 36,
      "outputs": []
    },
    {
      "cell_type": "code",
      "source": [
        "final = final.sort_values(by ='obesity_ins_ratio')"
      ],
      "metadata": {
        "id": "Oxjx9Niepnr1"
      },
      "execution_count": 37,
      "outputs": []
    },
    {
      "cell_type": "code",
      "source": [
        "fig = plt.figure(figsize= (8,8))\n",
        "sns.set_style(\"whitegrid\")\n",
        "bar = plt.barh(final['Abbreviation'],final['obesity_ins_ratio'], color = 'lightgray')\n",
        "i = 49\n",
        "while  i >= 27:\n",
        "  bar[i].set_color('crimson')\n",
        "  i = i-1\n",
        "plt.axvline(final['obesity_ins_ratio'].mean(), label = 'Mean of the ratio', linestyle = 'dashed', color = 'black')\n",
        "plt.yticks(font = \"serif\",fontsize =8)\n",
        "plt.xticks(font = \"serif\",fontsize =10)\n",
        "plt.legend(bbox_to_anchor=(1.0,.489),loc='lower right',prop={'size':10,'family':'serif'}, frameon=False)\n",
        "#plt.text(.9,10,'Mean of the ratio', font = 'serif')\n",
        "plt.title('Food Insecurity / Obesity ratio in each State', font = \"serif\", y = 1.05, size = 16)\n",
        "sns.despine(bottom = False, left = False)\n",
        "plt.show()"
      ],
      "metadata": {
        "colab": {
          "base_uri": "https://localhost:8080/",
          "height": 732
        },
        "id": "whcFjLZzprcK",
        "outputId": "f842769e-032b-46fd-d2e9-7c02a82f8bb2"
      },
      "execution_count": 38,
      "outputs": [
        {
          "output_type": "display_data",
          "data": {
            "text/plain": [
              "<Figure size 800x800 with 1 Axes>"
            ],
            "image/png": "[encoded data removed]"
          },
          "metadata": {}
        }
      ]
    },
    {
      "cell_type": "code",
      "source": [
        "final['obesity_ins_ratio']"
      ],
      "metadata": {
        "id": "qpJ6pVKIprnk",
        "colab": {
          "base_uri": "https://localhost:8080/"
        },
        "outputId": "8fa060d0-9ae3-4242-cd3a-44e5693b9f52"
      },
      "execution_count": 39,
      "outputs": [
        {
          "output_type": "execute_result",
          "data": {
            "text/plain": [
              "46    2.105263\n",
              "45    2.228916\n",
              "39    2.377622\n",
              "48    2.396694\n",
              "49    2.429907\n",
              "6     2.565789\n",
              "42    2.571429\n",
              "23    2.574257\n",
              "47    2.580645\n",
              "11    2.679739\n",
              "36    2.696629\n",
              "18    2.735043\n",
              "44    2.758621\n",
              "37    2.767857\n",
              "41    2.786885\n",
              "31    2.803738\n",
              "13    2.831858\n",
              "35    2.857143\n",
              "25    2.887324\n",
              "27    2.894737\n",
              "28    2.956522\n",
              "33    2.970297\n",
              "24    2.970297\n",
              "4     2.983871\n",
              "10    3.008850\n",
              "29    3.018868\n",
              "8     3.039216\n",
              "16    3.125000\n",
              "12    3.129771\n",
              "43    3.130435\n",
              "9     3.177570\n",
              "0     3.214286\n",
              "22    3.217391\n",
              "32    3.229167\n",
              "30    3.263158\n",
              "15    3.294118\n",
              "26    3.295455\n",
              "38    3.368421\n",
              "21    3.373494\n",
              "19    3.398058\n",
              "17    3.516484\n",
              "40    3.541667\n",
              "7     3.625000\n",
              "34    3.655914\n",
              "5     3.661972\n",
              "2     3.720930\n",
              "1     3.766234\n",
              "14    3.820225\n",
              "3     4.157303\n",
              "20    4.354839\n",
              "Name: obesity_ins_ratio, dtype: float64"
            ]
          },
          "metadata": {},
          "execution_count": 39
        }
      ]
    },
    {
      "cell_type": "code",
      "source": [],
      "metadata": {
        "id": "FQaAYxb8prwe"
      },
      "execution_count": null,
      "outputs": []
    },
    {
      "cell_type": "code",
      "source": [],
      "metadata": {
        "id": "ytMPmXCHpr7b"
      },
      "execution_count": null,
      "outputs": []
    },
    {
      "cell_type": "markdown",
      "source": [
        "# **Low Birth Weight:**"
      ],
      "metadata": {
        "id": "HBC6pGuwbGrR"
      }
    },
    {
      "cell_type": "code",
      "source": [
        "conditions_i = [\n",
        "    (final['2021'] >= 2 )& (final['2021']<=3),\n",
        "    (final['2021'] > 1.8) & (final['2021'] < 2),\n",
        "    (final['2021'] > 1.6) & (final['2021'] <= 1.8),\n",
        "    (final['2021'] > 1.4 ) & (final['2021'] <= 1.6),\n",
        "     (final['2021'] > 1.2) & (final['2021'] <= 1.4),\n",
        "    (final['2021'] > 1) & (final['2021'] <= 1.2),\n",
        "    (final['2021'] > .8 ) & (final['2021'] <= 1),\n",
        "    (final['2021'] <= .8 )\n",
        "    ]\n",
        "\n",
        "values_i = ['Equal to Over 2%', '1.81-1.99%', '1.61-1.8%','1.41-1.6%','1.21-1.4%' ,'1.01-1.2%', '.81-1%','Equal or Below .8%']\n",
        "final['weight_range'] = np.select(conditions_i, values_i)"
      ],
      "metadata": {
        "id": "RA8TlOeecDne"
      },
      "execution_count": 40,
      "outputs": []
    },
    {
      "cell_type": "code",
      "source": [
        "event_dictionary = {'Equal to Over 2%':'#660066', '1.81-1.99%':'#800080', '1.61-1.8%':'#be29ec',\n",
        "                                        '1.41-1.6%':'#d896ff','1.21-1.4%':'#E0B0FF','1.01-1.2%':'#efbbff',\n",
        "                                        '.81-1%':'#E6E6FA','Equal or Below .8%':'#D7BFDC'}\n",
        "\n",
        "final['background_colorw'] = final['weight_range'].apply(set_value, args =(event_dictionary, ))\n",
        "final['background_colorw'] = final['background_colorw'].apply(lambda x: mcolors.to_hex(x))"
      ],
      "metadata": {
        "id": "iGtsDZaJg--W"
      },
      "execution_count": 41,
      "outputs": []
    },
    {
      "cell_type": "code",
      "source": [
        "final['2021'].loc[final['state']==\"Louisiana\"]"
      ],
      "metadata": {
        "colab": {
          "base_uri": "https://localhost:8080/"
        },
        "id": "7Vk_Va8TUU6U",
        "outputId": "890d162f-1143-4c17-cd95-f48acee9c3f4"
      },
      "execution_count": 42,
      "outputs": [
        {
          "output_type": "execute_result",
          "data": {
            "text/plain": [
              "6    2.0\n",
              "Name: 2021, dtype: float64"
            ]
          },
          "metadata": {},
          "execution_count": 42
        }
      ]
    },
    {
      "cell_type": "code",
      "source": [
        "\n",
        "legend_order = ['Equal to Over 2%', '1.81-1.99%', '1.61-1.8%','1.41-1.6%','1.21-1.4%' ,'1.01-1.2%', '.81-1%','Equal or Below .8%']\n",
        "fig = px.choropleth(final, locations = 'Abbreviation',\n",
        "                    color = 'weight_range',\n",
        "                    locationmode = 'USA-states',\n",
        "                    color_discrete_map={'Equal to Over 2%':'crimson', '1.81-2%':'#800080', '1.61-1.8%':'#be29ec',\n",
        "                                        '1.41-1.6%':'#d896ff','1.21-1.4%':'#E0B0FF','1.01-1.2%':'#efbbff',\n",
        "                                        '.81-1%':'#E6E6FA','Equal or Below .8%':'#D7BFDC'},\n",
        "                    category_orders={'weight_range':legend_order},\n",
        "                    title = \"Weight Reduction in New Born By State\", hover_data=[\"state\",\"2020-21\", \"poverty\", \"food_ins_pre\"])\n",
        "def calculate_luminance(hex_color):\n",
        "    try:\n",
        "        # Strip the '#' symbol if present and convert to lowercase\n",
        "        hex_color = hex_color.lstrip('#').lower()\n",
        "\n",
        "        # Make sure the remaining string is a valid hex color code\n",
        "        if len(hex_color) == 6:\n",
        "            rgb_color = tuple(int(hex_color[i:i + 2], 16) for i in (0, 2, 4))\n",
        "            r, g, b = [x / 255.0 for x in rgb_color]\n",
        "            h, s, v = colorsys.rgb_to_hsv(r, g, b)\n",
        "            return v\n",
        "        else:\n",
        "            # Handle invalid hex color codes\n",
        "            return None\n",
        "    except ValueError:\n",
        "        # Handle errors during conversion\n",
        "        return None\n",
        "\n",
        "fig.add_scattergeo(\n",
        "    locations=final['Abbreviation'],\n",
        "    locationmode=\"USA-states\",\n",
        "    text=final['Abbreviation'],\n",
        "    mode='text', textfont_color=[ 'white' if calculate_luminance(bg_color) < 0.7 else 'black' for bg_color in final['background_colorw']],\n",
        "    textposition='bottom right',  # Arbitrary coordinates\n",
        "    showlegend = False\n",
        ")\n",
        "\n",
        "\n",
        "\n",
        "fig.update_layout(\n",
        "                  geo_scope = 'usa',font_family=\"Times New Roman\",\n",
        "                  title_font_family=\"Times New Roman\",\n",
        "                  title_font_color=\"black\",\n",
        "\n",
        "                  height=1000,\n",
        "                  width=1600 ,legend=dict(title=dict(text='Low Birth Weight By State'), x= .9,y=.7, font_size = 18),\n",
        "                  title=dict(\n",
        "                      text=\"Low Birth Weight by State\",\n",
        "                      xanchor='center',\n",
        "                      x=0.45,\n",
        "                      yref='paper',\n",
        "                      yanchor='bottom',\n",
        "                      y=.961,\n",
        "                      pad={'b': 0},\n",
        "                      font_size = 34))\n",
        "\n",
        "fig.update_traces(\n",
        "    marker_line_color='white'#,\n",
        "\n",
        "   # hovertemplate='%{location}<br>Value: %{color}<br>Label: %{text}'\n",
        ")\n",
        "fig.add_annotation(text=\"Mississippi and Louisiana have the Highest Rates of Low Birth Weight\",\n",
        "                   x=.5,y=.956,\n",
        "                   showarrow=False, font_size = 24 ,\n",
        "                   font_color = 'crimson',\n",
        "                   font_family = 'Helvetica')\n",
        "\n",
        "\n",
        "\n",
        "fig.show()\n",
        "fig.write_image(\"Low Birth Weight by State.png\")\n",
        "files.download('Low Birth Weight by State.png')"
      ],
      "metadata": {
        "id": "Ukx25F0Fc7eI",
        "colab": {
          "base_uri": "https://localhost:8080/",
          "height": 1000
        },
        "outputId": "5e539f11-3021-4394-a7d2-29b758660d90"
      },
      "execution_count": 44,
      "outputs": [
        {
          "output_type": "display_data",
          "data": {
            "text/html": [
              "<html>\n",
              "<head><meta charset=\"utf-8\" /></head>\n",
              "<body>\n",
              "    <div>            <script src=\"https://cdnjs.cloudflare.com/ajax/libs/mathjax/2.7.5/MathJax.js?config=TeX-AMS-MML_SVG\"></script><script type=\"text/javascript\">if (window.MathJax && window.MathJax.Hub && window.MathJax.Hub.Config) {window.MathJax.Hub.Config({SVG: {font: \"STIX-Web\"}});}</script>                <script type=\"text/javascript\">window.PlotlyConfig = {MathJaxConfig: 'local'};</script>\n",
              "        <script charset=\"utf-8\" src=\"https://cdn.plot.ly/plotly-2.27.0.min.js\"></script>                <div id=\"7309af6a-fa34-4168-b1da-68650cf80a09\" class=\"plotly-graph-div\" style=\"height:1000px; width:1600px;\"></div>            <script type=\"text/javascript\">                                    window.PLOTLYENV=window.PLOTLYENV || {};                                    if (document.getElementById(\"7309af6a-fa34-4168-b1da-68650cf80a09\")) {                    Plotly.newPlot(                        \"7309af6a-fa34-4168-b1da-68650cf80a09\",                        [{\"colorscale\":[[0.0,\"crimson\"],[1.0,\"crimson\"]],\"customdata\":[[\"Louisiana\",39.0,19.5,15.2],[\"Mississippi\",41.0,19.2,15.3]],\"geo\":\"geo\",\"hovertemplate\":\"weight_range=Equal to Over 2%\\u003cbr\\u003eAbbreviation=%{location}\\u003cbr\\u003estate=%{customdata[0]}\\u003cbr\\u003e2020-21=%{customdata[1]}\\u003cbr\\u003epoverty=%{customdata[2]}\\u003cbr\\u003efood_ins_pre=%{customdata[3]}\\u003cextra\\u003e\\u003c\\u002fextra\\u003e\",\"locationmode\":\"USA-states\",\"locations\":[\"LA\",\"MS\"],\"name\":\"Equal to Over 2%\",\"showlegend\":true,\"showscale\":false,\"z\":[1,1],\"type\":\"choropleth\",\"marker\":{\"line\":{\"color\":\"white\"}}},{\"colorscale\":[[0.0,\"#be29ec\"],[1.0,\"#be29ec\"]],\"customdata\":[[\"Arkansas\",37.0,16.0,16.6],[\"South Carolina\",40.0,14.5,14.5],[\"Alabama\",37.0,16.3,12.4],[\"Georgia\",34.0,14.2,11.3]],\"geo\":\"geo\",\"hovertemplate\":\"weight_range=1.61-1.8%\\u003cbr\\u003eAbbreviation=%{location}\\u003cbr\\u003estate=%{customdata[0]}\\u003cbr\\u003e2020-21=%{customdata[1]}\\u003cbr\\u003epoverty=%{customdata[2]}\\u003cbr\\u003efood_ins_pre=%{customdata[3]}\\u003cextra\\u003e\\u003c\\u002fextra\\u003e\",\"locationmode\":\"USA-states\",\"locations\":[\"AR\",\"SC\",\"AL\",\"GA\"],\"name\":\"1.61-1.8%\",\"showlegend\":true,\"showscale\":false,\"z\":[1,1,1,1],\"type\":\"choropleth\",\"marker\":{\"line\":{\"color\":\"white\"}}},{\"colorscale\":[[0.0,\"#d896ff\"],[1.0,\"#d896ff\"]],\"customdata\":[[\"Oklahoma\",34.0,15.4,14.3],[\"Michigan\",34.0,13.0,11.9],[\"Florida\",33.0,13.2,11.4],[\"Ohio\",34.0,13.3,11.5],[\"Kentucky\",41.0,16.3,13.1],[\"Delaware\",36.0,11.5,11.5],[\"North Carolina\",34.0,13.5,10.7],[\"Tennessee\",37.0,13.7,11.5],[\"Maryland\",32.0,10.3,9.5],[\"Virginia\",34.0,10.3,9.3]],\"geo\":\"geo\",\"hovertemplate\":\"weight_range=1.41-1.6%\\u003cbr\\u003eAbbreviation=%{location}\\u003cbr\\u003estate=%{customdata[0]}\\u003cbr\\u003e2020-21=%{customdata[1]}\\u003cbr\\u003epoverty=%{customdata[2]}\\u003cbr\\u003efood_ins_pre=%{customdata[3]}\\u003cextra\\u003e\\u003c\\u002fextra\\u003e\",\"locationmode\":\"USA-states\",\"locations\":[\"OK\",\"MI\",\"FL\",\"OH\",\"KY\",\"DE\",\"NC\",\"TN\",\"MD\",\"VA\"],\"name\":\"1.41-1.6%\",\"showlegend\":true,\"showscale\":false,\"z\":[1,1,1,1,1,1,1,1,1,1],\"type\":\"choropleth\",\"marker\":{\"line\":{\"color\":\"white\"}}},{\"colorscale\":[[0.0,\"#E0B0FF\"],[1.0,\"#E0B0FF\"]],\"customdata\":[[\"Nebraska\",29.0,10.5,12.1],[\"Texas\",40.0,14.2,15.5],[\"Nevada\",32.0,14.0,11.7],[\"Missouri\",34.0,12.8,12.2],[\"Indiana\",30.0,12.1,10.7],[\"New York\",32.0,14.0,11.3],[\"West Virginia\",41.0,16.8,14.2],[\"Pennsylvania\",30.0,12.0,10.1],[\"Illinois\",32.0,12.1,10.6],[\"New Mexico\",36.0,17.7,11.2],[\"Alaska\",31.0,10.8,9.5],[\"Hawaii\",32.0,10.9,9.1],[\"Connecticut\",34.0,10.1,9.6]],\"geo\":\"geo\",\"hovertemplate\":\"weight_range=1.21-1.4%\\u003cbr\\u003eAbbreviation=%{location}\\u003cbr\\u003estate=%{customdata[0]}\\u003cbr\\u003e2020-21=%{customdata[1]}\\u003cbr\\u003epoverty=%{customdata[2]}\\u003cbr\\u003efood_ins_pre=%{customdata[3]}\\u003cextra\\u003e\\u003c\\u002fextra\\u003e\",\"locationmode\":\"USA-states\",\"locations\":[\"NE\",\"TX\",\"NV\",\"MO\",\"IN\",\"NY\",\"WV\",\"PA\",\"IL\",\"NM\",\"AK\",\"HI\",\"CT\"],\"name\":\"1.21-1.4%\",\"showlegend\":true,\"showscale\":false,\"z\":[1,1,1,1,1,1,1,1,1,1,1,1,1],\"type\":\"choropleth\",\"marker\":{\"line\":{\"color\":\"white\"}}},{\"colorscale\":[[0.0,\"#efbbff\"],[1.0,\"#efbbff\"]],\"customdata\":[[\"Utah\",26.0,8.7,10.7],[\"Maine\",30.0,11.2,10.1],[\"Arizona\",31.0,12.9,10.2],[\"Kansas\",30.0,11.6,9.6],[\"Wisconsin\",31.0,10.8,9.6],[\"Massachusetts\",28.0,10.4,8.5],[\"New Jersey\",29.0,10.2,8.8],[\"California\",35.0,12.3,10.3],[\"Minnesota\",26.0,9.3,7.1],[\"Rhode Island\",32.0,12.1,8.6],[\"Iowa\",34.0,11.0,8.9]],\"geo\":\"geo\",\"hovertemplate\":\"weight_range=1.01-1.2%\\u003cbr\\u003eAbbreviation=%{location}\\u003cbr\\u003estate=%{customdata[0]}\\u003cbr\\u003e2020-21=%{customdata[1]}\\u003cbr\\u003epoverty=%{customdata[2]}\\u003cbr\\u003efood_ins_pre=%{customdata[3]}\\u003cextra\\u003e\\u003c\\u002fextra\\u003e\",\"locationmode\":\"USA-states\",\"locations\":[\"UT\",\"ME\",\"AZ\",\"KS\",\"WI\",\"MA\",\"NJ\",\"CA\",\"MN\",\"RI\",\"IA\"],\"name\":\"1.01-1.2%\",\"showlegend\":true,\"showscale\":false,\"z\":[1,1,1,1,1,1,1,1,1,1,1],\"type\":\"choropleth\",\"marker\":{\"line\":{\"color\":\"white\"}}},{\"colorscale\":[[0.0,\"#E6E6FA\"],[1.0,\"#E6E6FA\"]],\"customdata\":[[\"Idaho\",27.0,10.8,10.5],[\"Montana\",26.0,12.0,10.1],[\"Colorado\",24.0,9.7,8.9],[\"Oregon\",31.0,12.2,11.2],[\"Washington\",28.0,9.9,8.3],[\"Vermont\",29.0,10.2,8.0],[\"North Dakota\",29.0,10.9,7.7],[\"South Dakota\",37.0,11.9,8.9],[\"New Hampshire\",27.0,7.4,6.2]],\"geo\":\"geo\",\"hovertemplate\":\"weight_range=.81-1%\\u003cbr\\u003eAbbreviation=%{location}\\u003cbr\\u003estate=%{customdata[0]}\\u003cbr\\u003e2020-21=%{customdata[1]}\\u003cbr\\u003epoverty=%{customdata[2]}\\u003cbr\\u003efood_ins_pre=%{customdata[3]}\\u003cextra\\u003e\\u003c\\u002fextra\\u003e\",\"locationmode\":\"USA-states\",\"locations\":[\"ID\",\"MT\",\"CO\",\"OR\",\"WA\",\"VT\",\"ND\",\"SD\",\"NH\"],\"name\":\".81-1%\",\"showlegend\":true,\"showscale\":false,\"z\":[1,1,1,1,1,1,1,1,1],\"type\":\"choropleth\",\"marker\":{\"line\":{\"color\":\"white\"}}},{\"colorscale\":[[0.0,\"#D7BFDC\"],[1.0,\"#D7BFDC\"]],\"customdata\":[[\"Wyoming\",24.0,10.6,11.4]],\"geo\":\"geo\",\"hovertemplate\":\"weight_range=Equal or Below .8%\\u003cbr\\u003eAbbreviation=%{location}\\u003cbr\\u003estate=%{customdata[0]}\\u003cbr\\u003e2020-21=%{customdata[1]}\\u003cbr\\u003epoverty=%{customdata[2]}\\u003cbr\\u003efood_ins_pre=%{customdata[3]}\\u003cextra\\u003e\\u003c\\u002fextra\\u003e\",\"locationmode\":\"USA-states\",\"locations\":[\"WY\"],\"name\":\"Equal or Below .8%\",\"showlegend\":true,\"showscale\":false,\"z\":[1],\"type\":\"choropleth\",\"marker\":{\"line\":{\"color\":\"white\"}}},{\"locationmode\":\"USA-states\",\"locations\":[\"WY\",\"AR\",\"OK\",\"NE\",\"UT\",\"LA\",\"ID\",\"MT\",\"TX\",\"MS\",\"CO\",\"NV\",\"SC\",\"OR\",\"MO\",\"IN\",\"NY\",\"MI\",\"WV\",\"FL\",\"OH\",\"ME\",\"PA\",\"AL\",\"GA\",\"IL\",\"AZ\",\"KS\",\"KY\",\"DE\",\"NC\",\"NM\",\"TN\",\"WI\",\"AK\",\"MA\",\"NJ\",\"MD\",\"WA\",\"CA\",\"HI\",\"CT\",\"VT\",\"VA\",\"MN\",\"RI\",\"ND\",\"IA\",\"SD\",\"NH\"],\"mode\":\"text\",\"showlegend\":false,\"text\":[\"WY\",\"AR\",\"OK\",\"NE\",\"UT\",\"LA\",\"ID\",\"MT\",\"TX\",\"MS\",\"CO\",\"NV\",\"SC\",\"OR\",\"MO\",\"IN\",\"NY\",\"MI\",\"WV\",\"FL\",\"OH\",\"ME\",\"PA\",\"AL\",\"GA\",\"IL\",\"AZ\",\"KS\",\"KY\",\"DE\",\"NC\",\"NM\",\"TN\",\"WI\",\"AK\",\"MA\",\"NJ\",\"MD\",\"WA\",\"CA\",\"HI\",\"CT\",\"VT\",\"VA\",\"MN\",\"RI\",\"ND\",\"IA\",\"SD\",\"NH\"],\"textfont\":{\"color\":[\"black\",\"black\",\"black\",\"black\",\"black\",\"white\",\"black\",\"black\",\"black\",\"white\",\"black\",\"black\",\"black\",\"black\",\"black\",\"black\",\"black\",\"black\",\"black\",\"black\",\"black\",\"black\",\"black\",\"black\",\"black\",\"black\",\"black\",\"black\",\"black\",\"black\",\"black\",\"black\",\"black\",\"black\",\"black\",\"black\",\"black\",\"black\",\"black\",\"black\",\"black\",\"black\",\"black\",\"black\",\"black\",\"black\",\"black\",\"black\",\"black\",\"black\"]},\"textposition\":\"bottom right\",\"type\":\"scattergeo\",\"marker\":{\"line\":{\"color\":\"white\"}}}],                        {\"template\":{\"data\":{\"histogram2dcontour\":[{\"type\":\"histogram2dcontour\",\"colorbar\":{\"outlinewidth\":0,\"ticks\":\"\"},\"colorscale\":[[0.0,\"#0d0887\"],[0.1111111111111111,\"#46039f\"],[0.2222222222222222,\"#7201a8\"],[0.3333333333333333,\"#9c179e\"],[0.4444444444444444,\"#bd3786\"],[0.5555555555555556,\"#d8576b\"],[0.6666666666666666,\"#ed7953\"],[0.7777777777777778,\"#fb9f3a\"],[0.8888888888888888,\"#fdca26\"],[1.0,\"#f0f921\"]]}],\"choropleth\":[{\"type\":\"choropleth\",\"colorbar\":{\"outlinewidth\":0,\"ticks\":\"\"}}],\"histogram2d\":[{\"type\":\"histogram2d\",\"colorbar\":{\"outlinewidth\":0,\"ticks\":\"\"},\"colorscale\":[[0.0,\"#0d0887\"],[0.1111111111111111,\"#46039f\"],[0.2222222222222222,\"#7201a8\"],[0.3333333333333333,\"#9c179e\"],[0.4444444444444444,\"#bd3786\"],[0.5555555555555556,\"#d8576b\"],[0.6666666666666666,\"#ed7953\"],[0.7777777777777778,\"#fb9f3a\"],[0.8888888888888888,\"#fdca26\"],[1.0,\"#f0f921\"]]}],\"heatmap\":[{\"type\":\"heatmap\",\"colorbar\":{\"outlinewidth\":0,\"ticks\":\"\"},\"colorscale\":[[0.0,\"#0d0887\"],[0.1111111111111111,\"#46039f\"],[0.2222222222222222,\"#7201a8\"],[0.3333333333333333,\"#9c179e\"],[0.4444444444444444,\"#bd3786\"],[0.5555555555555556,\"#d8576b\"],[0.6666666666666666,\"#ed7953\"],[0.7777777777777778,\"#fb9f3a\"],[0.8888888888888888,\"#fdca26\"],[1.0,\"#f0f921\"]]}],\"heatmapgl\":[{\"type\":\"heatmapgl\",\"colorbar\":{\"outlinewidth\":0,\"ticks\":\"\"},\"colorscale\":[[0.0,\"#0d0887\"],[0.1111111111111111,\"#46039f\"],[0.2222222222222222,\"#7201a8\"],[0.3333333333333333,\"#9c179e\"],[0.4444444444444444,\"#bd3786\"],[0.5555555555555556,\"#d8576b\"],[0.6666666666666666,\"#ed7953\"],[0.7777777777777778,\"#fb9f3a\"],[0.8888888888888888,\"#fdca26\"],[1.0,\"#f0f921\"]]}],\"contourcarpet\":[{\"type\":\"contourcarpet\",\"colorbar\":{\"outlinewidth\":0,\"ticks\":\"\"}}],\"contour\":[{\"type\":\"contour\",\"colorbar\":{\"outlinewidth\":0,\"ticks\":\"\"},\"colorscale\":[[0.0,\"#0d0887\"],[0.1111111111111111,\"#46039f\"],[0.2222222222222222,\"#7201a8\"],[0.3333333333333333,\"#9c179e\"],[0.4444444444444444,\"#bd3786\"],[0.5555555555555556,\"#d8576b\"],[0.6666666666666666,\"#ed7953\"],[0.7777777777777778,\"#fb9f3a\"],[0.8888888888888888,\"#fdca26\"],[1.0,\"#f0f921\"]]}],\"surface\":[{\"type\":\"surface\",\"colorbar\":{\"outlinewidth\":0,\"ticks\":\"\"},\"colorscale\":[[0.0,\"#0d0887\"],[0.1111111111111111,\"#46039f\"],[0.2222222222222222,\"#7201a8\"],[0.3333333333333333,\"#9c179e\"],[0.4444444444444444,\"#bd3786\"],[0.5555555555555556,\"#d8576b\"],[0.6666666666666666,\"#ed7953\"],[0.7777777777777778,\"#fb9f3a\"],[0.8888888888888888,\"#fdca26\"],[1.0,\"#f0f921\"]]}],\"mesh3d\":[{\"type\":\"mesh3d\",\"colorbar\":{\"outlinewidth\":0,\"ticks\":\"\"}}],\"scatter\":[{\"fillpattern\":{\"fillmode\":\"overlay\",\"size\":10,\"solidity\":0.2},\"type\":\"scatter\"}],\"parcoords\":[{\"type\":\"parcoords\",\"line\":{\"colorbar\":{\"outlinewidth\":0,\"ticks\":\"\"}}}],\"scatterpolargl\":[{\"type\":\"scatterpolargl\",\"marker\":{\"colorbar\":{\"outlinewidth\":0,\"ticks\":\"\"}}}],\"bar\":[{\"error_x\":{\"color\":\"#2a3f5f\"},\"error_y\":{\"color\":\"#2a3f5f\"},\"marker\":{\"line\":{\"color\":\"#E5ECF6\",\"width\":0.5},\"pattern\":{\"fillmode\":\"overlay\",\"size\":10,\"solidity\":0.2}},\"type\":\"bar\"}],\"scattergeo\":[{\"type\":\"scattergeo\",\"marker\":{\"colorbar\":{\"outlinewidth\":0,\"ticks\":\"\"}}}],\"scatterpolar\":[{\"type\":\"scatterpolar\",\"marker\":{\"colorbar\":{\"outlinewidth\":0,\"ticks\":\"\"}}}],\"histogram\":[{\"marker\":{\"pattern\":{\"fillmode\":\"overlay\",\"size\":10,\"solidity\":0.2}},\"type\":\"histogram\"}],\"scattergl\":[{\"type\":\"scattergl\",\"marker\":{\"colorbar\":{\"outlinewidth\":0,\"ticks\":\"\"}}}],\"scatter3d\":[{\"type\":\"scatter3d\",\"line\":{\"colorbar\":{\"outlinewidth\":0,\"ticks\":\"\"}},\"marker\":{\"colorbar\":{\"outlinewidth\":0,\"ticks\":\"\"}}}],\"scattermapbox\":[{\"type\":\"scattermapbox\",\"marker\":{\"colorbar\":{\"outlinewidth\":0,\"ticks\":\"\"}}}],\"scatterternary\":[{\"type\":\"scatterternary\",\"marker\":{\"colorbar\":{\"outlinewidth\":0,\"ticks\":\"\"}}}],\"scattercarpet\":[{\"type\":\"scattercarpet\",\"marker\":{\"colorbar\":{\"outlinewidth\":0,\"ticks\":\"\"}}}],\"carpet\":[{\"aaxis\":{\"endlinecolor\":\"#2a3f5f\",\"gridcolor\":\"white\",\"linecolor\":\"white\",\"minorgridcolor\":\"white\",\"startlinecolor\":\"#2a3f5f\"},\"baxis\":{\"endlinecolor\":\"#2a3f5f\",\"gridcolor\":\"white\",\"linecolor\":\"white\",\"minorgridcolor\":\"white\",\"startlinecolor\":\"#2a3f5f\"},\"type\":\"carpet\"}],\"table\":[{\"cells\":{\"fill\":{\"color\":\"#EBF0F8\"},\"line\":{\"color\":\"white\"}},\"header\":{\"fill\":{\"color\":\"#C8D4E3\"},\"line\":{\"color\":\"white\"}},\"type\":\"table\"}],\"barpolar\":[{\"marker\":{\"line\":{\"color\":\"#E5ECF6\",\"width\":0.5},\"pattern\":{\"fillmode\":\"overlay\",\"size\":10,\"solidity\":0.2}},\"type\":\"barpolar\"}],\"pie\":[{\"automargin\":true,\"type\":\"pie\"}]},\"layout\":{\"autotypenumbers\":\"strict\",\"colorway\":[\"#636efa\",\"#EF553B\",\"#00cc96\",\"#ab63fa\",\"#FFA15A\",\"#19d3f3\",\"#FF6692\",\"#B6E880\",\"#FF97FF\",\"#FECB52\"],\"font\":{\"color\":\"#2a3f5f\"},\"hovermode\":\"closest\",\"hoverlabel\":{\"align\":\"left\"},\"paper_bgcolor\":\"white\",\"plot_bgcolor\":\"#E5ECF6\",\"polar\":{\"bgcolor\":\"#E5ECF6\",\"angularaxis\":{\"gridcolor\":\"white\",\"linecolor\":\"white\",\"ticks\":\"\"},\"radialaxis\":{\"gridcolor\":\"white\",\"linecolor\":\"white\",\"ticks\":\"\"}},\"ternary\":{\"bgcolor\":\"#E5ECF6\",\"aaxis\":{\"gridcolor\":\"white\",\"linecolor\":\"white\",\"ticks\":\"\"},\"baxis\":{\"gridcolor\":\"white\",\"linecolor\":\"white\",\"ticks\":\"\"},\"caxis\":{\"gridcolor\":\"white\",\"linecolor\":\"white\",\"ticks\":\"\"}},\"coloraxis\":{\"colorbar\":{\"outlinewidth\":0,\"ticks\":\"\"}},\"colorscale\":{\"sequential\":[[0.0,\"#0d0887\"],[0.1111111111111111,\"#46039f\"],[0.2222222222222222,\"#7201a8\"],[0.3333333333333333,\"#9c179e\"],[0.4444444444444444,\"#bd3786\"],[0.5555555555555556,\"#d8576b\"],[0.6666666666666666,\"#ed7953\"],[0.7777777777777778,\"#fb9f3a\"],[0.8888888888888888,\"#fdca26\"],[1.0,\"#f0f921\"]],\"sequentialminus\":[[0.0,\"#0d0887\"],[0.1111111111111111,\"#46039f\"],[0.2222222222222222,\"#7201a8\"],[0.3333333333333333,\"#9c179e\"],[0.4444444444444444,\"#bd3786\"],[0.5555555555555556,\"#d8576b\"],[0.6666666666666666,\"#ed7953\"],[0.7777777777777778,\"#fb9f3a\"],[0.8888888888888888,\"#fdca26\"],[1.0,\"#f0f921\"]],\"diverging\":[[0,\"#8e0152\"],[0.1,\"#c51b7d\"],[0.2,\"#de77ae\"],[0.3,\"#f1b6da\"],[0.4,\"#fde0ef\"],[0.5,\"#f7f7f7\"],[0.6,\"#e6f5d0\"],[0.7,\"#b8e186\"],[0.8,\"#7fbc41\"],[0.9,\"#4d9221\"],[1,\"#276419\"]]},\"xaxis\":{\"gridcolor\":\"white\",\"linecolor\":\"white\",\"ticks\":\"\",\"title\":{\"standoff\":15},\"zerolinecolor\":\"white\",\"automargin\":true,\"zerolinewidth\":2},\"yaxis\":{\"gridcolor\":\"white\",\"linecolor\":\"white\",\"ticks\":\"\",\"title\":{\"standoff\":15},\"zerolinecolor\":\"white\",\"automargin\":true,\"zerolinewidth\":2},\"scene\":{\"xaxis\":{\"backgroundcolor\":\"#E5ECF6\",\"gridcolor\":\"white\",\"linecolor\":\"white\",\"showbackground\":true,\"ticks\":\"\",\"zerolinecolor\":\"white\",\"gridwidth\":2},\"yaxis\":{\"backgroundcolor\":\"#E5ECF6\",\"gridcolor\":\"white\",\"linecolor\":\"white\",\"showbackground\":true,\"ticks\":\"\",\"zerolinecolor\":\"white\",\"gridwidth\":2},\"zaxis\":{\"backgroundcolor\":\"#E5ECF6\",\"gridcolor\":\"white\",\"linecolor\":\"white\",\"showbackground\":true,\"ticks\":\"\",\"zerolinecolor\":\"white\",\"gridwidth\":2}},\"shapedefaults\":{\"line\":{\"color\":\"#2a3f5f\"}},\"annotationdefaults\":{\"arrowcolor\":\"#2a3f5f\",\"arrowhead\":0,\"arrowwidth\":1},\"geo\":{\"bgcolor\":\"white\",\"landcolor\":\"#E5ECF6\",\"subunitcolor\":\"white\",\"showland\":true,\"showlakes\":true,\"lakecolor\":\"white\"},\"title\":{\"x\":0.05},\"mapbox\":{\"style\":\"light\"}}},\"geo\":{\"domain\":{\"x\":[0.0,1.0],\"y\":[0.0,1.0]},\"center\":{},\"scope\":\"usa\"},\"legend\":{\"title\":{\"text\":\"Low Birth Weight By State\"},\"tracegroupgap\":0,\"font\":{\"size\":18},\"x\":0.9,\"y\":0.7},\"title\":{\"text\":\"Low Birth Weight by State\",\"font\":{\"family\":\"Times New Roman\",\"color\":\"black\",\"size\":34},\"pad\":{\"b\":0},\"xanchor\":\"center\",\"x\":0.45,\"yref\":\"paper\",\"yanchor\":\"bottom\",\"y\":0.961},\"font\":{\"family\":\"Times New Roman\"},\"height\":1000,\"width\":1600,\"annotations\":[{\"font\":{\"color\":\"crimson\",\"family\":\"Helvetica\",\"size\":24},\"showarrow\":false,\"text\":\"Mississippi and Louisiana have the Highest Rates of Low Birth Weight\",\"x\":0.5,\"y\":0.956}]},                        {\"responsive\": true}                    ).then(function(){\n",
              "                            \n",
              "var gd = document.getElementById('7309af6a-fa34-4168-b1da-68650cf80a09');\n",
              "var x = new MutationObserver(function (mutations, observer) {{\n",
              "        var display = window.getComputedStyle(gd).display;\n",
              "        if (!display || display === 'none') {{\n",
              "            console.log([gd, 'removed!']);\n",
              "            Plotly.purge(gd);\n",
              "            observer.disconnect();\n",
              "        }}\n",
              "}});\n",
              "\n",
              "// Listen for the removal of the full notebook cells\n",
              "var notebookContainer = gd.closest('#notebook-container');\n",
              "if (notebookContainer) {{\n",
              "    x.observe(notebookContainer, {childList: true});\n",
              "}}\n",
              "\n",
              "// Listen for the clearing of the current output cell\n",
              "var outputEl = gd.closest('.output');\n",
              "if (outputEl) {{\n",
              "    x.observe(outputEl, {childList: true});\n",
              "}}\n",
              "\n",
              "                        })                };                            </script>        </div>\n",
              "</body>\n",
              "</html>"
            ]
          },
          "metadata": {}
        },
        {
          "output_type": "display_data",
          "data": {
            "text/plain": [
              "<IPython.core.display.Javascript object>"
            ],
            "application/javascript": [
              "\n",
              "    async function download(id, filename, size) {\n",
              "      if (!google.colab.kernel.accessAllowed) {\n",
              "        return;\n",
              "      }\n",
              "      const div = document.createElement('div');\n",
              "      const label = document.createElement('label');\n",
              "      label.textContent = `Downloading \"${filename}\": `;\n",
              "      div.appendChild(label);\n",
              "      const progress = document.createElement('progress');\n",
              "      progress.max = size;\n",
              "      div.appendChild(progress);\n",
              "      document.body.appendChild(div);\n",
              "\n",
              "      const buffers = [];\n",
              "      let downloaded = 0;\n",
              "\n",
              "      const channel = await google.colab.kernel.comms.open(id);\n",
              "      // Send a message to notify the kernel that we're ready.\n",
              "      channel.send({})\n",
              "\n",
              "      for await (const message of channel.messages) {\n",
              "        // Send a message to notify the kernel that we're ready.\n",
              "        channel.send({})\n",
              "        if (message.buffers) {\n",
              "          for (const buffer of message.buffers) {\n",
              "            buffers.push(buffer);\n",
              "            downloaded += buffer.byteLength;\n",
              "            progress.value = downloaded;\n",
              "          }\n",
              "        }\n",
              "      }\n",
              "      const blob = new Blob(buffers, {type: 'application/binary'});\n",
              "      const a = document.createElement('a');\n",
              "      a.href = window.URL.createObjectURL(blob);\n",
              "      a.download = filename;\n",
              "      div.appendChild(a);\n",
              "      a.click();\n",
              "      div.remove();\n",
              "    }\n",
              "  "
            ]
          },
          "metadata": {}
        },
        {
          "output_type": "display_data",
          "data": {
            "text/plain": [
              "<IPython.core.display.Javascript object>"
            ],
            "application/javascript": [
              "download(\"download_a605ff79-1164-47be-90b1-04e6406fc2f5\", \"Low Birth Weight by State.png\", 194919)"
            ]
          },
          "metadata": {}
        }
      ]
    },
    {
      "cell_type": "code",
      "source": [
        "fig = px.scatter(final, x='food_ins_pre', y='2020-21',\n",
        "                 trendline='ols')\n",
        "fig.update_yaxes(range=[0, 42])\n",
        "fig.update_xaxes(range=[0, 20])\n",
        "fig.update_layout(template='plotly_white', font_family ='Times New Roman',\n",
        "                  height=800,xaxis_title=\"Food Insecurity Percentage\",\n",
        "                  title=dict(text='Food Insecurity Directly Correlates with Child and Teen Obesity', font_size=22, font_color='crimson',\n",
        "                           font_family='Helvetica'),\n",
        "\n",
        "yaxis_title=\"Obesity\",# Set the height in pixels\n",
        "    width=1000)\n",
        "fig.show()\n",
        "fig.write_image(\"Food Insecurity Directly Correlates with Child and Teen Obesity.png\")\n",
        "files.download('Food Insecurity Directly Correlates with Child and Teen Obesity.png')"
      ],
      "metadata": {
        "id": "yRWLfq00d3gX",
        "colab": {
          "base_uri": "https://localhost:8080/",
          "height": 817
        },
        "outputId": "8343315b-8fe9-4173-e2e8-8bd111afaaf4"
      },
      "execution_count": 45,
      "outputs": [
        {
          "output_type": "display_data",
          "data": {
            "text/html": [
              "<html>\n",
              "<head><meta charset=\"utf-8\" /></head>\n",
              "<body>\n",
              "    <div>            <script src=\"https://cdnjs.cloudflare.com/ajax/libs/mathjax/2.7.5/MathJax.js?config=TeX-AMS-MML_SVG\"></script><script type=\"text/javascript\">if (window.MathJax && window.MathJax.Hub && window.MathJax.Hub.Config) {window.MathJax.Hub.Config({SVG: {font: \"STIX-Web\"}});}</script>                <script type=\"text/javascript\">window.PlotlyConfig = {MathJaxConfig: 'local'};</script>\n",
              "        <script charset=\"utf-8\" src=\"https://cdn.plot.ly/plotly-2.27.0.min.js\"></script>                <div id=\"e31355a7-9076-4d25-8cfd-f46ad9657e9e\" class=\"plotly-graph-div\" style=\"height:800px; width:1000px;\"></div>            <script type=\"text/javascript\">                                    window.PLOTLYENV=window.PLOTLYENV || {};                                    if (document.getElementById(\"e31355a7-9076-4d25-8cfd-f46ad9657e9e\")) {                    Plotly.newPlot(                        \"e31355a7-9076-4d25-8cfd-f46ad9657e9e\",                        [{\"hovertemplate\":\"food_ins_pre=%{x}\\u003cbr\\u003e2020-21=%{y}\\u003cextra\\u003e\\u003c\\u002fextra\\u003e\",\"legendgroup\":\"\",\"marker\":{\"color\":\"#636efa\",\"symbol\":\"circle\"},\"mode\":\"markers\",\"name\":\"\",\"orientation\":\"v\",\"showlegend\":false,\"x\":[11.4,16.6,14.3,12.1,10.7,15.2,10.5,10.1,15.5,15.3,8.9,11.7,14.5,11.2,12.2,10.7,11.3,11.9,14.2,11.4,11.5,10.1,10.1,12.4,11.3,10.6,10.2,9.6,13.1,11.5,10.7,11.2,11.5,9.6,9.5,8.5,8.8,9.5,8.3,10.3,9.1,9.6,8.0,9.3,7.1,8.6,7.7,8.9,8.9,6.2],\"xaxis\":\"x\",\"y\":[24.0,37.0,34.0,29.0,26.0,39.0,27.0,26.0,40.0,41.0,24.0,32.0,40.0,31.0,34.0,30.0,32.0,34.0,41.0,33.0,34.0,30.0,30.0,37.0,34.0,32.0,31.0,30.0,41.0,36.0,34.0,36.0,37.0,31.0,31.0,28.0,29.0,32.0,28.0,35.0,32.0,34.0,29.0,34.0,26.0,32.0,29.0,34.0,37.0,27.0],\"yaxis\":\"y\",\"type\":\"scatter\"},{\"hovertemplate\":\"\\u003cb\\u003eOLS trendline\\u003c\\u002fb\\u003e\\u003cbr\\u003e2020-21 = 1.36184 * food_ins_pre + 17.734\\u003cbr\\u003eR\\u003csup\\u003e2\\u003c\\u002fsup\\u003e=0.478713\\u003cbr\\u003e\\u003cbr\\u003efood_ins_pre=%{x}\\u003cbr\\u003e2020-21=%{y} \\u003cb\\u003e(trend)\\u003c\\u002fb\\u003e\\u003cextra\\u003e\\u003c\\u002fextra\\u003e\",\"legendgroup\":\"\",\"marker\":{\"color\":\"#636efa\",\"symbol\":\"circle\"},\"mode\":\"lines\",\"name\":\"\",\"showlegend\":false,\"x\":[6.2,7.1,7.7,8.0,8.3,8.5,8.6,8.8,8.9,8.9,8.9,9.1,9.3,9.5,9.5,9.6,9.6,9.6,10.1,10.1,10.1,10.2,10.3,10.5,10.6,10.7,10.7,10.7,11.2,11.2,11.3,11.3,11.4,11.4,11.5,11.5,11.5,11.7,11.9,12.1,12.2,12.4,13.1,14.2,14.3,14.5,15.2,15.3,15.5,16.6],\"xaxis\":\"x\",\"y\":[26.17741310934782,27.403067431211902,28.220170312454623,28.628721753075983,29.037273193697345,29.30964082077825,29.445824634318704,29.71819226139961,29.854376074940063,29.854376074940063,29.854376074940063,30.126743702020967,30.399111329101878,30.67147895618278,30.67147895618278,30.807662769723237,30.807662769723237,30.807662769723237,31.488581837425503,31.488581837425503,31.488581837425503,31.624765650965955,31.76094946450641,32.03331709158732,32.16950090512777,32.305684718668225,32.305684718668225,32.305684718668225,32.98660378637049,32.98660378637049,33.12278759991094,33.12278759991094,33.2589714134514,33.2589714134514,33.395155226991854,33.395155226991854,33.395155226991854,33.66752285407276,33.93989048115367,34.21225810823457,34.34844192177502,34.62080954885593,35.574096243639104,37.07211819258409,37.20830200612455,37.48066963320545,38.433956327988625,38.57014014152908,38.84250776860999,40.34052971755497],\"yaxis\":\"y\",\"type\":\"scatter\"}],                        {\"template\":{\"data\":{\"barpolar\":[{\"marker\":{\"line\":{\"color\":\"white\",\"width\":0.5},\"pattern\":{\"fillmode\":\"overlay\",\"size\":10,\"solidity\":0.2}},\"type\":\"barpolar\"}],\"bar\":[{\"error_x\":{\"color\":\"#2a3f5f\"},\"error_y\":{\"color\":\"#2a3f5f\"},\"marker\":{\"line\":{\"color\":\"white\",\"width\":0.5},\"pattern\":{\"fillmode\":\"overlay\",\"size\":10,\"solidity\":0.2}},\"type\":\"bar\"}],\"carpet\":[{\"aaxis\":{\"endlinecolor\":\"#2a3f5f\",\"gridcolor\":\"#C8D4E3\",\"linecolor\":\"#C8D4E3\",\"minorgridcolor\":\"#C8D4E3\",\"startlinecolor\":\"#2a3f5f\"},\"baxis\":{\"endlinecolor\":\"#2a3f5f\",\"gridcolor\":\"#C8D4E3\",\"linecolor\":\"#C8D4E3\",\"minorgridcolor\":\"#C8D4E3\",\"startlinecolor\":\"#2a3f5f\"},\"type\":\"carpet\"}],\"choropleth\":[{\"colorbar\":{\"outlinewidth\":0,\"ticks\":\"\"},\"type\":\"choropleth\"}],\"contourcarpet\":[{\"colorbar\":{\"outlinewidth\":0,\"ticks\":\"\"},\"type\":\"contourcarpet\"}],\"contour\":[{\"colorbar\":{\"outlinewidth\":0,\"ticks\":\"\"},\"colorscale\":[[0.0,\"#0d0887\"],[0.1111111111111111,\"#46039f\"],[0.2222222222222222,\"#7201a8\"],[0.3333333333333333,\"#9c179e\"],[0.4444444444444444,\"#bd3786\"],[0.5555555555555556,\"#d8576b\"],[0.6666666666666666,\"#ed7953\"],[0.7777777777777778,\"#fb9f3a\"],[0.8888888888888888,\"#fdca26\"],[1.0,\"#f0f921\"]],\"type\":\"contour\"}],\"heatmapgl\":[{\"colorbar\":{\"outlinewidth\":0,\"ticks\":\"\"},\"colorscale\":[[0.0,\"#0d0887\"],[0.1111111111111111,\"#46039f\"],[0.2222222222222222,\"#7201a8\"],[0.3333333333333333,\"#9c179e\"],[0.4444444444444444,\"#bd3786\"],[0.5555555555555556,\"#d8576b\"],[0.6666666666666666,\"#ed7953\"],[0.7777777777777778,\"#fb9f3a\"],[0.8888888888888888,\"#fdca26\"],[1.0,\"#f0f921\"]],\"type\":\"heatmapgl\"}],\"heatmap\":[{\"colorbar\":{\"outlinewidth\":0,\"ticks\":\"\"},\"colorscale\":[[0.0,\"#0d0887\"],[0.1111111111111111,\"#46039f\"],[0.2222222222222222,\"#7201a8\"],[0.3333333333333333,\"#9c179e\"],[0.4444444444444444,\"#bd3786\"],[0.5555555555555556,\"#d8576b\"],[0.6666666666666666,\"#ed7953\"],[0.7777777777777778,\"#fb9f3a\"],[0.8888888888888888,\"#fdca26\"],[1.0,\"#f0f921\"]],\"type\":\"heatmap\"}],\"histogram2dcontour\":[{\"colorbar\":{\"outlinewidth\":0,\"ticks\":\"\"},\"colorscale\":[[0.0,\"#0d0887\"],[0.1111111111111111,\"#46039f\"],[0.2222222222222222,\"#7201a8\"],[0.3333333333333333,\"#9c179e\"],[0.4444444444444444,\"#bd3786\"],[0.5555555555555556,\"#d8576b\"],[0.6666666666666666,\"#ed7953\"],[0.7777777777777778,\"#fb9f3a\"],[0.8888888888888888,\"#fdca26\"],[1.0,\"#f0f921\"]],\"type\":\"histogram2dcontour\"}],\"histogram2d\":[{\"colorbar\":{\"outlinewidth\":0,\"ticks\":\"\"},\"colorscale\":[[0.0,\"#0d0887\"],[0.1111111111111111,\"#46039f\"],[0.2222222222222222,\"#7201a8\"],[0.3333333333333333,\"#9c179e\"],[0.4444444444444444,\"#bd3786\"],[0.5555555555555556,\"#d8576b\"],[0.6666666666666666,\"#ed7953\"],[0.7777777777777778,\"#fb9f3a\"],[0.8888888888888888,\"#fdca26\"],[1.0,\"#f0f921\"]],\"type\":\"histogram2d\"}],\"histogram\":[{\"marker\":{\"pattern\":{\"fillmode\":\"overlay\",\"size\":10,\"solidity\":0.2}},\"type\":\"histogram\"}],\"mesh3d\":[{\"colorbar\":{\"outlinewidth\":0,\"ticks\":\"\"},\"type\":\"mesh3d\"}],\"parcoords\":[{\"line\":{\"colorbar\":{\"outlinewidth\":0,\"ticks\":\"\"}},\"type\":\"parcoords\"}],\"pie\":[{\"automargin\":true,\"type\":\"pie\"}],\"scatter3d\":[{\"line\":{\"colorbar\":{\"outlinewidth\":0,\"ticks\":\"\"}},\"marker\":{\"colorbar\":{\"outlinewidth\":0,\"ticks\":\"\"}},\"type\":\"scatter3d\"}],\"scattercarpet\":[{\"marker\":{\"colorbar\":{\"outlinewidth\":0,\"ticks\":\"\"}},\"type\":\"scattercarpet\"}],\"scattergeo\":[{\"marker\":{\"colorbar\":{\"outlinewidth\":0,\"ticks\":\"\"}},\"type\":\"scattergeo\"}],\"scattergl\":[{\"marker\":{\"colorbar\":{\"outlinewidth\":0,\"ticks\":\"\"}},\"type\":\"scattergl\"}],\"scattermapbox\":[{\"marker\":{\"colorbar\":{\"outlinewidth\":0,\"ticks\":\"\"}},\"type\":\"scattermapbox\"}],\"scatterpolargl\":[{\"marker\":{\"colorbar\":{\"outlinewidth\":0,\"ticks\":\"\"}},\"type\":\"scatterpolargl\"}],\"scatterpolar\":[{\"marker\":{\"colorbar\":{\"outlinewidth\":0,\"ticks\":\"\"}},\"type\":\"scatterpolar\"}],\"scatter\":[{\"fillpattern\":{\"fillmode\":\"overlay\",\"size\":10,\"solidity\":0.2},\"type\":\"scatter\"}],\"scatterternary\":[{\"marker\":{\"colorbar\":{\"outlinewidth\":0,\"ticks\":\"\"}},\"type\":\"scatterternary\"}],\"surface\":[{\"colorbar\":{\"outlinewidth\":0,\"ticks\":\"\"},\"colorscale\":[[0.0,\"#0d0887\"],[0.1111111111111111,\"#46039f\"],[0.2222222222222222,\"#7201a8\"],[0.3333333333333333,\"#9c179e\"],[0.4444444444444444,\"#bd3786\"],[0.5555555555555556,\"#d8576b\"],[0.6666666666666666,\"#ed7953\"],[0.7777777777777778,\"#fb9f3a\"],[0.8888888888888888,\"#fdca26\"],[1.0,\"#f0f921\"]],\"type\":\"surface\"}],\"table\":[{\"cells\":{\"fill\":{\"color\":\"#EBF0F8\"},\"line\":{\"color\":\"white\"}},\"header\":{\"fill\":{\"color\":\"#C8D4E3\"},\"line\":{\"color\":\"white\"}},\"type\":\"table\"}]},\"layout\":{\"annotationdefaults\":{\"arrowcolor\":\"#2a3f5f\",\"arrowhead\":0,\"arrowwidth\":1},\"autotypenumbers\":\"strict\",\"coloraxis\":{\"colorbar\":{\"outlinewidth\":0,\"ticks\":\"\"}},\"colorscale\":{\"diverging\":[[0,\"#8e0152\"],[0.1,\"#c51b7d\"],[0.2,\"#de77ae\"],[0.3,\"#f1b6da\"],[0.4,\"#fde0ef\"],[0.5,\"#f7f7f7\"],[0.6,\"#e6f5d0\"],[0.7,\"#b8e186\"],[0.8,\"#7fbc41\"],[0.9,\"#4d9221\"],[1,\"#276419\"]],\"sequential\":[[0.0,\"#0d0887\"],[0.1111111111111111,\"#46039f\"],[0.2222222222222222,\"#7201a8\"],[0.3333333333333333,\"#9c179e\"],[0.4444444444444444,\"#bd3786\"],[0.5555555555555556,\"#d8576b\"],[0.6666666666666666,\"#ed7953\"],[0.7777777777777778,\"#fb9f3a\"],[0.8888888888888888,\"#fdca26\"],[1.0,\"#f0f921\"]],\"sequentialminus\":[[0.0,\"#0d0887\"],[0.1111111111111111,\"#46039f\"],[0.2222222222222222,\"#7201a8\"],[0.3333333333333333,\"#9c179e\"],[0.4444444444444444,\"#bd3786\"],[0.5555555555555556,\"#d8576b\"],[0.6666666666666666,\"#ed7953\"],[0.7777777777777778,\"#fb9f3a\"],[0.8888888888888888,\"#fdca26\"],[1.0,\"#f0f921\"]]},\"colorway\":[\"#636efa\",\"#EF553B\",\"#00cc96\",\"#ab63fa\",\"#FFA15A\",\"#19d3f3\",\"#FF6692\",\"#B6E880\",\"#FF97FF\",\"#FECB52\"],\"font\":{\"color\":\"#2a3f5f\"},\"geo\":{\"bgcolor\":\"white\",\"lakecolor\":\"white\",\"landcolor\":\"white\",\"showlakes\":true,\"showland\":true,\"subunitcolor\":\"#C8D4E3\"},\"hoverlabel\":{\"align\":\"left\"},\"hovermode\":\"closest\",\"mapbox\":{\"style\":\"light\"},\"paper_bgcolor\":\"white\",\"plot_bgcolor\":\"white\",\"polar\":{\"angularaxis\":{\"gridcolor\":\"#EBF0F8\",\"linecolor\":\"#EBF0F8\",\"ticks\":\"\"},\"bgcolor\":\"white\",\"radialaxis\":{\"gridcolor\":\"#EBF0F8\",\"linecolor\":\"#EBF0F8\",\"ticks\":\"\"}},\"scene\":{\"xaxis\":{\"backgroundcolor\":\"white\",\"gridcolor\":\"#DFE8F3\",\"gridwidth\":2,\"linecolor\":\"#EBF0F8\",\"showbackground\":true,\"ticks\":\"\",\"zerolinecolor\":\"#EBF0F8\"},\"yaxis\":{\"backgroundcolor\":\"white\",\"gridcolor\":\"#DFE8F3\",\"gridwidth\":2,\"linecolor\":\"#EBF0F8\",\"showbackground\":true,\"ticks\":\"\",\"zerolinecolor\":\"#EBF0F8\"},\"zaxis\":{\"backgroundcolor\":\"white\",\"gridcolor\":\"#DFE8F3\",\"gridwidth\":2,\"linecolor\":\"#EBF0F8\",\"showbackground\":true,\"ticks\":\"\",\"zerolinecolor\":\"#EBF0F8\"}},\"shapedefaults\":{\"line\":{\"color\":\"#2a3f5f\"}},\"ternary\":{\"aaxis\":{\"gridcolor\":\"#DFE8F3\",\"linecolor\":\"#A2B1C6\",\"ticks\":\"\"},\"baxis\":{\"gridcolor\":\"#DFE8F3\",\"linecolor\":\"#A2B1C6\",\"ticks\":\"\"},\"bgcolor\":\"white\",\"caxis\":{\"gridcolor\":\"#DFE8F3\",\"linecolor\":\"#A2B1C6\",\"ticks\":\"\"}},\"title\":{\"x\":0.05},\"xaxis\":{\"automargin\":true,\"gridcolor\":\"#EBF0F8\",\"linecolor\":\"#EBF0F8\",\"ticks\":\"\",\"title\":{\"standoff\":15},\"zerolinecolor\":\"#EBF0F8\",\"zerolinewidth\":2},\"yaxis\":{\"automargin\":true,\"gridcolor\":\"#EBF0F8\",\"linecolor\":\"#EBF0F8\",\"ticks\":\"\",\"title\":{\"standoff\":15},\"zerolinecolor\":\"#EBF0F8\",\"zerolinewidth\":2}}},\"xaxis\":{\"anchor\":\"y\",\"domain\":[0.0,1.0],\"title\":{\"text\":\"Food Insecurity Percentage\"},\"range\":[0,20]},\"yaxis\":{\"anchor\":\"x\",\"domain\":[0.0,1.0],\"title\":{\"text\":\"Obesity\"},\"range\":[0,42]},\"legend\":{\"tracegroupgap\":0},\"margin\":{\"t\":60},\"font\":{\"family\":\"Times New Roman\"},\"title\":{\"font\":{\"size\":22,\"color\":\"crimson\",\"family\":\"Helvetica\"},\"text\":\"Food Insecurity Directly Correlates with Child and Teen Obesity\"},\"height\":800,\"width\":1000},                        {\"responsive\": true}                    ).then(function(){\n",
              "                            \n",
              "var gd = document.getElementById('e31355a7-9076-4d25-8cfd-f46ad9657e9e');\n",
              "var x = new MutationObserver(function (mutations, observer) {{\n",
              "        var display = window.getComputedStyle(gd).display;\n",
              "        if (!display || display === 'none') {{\n",
              "            console.log([gd, 'removed!']);\n",
              "            Plotly.purge(gd);\n",
              "            observer.disconnect();\n",
              "        }}\n",
              "}});\n",
              "\n",
              "// Listen for the removal of the full notebook cells\n",
              "var notebookContainer = gd.closest('#notebook-container');\n",
              "if (notebookContainer) {{\n",
              "    x.observe(notebookContainer, {childList: true});\n",
              "}}\n",
              "\n",
              "// Listen for the clearing of the current output cell\n",
              "var outputEl = gd.closest('.output');\n",
              "if (outputEl) {{\n",
              "    x.observe(outputEl, {childList: true});\n",
              "}}\n",
              "\n",
              "                        })                };                            </script>        </div>\n",
              "</body>\n",
              "</html>"
            ]
          },
          "metadata": {}
        },
        {
          "output_type": "display_data",
          "data": {
            "text/plain": [
              "<IPython.core.display.Javascript object>"
            ],
            "application/javascript": [
              "\n",
              "    async function download(id, filename, size) {\n",
              "      if (!google.colab.kernel.accessAllowed) {\n",
              "        return;\n",
              "      }\n",
              "      const div = document.createElement('div');\n",
              "      const label = document.createElement('label');\n",
              "      label.textContent = `Downloading \"${filename}\": `;\n",
              "      div.appendChild(label);\n",
              "      const progress = document.createElement('progress');\n",
              "      progress.max = size;\n",
              "      div.appendChild(progress);\n",
              "      document.body.appendChild(div);\n",
              "\n",
              "      const buffers = [];\n",
              "      let downloaded = 0;\n",
              "\n",
              "      const channel = await google.colab.kernel.comms.open(id);\n",
              "      // Send a message to notify the kernel that we're ready.\n",
              "      channel.send({})\n",
              "\n",
              "      for await (const message of channel.messages) {\n",
              "        // Send a message to notify the kernel that we're ready.\n",
              "        channel.send({})\n",
              "        if (message.buffers) {\n",
              "          for (const buffer of message.buffers) {\n",
              "            buffers.push(buffer);\n",
              "            downloaded += buffer.byteLength;\n",
              "            progress.value = downloaded;\n",
              "          }\n",
              "        }\n",
              "      }\n",
              "      const blob = new Blob(buffers, {type: 'application/binary'});\n",
              "      const a = document.createElement('a');\n",
              "      a.href = window.URL.createObjectURL(blob);\n",
              "      a.download = filename;\n",
              "      div.appendChild(a);\n",
              "      a.click();\n",
              "      div.remove();\n",
              "    }\n",
              "  "
            ]
          },
          "metadata": {}
        },
        {
          "output_type": "display_data",
          "data": {
            "text/plain": [
              "<IPython.core.display.Javascript object>"
            ],
            "application/javascript": [
              "download(\"download_7c70ac67-3d4c-4ab2-9853-e9558ae23908\", \"Food Insecurity Directly Correlates with Child and Teen Obesity.png\", 53529)"
            ]
          },
          "metadata": {}
        }
      ]
    },
    {
      "cell_type": "code",
      "source": [
        "colorscale = [\"rgb(255, 51, 51)\", \"rgb(210, 231, 154)\", \"rgb(94, 179, 39)\", \"rgb(67, 136, 33)\", \"rgb(33, 74, 12)\"]\n",
        "\n",
        "fig = px.choropleth(final, locations = 'Abbreviation',\n",
        "                    color = '2020-21',\n",
        "                    locationmode = 'USA-states',\n",
        "                    color_continuous_scale='reds',\n",
        "                    title = \"Obesity By State\", hover_data=[\"state\",\"2020-21\", \"poverty\", \"food_ins_pre\"])\n",
        "fig.add_scattergeo(\n",
        "    locations=final['Abbreviation'],\n",
        "    locationmode=\"USA-states\",\n",
        "    text=final[[\n",
        "                'Abbreviation']],\n",
        "    mode='text',\n",
        ")\n",
        "\n",
        "fig.update_layout(\n",
        "                  geo_scope = 'usa',font_family=\"Times New Roman\",\n",
        "                  title_font_family=\"Times New Roman\",\n",
        "                  title_font_color=\"black\",\n",
        "\n",
        "                  height=1000,  # Set the height in pixels\n",
        "    width=1600 ,font_color = 'darkgreen',legend_title_font_color=\"black\",\n",
        "coloraxis_colorbar=dict(title='Obesity Percentage')\n",
        "    )\n",
        "\n",
        "\n",
        "\n",
        "\n",
        "fig.show()"
      ],
      "metadata": {
        "id": "CcAoN9OPaI4o",
        "colab": {
          "base_uri": "https://localhost:8080/",
          "height": 1000
        },
        "outputId": "6eac364d-760b-4d24-ebb8-58c0996e6e78"
      },
      "execution_count": 46,
      "outputs": [
        {
          "output_type": "display_data",
          "data": {
            "text/html": [
              "<html>\n",
              "<head><meta charset=\"utf-8\" /></head>\n",
              "<body>\n",
              "    <div>            <script src=\"https://cdnjs.cloudflare.com/ajax/libs/mathjax/2.7.5/MathJax.js?config=TeX-AMS-MML_SVG\"></script><script type=\"text/javascript\">if (window.MathJax && window.MathJax.Hub && window.MathJax.Hub.Config) {window.MathJax.Hub.Config({SVG: {font: \"STIX-Web\"}});}</script>                <script type=\"text/javascript\">window.PlotlyConfig = {MathJaxConfig: 'local'};</script>\n",
              "        <script charset=\"utf-8\" src=\"https://cdn.plot.ly/plotly-2.27.0.min.js\"></script>                <div id=\"e2a25fb8-2934-4f4e-b630-fc64f3a93c12\" class=\"plotly-graph-div\" style=\"height:1000px; width:1600px;\"></div>            <script type=\"text/javascript\">                                    window.PLOTLYENV=window.PLOTLYENV || {};                                    if (document.getElementById(\"e2a25fb8-2934-4f4e-b630-fc64f3a93c12\")) {                    Plotly.newPlot(                        \"e2a25fb8-2934-4f4e-b630-fc64f3a93c12\",                        [{\"coloraxis\":\"coloraxis\",\"customdata\":[[\"Wyoming\",24.0,10.6,11.4],[\"Arkansas\",37.0,16.0,16.6],[\"Oklahoma\",34.0,15.4,14.3],[\"Nebraska\",29.0,10.5,12.1],[\"Utah\",26.0,8.7,10.7],[\"Louisiana\",39.0,19.5,15.2],[\"Idaho\",27.0,10.8,10.5],[\"Montana\",26.0,12.0,10.1],[\"Texas\",40.0,14.2,15.5],[\"Mississippi\",41.0,19.2,15.3],[\"Colorado\",24.0,9.7,8.9],[\"Nevada\",32.0,14.0,11.7],[\"South Carolina\",40.0,14.5,14.5],[\"Oregon\",31.0,12.2,11.2],[\"Missouri\",34.0,12.8,12.2],[\"Indiana\",30.0,12.1,10.7],[\"New York\",32.0,14.0,11.3],[\"Michigan\",34.0,13.0,11.9],[\"West Virginia\",41.0,16.8,14.2],[\"Florida\",33.0,13.2,11.4],[\"Ohio\",34.0,13.3,11.5],[\"Maine\",30.0,11.2,10.1],[\"Pennsylvania\",30.0,12.0,10.1],[\"Alabama\",37.0,16.3,12.4],[\"Georgia\",34.0,14.2,11.3],[\"Illinois\",32.0,12.1,10.6],[\"Arizona\",31.0,12.9,10.2],[\"Kansas\",30.0,11.6,9.6],[\"Kentucky\",41.0,16.3,13.1],[\"Delaware\",36.0,11.5,11.5],[\"North Carolina\",34.0,13.5,10.7],[\"New Mexico\",36.0,17.7,11.2],[\"Tennessee\",37.0,13.7,11.5],[\"Wisconsin\",31.0,10.8,9.6],[\"Alaska\",31.0,10.8,9.5],[\"Massachusetts\",28.0,10.4,8.5],[\"New Jersey\",29.0,10.2,8.8],[\"Maryland\",32.0,10.3,9.5],[\"Washington\",28.0,9.9,8.3],[\"California\",35.0,12.3,10.3],[\"Hawaii\",32.0,10.9,9.1],[\"Connecticut\",34.0,10.1,9.6],[\"Vermont\",29.0,10.2,8.0],[\"Virginia\",34.0,10.3,9.3],[\"Minnesota\",26.0,9.3,7.1],[\"Rhode Island\",32.0,12.1,8.6],[\"North Dakota\",29.0,10.9,7.7],[\"Iowa\",34.0,11.0,8.9],[\"South Dakota\",37.0,11.9,8.9],[\"New Hampshire\",27.0,7.4,6.2]],\"geo\":\"geo\",\"hovertemplate\":\"Abbreviation=%{location}\\u003cbr\\u003estate=%{customdata[0]}\\u003cbr\\u003e2020-21=%{z}\\u003cbr\\u003epoverty=%{customdata[2]}\\u003cbr\\u003efood_ins_pre=%{customdata[3]}\\u003cextra\\u003e\\u003c\\u002fextra\\u003e\",\"locationmode\":\"USA-states\",\"locations\":[\"WY\",\"AR\",\"OK\",\"NE\",\"UT\",\"LA\",\"ID\",\"MT\",\"TX\",\"MS\",\"CO\",\"NV\",\"SC\",\"OR\",\"MO\",\"IN\",\"NY\",\"MI\",\"WV\",\"FL\",\"OH\",\"ME\",\"PA\",\"AL\",\"GA\",\"IL\",\"AZ\",\"KS\",\"KY\",\"DE\",\"NC\",\"NM\",\"TN\",\"WI\",\"AK\",\"MA\",\"NJ\",\"MD\",\"WA\",\"CA\",\"HI\",\"CT\",\"VT\",\"VA\",\"MN\",\"RI\",\"ND\",\"IA\",\"SD\",\"NH\"],\"name\":\"\",\"z\":[24.0,37.0,34.0,29.0,26.0,39.0,27.0,26.0,40.0,41.0,24.0,32.0,40.0,31.0,34.0,30.0,32.0,34.0,41.0,33.0,34.0,30.0,30.0,37.0,34.0,32.0,31.0,30.0,41.0,36.0,34.0,36.0,37.0,31.0,31.0,28.0,29.0,32.0,28.0,35.0,32.0,34.0,29.0,34.0,26.0,32.0,29.0,34.0,37.0,27.0],\"type\":\"choropleth\"},{\"locationmode\":\"USA-states\",\"locations\":[\"WY\",\"AR\",\"OK\",\"NE\",\"UT\",\"LA\",\"ID\",\"MT\",\"TX\",\"MS\",\"CO\",\"NV\",\"SC\",\"OR\",\"MO\",\"IN\",\"NY\",\"MI\",\"WV\",\"FL\",\"OH\",\"ME\",\"PA\",\"AL\",\"GA\",\"IL\",\"AZ\",\"KS\",\"KY\",\"DE\",\"NC\",\"NM\",\"TN\",\"WI\",\"AK\",\"MA\",\"NJ\",\"MD\",\"WA\",\"CA\",\"HI\",\"CT\",\"VT\",\"VA\",\"MN\",\"RI\",\"ND\",\"IA\",\"SD\",\"NH\"],\"mode\":\"text\",\"text\":[[\"WY\"],[\"AR\"],[\"OK\"],[\"NE\"],[\"UT\"],[\"LA\"],[\"ID\"],[\"MT\"],[\"TX\"],[\"MS\"],[\"CO\"],[\"NV\"],[\"SC\"],[\"OR\"],[\"MO\"],[\"IN\"],[\"NY\"],[\"MI\"],[\"WV\"],[\"FL\"],[\"OH\"],[\"ME\"],[\"PA\"],[\"AL\"],[\"GA\"],[\"IL\"],[\"AZ\"],[\"KS\"],[\"KY\"],[\"DE\"],[\"NC\"],[\"NM\"],[\"TN\"],[\"WI\"],[\"AK\"],[\"MA\"],[\"NJ\"],[\"MD\"],[\"WA\"],[\"CA\"],[\"HI\"],[\"CT\"],[\"VT\"],[\"VA\"],[\"MN\"],[\"RI\"],[\"ND\"],[\"IA\"],[\"SD\"],[\"NH\"]],\"type\":\"scattergeo\"}],                        {\"template\":{\"data\":{\"histogram2dcontour\":[{\"type\":\"histogram2dcontour\",\"colorbar\":{\"outlinewidth\":0,\"ticks\":\"\"},\"colorscale\":[[0.0,\"#0d0887\"],[0.1111111111111111,\"#46039f\"],[0.2222222222222222,\"#7201a8\"],[0.3333333333333333,\"#9c179e\"],[0.4444444444444444,\"#bd3786\"],[0.5555555555555556,\"#d8576b\"],[0.6666666666666666,\"#ed7953\"],[0.7777777777777778,\"#fb9f3a\"],[0.8888888888888888,\"#fdca26\"],[1.0,\"#f0f921\"]]}],\"choropleth\":[{\"type\":\"choropleth\",\"colorbar\":{\"outlinewidth\":0,\"ticks\":\"\"}}],\"histogram2d\":[{\"type\":\"histogram2d\",\"colorbar\":{\"outlinewidth\":0,\"ticks\":\"\"},\"colorscale\":[[0.0,\"#0d0887\"],[0.1111111111111111,\"#46039f\"],[0.2222222222222222,\"#7201a8\"],[0.3333333333333333,\"#9c179e\"],[0.4444444444444444,\"#bd3786\"],[0.5555555555555556,\"#d8576b\"],[0.6666666666666666,\"#ed7953\"],[0.7777777777777778,\"#fb9f3a\"],[0.8888888888888888,\"#fdca26\"],[1.0,\"#f0f921\"]]}],\"heatmap\":[{\"type\":\"heatmap\",\"colorbar\":{\"outlinewidth\":0,\"ticks\":\"\"},\"colorscale\":[[0.0,\"#0d0887\"],[0.1111111111111111,\"#46039f\"],[0.2222222222222222,\"#7201a8\"],[0.3333333333333333,\"#9c179e\"],[0.4444444444444444,\"#bd3786\"],[0.5555555555555556,\"#d8576b\"],[0.6666666666666666,\"#ed7953\"],[0.7777777777777778,\"#fb9f3a\"],[0.8888888888888888,\"#fdca26\"],[1.0,\"#f0f921\"]]}],\"heatmapgl\":[{\"type\":\"heatmapgl\",\"colorbar\":{\"outlinewidth\":0,\"ticks\":\"\"},\"colorscale\":[[0.0,\"#0d0887\"],[0.1111111111111111,\"#46039f\"],[0.2222222222222222,\"#7201a8\"],[0.3333333333333333,\"#9c179e\"],[0.4444444444444444,\"#bd3786\"],[0.5555555555555556,\"#d8576b\"],[0.6666666666666666,\"#ed7953\"],[0.7777777777777778,\"#fb9f3a\"],[0.8888888888888888,\"#fdca26\"],[1.0,\"#f0f921\"]]}],\"contourcarpet\":[{\"type\":\"contourcarpet\",\"colorbar\":{\"outlinewidth\":0,\"ticks\":\"\"}}],\"contour\":[{\"type\":\"contour\",\"colorbar\":{\"outlinewidth\":0,\"ticks\":\"\"},\"colorscale\":[[0.0,\"#0d0887\"],[0.1111111111111111,\"#46039f\"],[0.2222222222222222,\"#7201a8\"],[0.3333333333333333,\"#9c179e\"],[0.4444444444444444,\"#bd3786\"],[0.5555555555555556,\"#d8576b\"],[0.6666666666666666,\"#ed7953\"],[0.7777777777777778,\"#fb9f3a\"],[0.8888888888888888,\"#fdca26\"],[1.0,\"#f0f921\"]]}],\"surface\":[{\"type\":\"surface\",\"colorbar\":{\"outlinewidth\":0,\"ticks\":\"\"},\"colorscale\":[[0.0,\"#0d0887\"],[0.1111111111111111,\"#46039f\"],[0.2222222222222222,\"#7201a8\"],[0.3333333333333333,\"#9c179e\"],[0.4444444444444444,\"#bd3786\"],[0.5555555555555556,\"#d8576b\"],[0.6666666666666666,\"#ed7953\"],[0.7777777777777778,\"#fb9f3a\"],[0.8888888888888888,\"#fdca26\"],[1.0,\"#f0f921\"]]}],\"mesh3d\":[{\"type\":\"mesh3d\",\"colorbar\":{\"outlinewidth\":0,\"ticks\":\"\"}}],\"scatter\":[{\"fillpattern\":{\"fillmode\":\"overlay\",\"size\":10,\"solidity\":0.2},\"type\":\"scatter\"}],\"parcoords\":[{\"type\":\"parcoords\",\"line\":{\"colorbar\":{\"outlinewidth\":0,\"ticks\":\"\"}}}],\"scatterpolargl\":[{\"type\":\"scatterpolargl\",\"marker\":{\"colorbar\":{\"outlinewidth\":0,\"ticks\":\"\"}}}],\"bar\":[{\"error_x\":{\"color\":\"#2a3f5f\"},\"error_y\":{\"color\":\"#2a3f5f\"},\"marker\":{\"line\":{\"color\":\"#E5ECF6\",\"width\":0.5},\"pattern\":{\"fillmode\":\"overlay\",\"size\":10,\"solidity\":0.2}},\"type\":\"bar\"}],\"scattergeo\":[{\"type\":\"scattergeo\",\"marker\":{\"colorbar\":{\"outlinewidth\":0,\"ticks\":\"\"}}}],\"scatterpolar\":[{\"type\":\"scatterpolar\",\"marker\":{\"colorbar\":{\"outlinewidth\":0,\"ticks\":\"\"}}}],\"histogram\":[{\"marker\":{\"pattern\":{\"fillmode\":\"overlay\",\"size\":10,\"solidity\":0.2}},\"type\":\"histogram\"}],\"scattergl\":[{\"type\":\"scattergl\",\"marker\":{\"colorbar\":{\"outlinewidth\":0,\"ticks\":\"\"}}}],\"scatter3d\":[{\"type\":\"scatter3d\",\"line\":{\"colorbar\":{\"outlinewidth\":0,\"ticks\":\"\"}},\"marker\":{\"colorbar\":{\"outlinewidth\":0,\"ticks\":\"\"}}}],\"scattermapbox\":[{\"type\":\"scattermapbox\",\"marker\":{\"colorbar\":{\"outlinewidth\":0,\"ticks\":\"\"}}}],\"scatterternary\":[{\"type\":\"scatterternary\",\"marker\":{\"colorbar\":{\"outlinewidth\":0,\"ticks\":\"\"}}}],\"scattercarpet\":[{\"type\":\"scattercarpet\",\"marker\":{\"colorbar\":{\"outlinewidth\":0,\"ticks\":\"\"}}}],\"carpet\":[{\"aaxis\":{\"endlinecolor\":\"#2a3f5f\",\"gridcolor\":\"white\",\"linecolor\":\"white\",\"minorgridcolor\":\"white\",\"startlinecolor\":\"#2a3f5f\"},\"baxis\":{\"endlinecolor\":\"#2a3f5f\",\"gridcolor\":\"white\",\"linecolor\":\"white\",\"minorgridcolor\":\"white\",\"startlinecolor\":\"#2a3f5f\"},\"type\":\"carpet\"}],\"table\":[{\"cells\":{\"fill\":{\"color\":\"#EBF0F8\"},\"line\":{\"color\":\"white\"}},\"header\":{\"fill\":{\"color\":\"#C8D4E3\"},\"line\":{\"color\":\"white\"}},\"type\":\"table\"}],\"barpolar\":[{\"marker\":{\"line\":{\"color\":\"#E5ECF6\",\"width\":0.5},\"pattern\":{\"fillmode\":\"overlay\",\"size\":10,\"solidity\":0.2}},\"type\":\"barpolar\"}],\"pie\":[{\"automargin\":true,\"type\":\"pie\"}]},\"layout\":{\"autotypenumbers\":\"strict\",\"colorway\":[\"#636efa\",\"#EF553B\",\"#00cc96\",\"#ab63fa\",\"#FFA15A\",\"#19d3f3\",\"#FF6692\",\"#B6E880\",\"#FF97FF\",\"#FECB52\"],\"font\":{\"color\":\"#2a3f5f\"},\"hovermode\":\"closest\",\"hoverlabel\":{\"align\":\"left\"},\"paper_bgcolor\":\"white\",\"plot_bgcolor\":\"#E5ECF6\",\"polar\":{\"bgcolor\":\"#E5ECF6\",\"angularaxis\":{\"gridcolor\":\"white\",\"linecolor\":\"white\",\"ticks\":\"\"},\"radialaxis\":{\"gridcolor\":\"white\",\"linecolor\":\"white\",\"ticks\":\"\"}},\"ternary\":{\"bgcolor\":\"#E5ECF6\",\"aaxis\":{\"gridcolor\":\"white\",\"linecolor\":\"white\",\"ticks\":\"\"},\"baxis\":{\"gridcolor\":\"white\",\"linecolor\":\"white\",\"ticks\":\"\"},\"caxis\":{\"gridcolor\":\"white\",\"linecolor\":\"white\",\"ticks\":\"\"}},\"coloraxis\":{\"colorbar\":{\"outlinewidth\":0,\"ticks\":\"\"}},\"colorscale\":{\"sequential\":[[0.0,\"#0d0887\"],[0.1111111111111111,\"#46039f\"],[0.2222222222222222,\"#7201a8\"],[0.3333333333333333,\"#9c179e\"],[0.4444444444444444,\"#bd3786\"],[0.5555555555555556,\"#d8576b\"],[0.6666666666666666,\"#ed7953\"],[0.7777777777777778,\"#fb9f3a\"],[0.8888888888888888,\"#fdca26\"],[1.0,\"#f0f921\"]],\"sequentialminus\":[[0.0,\"#0d0887\"],[0.1111111111111111,\"#46039f\"],[0.2222222222222222,\"#7201a8\"],[0.3333333333333333,\"#9c179e\"],[0.4444444444444444,\"#bd3786\"],[0.5555555555555556,\"#d8576b\"],[0.6666666666666666,\"#ed7953\"],[0.7777777777777778,\"#fb9f3a\"],[0.8888888888888888,\"#fdca26\"],[1.0,\"#f0f921\"]],\"diverging\":[[0,\"#8e0152\"],[0.1,\"#c51b7d\"],[0.2,\"#de77ae\"],[0.3,\"#f1b6da\"],[0.4,\"#fde0ef\"],[0.5,\"#f7f7f7\"],[0.6,\"#e6f5d0\"],[0.7,\"#b8e186\"],[0.8,\"#7fbc41\"],[0.9,\"#4d9221\"],[1,\"#276419\"]]},\"xaxis\":{\"gridcolor\":\"white\",\"linecolor\":\"white\",\"ticks\":\"\",\"title\":{\"standoff\":15},\"zerolinecolor\":\"white\",\"automargin\":true,\"zerolinewidth\":2},\"yaxis\":{\"gridcolor\":\"white\",\"linecolor\":\"white\",\"ticks\":\"\",\"title\":{\"standoff\":15},\"zerolinecolor\":\"white\",\"automargin\":true,\"zerolinewidth\":2},\"scene\":{\"xaxis\":{\"backgroundcolor\":\"#E5ECF6\",\"gridcolor\":\"white\",\"linecolor\":\"white\",\"showbackground\":true,\"ticks\":\"\",\"zerolinecolor\":\"white\",\"gridwidth\":2},\"yaxis\":{\"backgroundcolor\":\"#E5ECF6\",\"gridcolor\":\"white\",\"linecolor\":\"white\",\"showbackground\":true,\"ticks\":\"\",\"zerolinecolor\":\"white\",\"gridwidth\":2},\"zaxis\":{\"backgroundcolor\":\"#E5ECF6\",\"gridcolor\":\"white\",\"linecolor\":\"white\",\"showbackground\":true,\"ticks\":\"\",\"zerolinecolor\":\"white\",\"gridwidth\":2}},\"shapedefaults\":{\"line\":{\"color\":\"#2a3f5f\"}},\"annotationdefaults\":{\"arrowcolor\":\"#2a3f5f\",\"arrowhead\":0,\"arrowwidth\":1},\"geo\":{\"bgcolor\":\"white\",\"landcolor\":\"#E5ECF6\",\"subunitcolor\":\"white\",\"showland\":true,\"showlakes\":true,\"lakecolor\":\"white\"},\"title\":{\"x\":0.05},\"mapbox\":{\"style\":\"light\"}}},\"geo\":{\"domain\":{\"x\":[0.0,1.0],\"y\":[0.0,1.0]},\"center\":{},\"scope\":\"usa\"},\"coloraxis\":{\"colorbar\":{\"title\":{\"text\":\"Obesity Percentage\"}},\"colorscale\":[[0.0,\"rgb(255,245,240)\"],[0.125,\"rgb(254,224,210)\"],[0.25,\"rgb(252,187,161)\"],[0.375,\"rgb(252,146,114)\"],[0.5,\"rgb(251,106,74)\"],[0.625,\"rgb(239,59,44)\"],[0.75,\"rgb(203,24,29)\"],[0.875,\"rgb(165,15,21)\"],[1.0,\"rgb(103,0,13)\"]]},\"legend\":{\"tracegroupgap\":0,\"title\":{\"font\":{\"color\":\"black\"}}},\"title\":{\"text\":\"Obesity By State\",\"font\":{\"family\":\"Times New Roman\",\"color\":\"black\"}},\"font\":{\"family\":\"Times New Roman\",\"color\":\"darkgreen\"},\"height\":1000,\"width\":1600},                        {\"responsive\": true}                    ).then(function(){\n",
              "                            \n",
              "var gd = document.getElementById('e2a25fb8-2934-4f4e-b630-fc64f3a93c12');\n",
              "var x = new MutationObserver(function (mutations, observer) {{\n",
              "        var display = window.getComputedStyle(gd).display;\n",
              "        if (!display || display === 'none') {{\n",
              "            console.log([gd, 'removed!']);\n",
              "            Plotly.purge(gd);\n",
              "            observer.disconnect();\n",
              "        }}\n",
              "}});\n",
              "\n",
              "// Listen for the removal of the full notebook cells\n",
              "var notebookContainer = gd.closest('#notebook-container');\n",
              "if (notebookContainer) {{\n",
              "    x.observe(notebookContainer, {childList: true});\n",
              "}}\n",
              "\n",
              "// Listen for the clearing of the current output cell\n",
              "var outputEl = gd.closest('.output');\n",
              "if (outputEl) {{\n",
              "    x.observe(outputEl, {childList: true});\n",
              "}}\n",
              "\n",
              "                        })                };                            </script>        </div>\n",
              "</body>\n",
              "</html>"
            ]
          },
          "metadata": {}
        }
      ]
    }
  ]
}